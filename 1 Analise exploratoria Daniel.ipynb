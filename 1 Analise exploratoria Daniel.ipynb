{
 "cells": [
  {
   "cell_type": "markdown",
   "metadata": {},
   "source": [
    "## TRABALHO DE IAA002 - Linguagem de Programação Aplicada\n",
    "---"
   ]
  },
  {
   "cell_type": "markdown",
   "metadata": {},
   "source": [
    "### Importação das Bibliotecas"
   ]
  },
  {
   "cell_type": "code",
   "execution_count": 2,
   "metadata": {},
   "outputs": [],
   "source": [
    "# Biblioteca Pandas - Manipulação de dados\n",
    "import pandas as pd\n",
    "# Biblioteca Seaborn - Criação de gráficos\n",
    "import seaborn as sns\n",
    "# Biblioteca Matplotlib - Criação de gráficos\n",
    "import matplotlib.pyplot as plt\n",
    "\n",
    "# OPCIONAL - Biblioteca para ignorar mensagens de warning (aviso) ao rodar uma célula de código\n",
    "import warnings\n",
    "warnings.filterwarnings('ignore')\n",
    "\n",
    "# Bibliotecas de machine learning\n",
    "from sklearn.model_selection import train_test_split\n",
    "from sklearn.ensemble import RandomForestRegressor\n",
    "from xgboost import XGBRegressor\n",
    "from sklearn.preprocessing import LabelEncoder\n",
    "\n",
    "# Métricas de avaliação dos modelos\n",
    "from sklearn.metrics import mean_squared_error, mean_absolute_error, r2_score"
   ]
  },
  {
   "cell_type": "markdown",
   "metadata": {},
   "source": [
    "---\n",
    "### 1 Análise exploratória dos dados"
   ]
  },
  {
   "cell_type": "markdown",
   "metadata": {},
   "source": [
    "#### a. Carregue a base de dados media_precos_carros_brasil.csv"
   ]
  },
  {
   "cell_type": "code",
   "execution_count": 19,
   "metadata": {},
   "outputs": [],
   "source": [
    "# Função read_csv para importar os dados da pasta do computador\n",
    "dados = pd.read_csv('database/precos_carros_brasil.csv')"
   ]
  },
  {
   "cell_type": "code",
   "execution_count": 20,
   "metadata": {},
   "outputs": [
    {
     "data": {
      "text/plain": [
       "(267542, 11)"
      ]
     },
     "execution_count": 20,
     "metadata": {},
     "output_type": "execute_result"
    }
   ],
   "source": [
    "# nº de linhas e colunas da tabela\n",
    "linhas_inicial = dados.shape\n",
    "linhas_inicial"
   ]
  },
  {
   "cell_type": "markdown",
   "metadata": {},
   "source": [
    "#### b.1. Verifique se há valores faltantes nos dados. "
   ]
  },
  {
   "cell_type": "code",
   "execution_count": 21,
   "metadata": {},
   "outputs": [
    {
     "data": {
      "text/plain": [
       "year_of_reference     65245\n",
       "month_of_reference    65245\n",
       "fipe_code             65245\n",
       "authentication        65245\n",
       "brand                 65245\n",
       "model                 65245\n",
       "fuel                  65245\n",
       "gear                  65245\n",
       "engine_size           65245\n",
       "year_model            65245\n",
       "avg_price_brl         65245\n",
       "dtype: int64"
      ]
     },
     "execution_count": 21,
     "metadata": {},
     "output_type": "execute_result"
    }
   ],
   "source": [
    "\n",
    "# Verificando se existem valores faltantes nos dados \n",
    "dados.isna().sum()"
   ]
  },
  {
   "cell_type": "code",
   "execution_count": 6,
   "metadata": {},
   "outputs": [
    {
     "data": {
      "text/html": [
       "<div>\n",
       "<style scoped>\n",
       "    .dataframe tbody tr th:only-of-type {\n",
       "        vertical-align: middle;\n",
       "    }\n",
       "\n",
       "    .dataframe tbody tr th {\n",
       "        vertical-align: top;\n",
       "    }\n",
       "\n",
       "    .dataframe thead th {\n",
       "        text-align: right;\n",
       "    }\n",
       "</style>\n",
       "<table border=\"1\" class=\"dataframe\">\n",
       "  <thead>\n",
       "    <tr style=\"text-align: right;\">\n",
       "      <th></th>\n",
       "      <th>year_of_reference</th>\n",
       "      <th>month_of_reference</th>\n",
       "      <th>fipe_code</th>\n",
       "      <th>authentication</th>\n",
       "      <th>brand</th>\n",
       "      <th>model</th>\n",
       "      <th>fuel</th>\n",
       "      <th>gear</th>\n",
       "      <th>engine_size</th>\n",
       "      <th>year_model</th>\n",
       "      <th>avg_price_brl</th>\n",
       "    </tr>\n",
       "  </thead>\n",
       "  <tbody>\n",
       "    <tr>\n",
       "      <th>0</th>\n",
       "      <td>False</td>\n",
       "      <td>False</td>\n",
       "      <td>False</td>\n",
       "      <td>False</td>\n",
       "      <td>False</td>\n",
       "      <td>False</td>\n",
       "      <td>False</td>\n",
       "      <td>False</td>\n",
       "      <td>False</td>\n",
       "      <td>False</td>\n",
       "      <td>False</td>\n",
       "    </tr>\n",
       "    <tr>\n",
       "      <th>1</th>\n",
       "      <td>False</td>\n",
       "      <td>False</td>\n",
       "      <td>False</td>\n",
       "      <td>False</td>\n",
       "      <td>False</td>\n",
       "      <td>False</td>\n",
       "      <td>False</td>\n",
       "      <td>False</td>\n",
       "      <td>False</td>\n",
       "      <td>False</td>\n",
       "      <td>False</td>\n",
       "    </tr>\n",
       "    <tr>\n",
       "      <th>2</th>\n",
       "      <td>False</td>\n",
       "      <td>False</td>\n",
       "      <td>False</td>\n",
       "      <td>False</td>\n",
       "      <td>False</td>\n",
       "      <td>False</td>\n",
       "      <td>False</td>\n",
       "      <td>False</td>\n",
       "      <td>False</td>\n",
       "      <td>False</td>\n",
       "      <td>False</td>\n",
       "    </tr>\n",
       "    <tr>\n",
       "      <th>3</th>\n",
       "      <td>False</td>\n",
       "      <td>False</td>\n",
       "      <td>False</td>\n",
       "      <td>False</td>\n",
       "      <td>False</td>\n",
       "      <td>False</td>\n",
       "      <td>False</td>\n",
       "      <td>False</td>\n",
       "      <td>False</td>\n",
       "      <td>False</td>\n",
       "      <td>False</td>\n",
       "    </tr>\n",
       "    <tr>\n",
       "      <th>4</th>\n",
       "      <td>False</td>\n",
       "      <td>False</td>\n",
       "      <td>False</td>\n",
       "      <td>False</td>\n",
       "      <td>False</td>\n",
       "      <td>False</td>\n",
       "      <td>False</td>\n",
       "      <td>False</td>\n",
       "      <td>False</td>\n",
       "      <td>False</td>\n",
       "      <td>False</td>\n",
       "    </tr>\n",
       "  </tbody>\n",
       "</table>\n",
       "</div>"
      ],
      "text/plain": [
       "   year_of_reference  month_of_reference  fipe_code  authentication  brand  \\\n",
       "0              False               False      False           False  False   \n",
       "1              False               False      False           False  False   \n",
       "2              False               False      False           False  False   \n",
       "3              False               False      False           False  False   \n",
       "4              False               False      False           False  False   \n",
       "\n",
       "   model   fuel   gear  engine_size  year_model  avg_price_brl  \n",
       "0  False  False  False        False       False          False  \n",
       "1  False  False  False        False       False          False  \n",
       "2  False  False  False        False       False          False  \n",
       "3  False  False  False        False       False          False  \n",
       "4  False  False  False        False       False          False  "
      ]
     },
     "execution_count": 6,
     "metadata": {},
     "output_type": "execute_result"
    }
   ],
   "source": [
    "# Como em todas as colunas há o exato mesmo número de itens faltantes\n",
    "# verificamos aqui se não são na verdade linhas com todos os dados faltentes\n",
    "dados.isna().head()"
   ]
  },
  {
   "cell_type": "markdown",
   "metadata": {},
   "source": [
    "##### b.2. Caso haja, escolha uma tratativa para resolver o problema de valores faltantes."
   ]
  },
  {
   "cell_type": "code",
   "execution_count": 29,
   "metadata": {},
   "outputs": [],
   "source": [
    "# A melhor trarativa no caso é excluir as linhas com valores nulos\n",
    "# O método dropna() remove as linhas que contêm valores nulos.\n",
    "# axis=0 indica que estamos removendo as linhas com valores nulos.\n",
    "dados.dropna(axis=0, inplace=True)\n"
   ]
  },
  {
   "cell_type": "code",
   "execution_count": 31,
   "metadata": {},
   "outputs": [
    {
     "data": {
      "text/plain": [
       "65245"
      ]
     },
     "execution_count": 31,
     "metadata": {},
     "output_type": "execute_result"
    }
   ],
   "source": [
    "# Aqui verificamos se foram exclidos exatamente o valor acima das linhas com itens nulos.\n",
    "# se o valor for igual, quer dizer só existiam linhas inteiras sem dados.\n",
    "\n",
    "linhas_final = dados.shape\n",
    "verifica_linhas = linhas_inicial[0] - linhas_final[0]\n",
    "verifica_linhas\n"
   ]
  },
  {
   "cell_type": "code",
   "execution_count": 32,
   "metadata": {},
   "outputs": [
    {
     "data": {
      "text/plain": [
       "year_of_reference     False\n",
       "month_of_reference    False\n",
       "fipe_code             False\n",
       "authentication        False\n",
       "brand                 False\n",
       "model                 False\n",
       "fuel                  False\n",
       "gear                  False\n",
       "engine_size           False\n",
       "year_model            False\n",
       "avg_price_brl         False\n",
       "dtype: bool"
      ]
     },
     "execution_count": 32,
     "metadata": {},
     "output_type": "execute_result"
    }
   ],
   "source": [
    "#Verificando novamente se existem colunas com valores nulos.\n",
    "dados.isna().any()"
   ]
  },
  {
   "cell_type": "markdown",
   "metadata": {},
   "source": [
    "#### c. Verifique se há valores duplicados nos dados\n"
   ]
  },
  {
   "cell_type": "code",
   "execution_count": 33,
   "metadata": {},
   "outputs": [
    {
     "data": {
      "text/plain": [
       "2"
      ]
     },
     "execution_count": 33,
     "metadata": {},
     "output_type": "execute_result"
    }
   ],
   "source": [
    "# Verificando se temos valores duplicados\n",
    "dados.duplicated().sum() "
   ]
  },
  {
   "cell_type": "markdown",
   "metadata": {},
   "source": [
    "# dúvida, será que precisa remover o valor duplicado?"
   ]
  },
  {
   "cell_type": "code",
   "execution_count": 34,
   "metadata": {},
   "outputs": [],
   "source": [
    "# Removendo valores duplicados\n",
    "dados.drop_duplicates(inplace=True)"
   ]
  },
  {
   "cell_type": "markdown",
   "metadata": {},
   "source": [
    "#### d.1. Crie duas categorias, para separar colunas numéricas e categóricas"
   ]
  },
  {
   "cell_type": "code",
   "execution_count": 35,
   "metadata": {},
   "outputs": [],
   "source": [
    "# Criando categorias para separar colunas numéricas e categóricas: facilita a AED\n",
    "numericas_cols = [col for col in dados.columns if dados[col].dtype != 'object']\n",
    "categoricas_cols = [col for col in dados.columns if dados[col].dtype == 'object']"
   ]
  },
  {
   "cell_type": "markdown",
   "metadata": {},
   "source": [
    "#### d.2. Imprima o resumo de informações das variáveis numéricas e categóricas (estatística descritiva dos dados)"
   ]
  },
  {
   "cell_type": "code",
   "execution_count": 36,
   "metadata": {},
   "outputs": [
    {
     "data": {
      "text/html": [
       "<div>\n",
       "<style scoped>\n",
       "    .dataframe tbody tr th:only-of-type {\n",
       "        vertical-align: middle;\n",
       "    }\n",
       "\n",
       "    .dataframe tbody tr th {\n",
       "        vertical-align: top;\n",
       "    }\n",
       "\n",
       "    .dataframe thead th {\n",
       "        text-align: right;\n",
       "    }\n",
       "</style>\n",
       "<table border=\"1\" class=\"dataframe\">\n",
       "  <thead>\n",
       "    <tr style=\"text-align: right;\">\n",
       "      <th></th>\n",
       "      <th>year_of_reference</th>\n",
       "      <th>year_model</th>\n",
       "      <th>avg_price_brl</th>\n",
       "    </tr>\n",
       "  </thead>\n",
       "  <tbody>\n",
       "    <tr>\n",
       "      <th>count</th>\n",
       "      <td>202295.000000</td>\n",
       "      <td>202295.000000</td>\n",
       "      <td>202295.000000</td>\n",
       "    </tr>\n",
       "    <tr>\n",
       "      <th>mean</th>\n",
       "      <td>2021.564695</td>\n",
       "      <td>2011.271514</td>\n",
       "      <td>52756.765713</td>\n",
       "    </tr>\n",
       "    <tr>\n",
       "      <th>std</th>\n",
       "      <td>0.571904</td>\n",
       "      <td>6.376241</td>\n",
       "      <td>51628.912116</td>\n",
       "    </tr>\n",
       "    <tr>\n",
       "      <th>min</th>\n",
       "      <td>2021.000000</td>\n",
       "      <td>2000.000000</td>\n",
       "      <td>6647.000000</td>\n",
       "    </tr>\n",
       "    <tr>\n",
       "      <th>25%</th>\n",
       "      <td>2021.000000</td>\n",
       "      <td>2006.000000</td>\n",
       "      <td>22855.000000</td>\n",
       "    </tr>\n",
       "    <tr>\n",
       "      <th>50%</th>\n",
       "      <td>2022.000000</td>\n",
       "      <td>2012.000000</td>\n",
       "      <td>38027.000000</td>\n",
       "    </tr>\n",
       "    <tr>\n",
       "      <th>75%</th>\n",
       "      <td>2022.000000</td>\n",
       "      <td>2016.000000</td>\n",
       "      <td>64064.000000</td>\n",
       "    </tr>\n",
       "    <tr>\n",
       "      <th>max</th>\n",
       "      <td>2023.000000</td>\n",
       "      <td>2023.000000</td>\n",
       "      <td>979358.000000</td>\n",
       "    </tr>\n",
       "  </tbody>\n",
       "</table>\n",
       "</div>"
      ],
      "text/plain": [
       "       year_of_reference     year_model  avg_price_brl\n",
       "count      202295.000000  202295.000000  202295.000000\n",
       "mean         2021.564695    2011.271514   52756.765713\n",
       "std             0.571904       6.376241   51628.912116\n",
       "min          2021.000000    2000.000000    6647.000000\n",
       "25%          2021.000000    2006.000000   22855.000000\n",
       "50%          2022.000000    2012.000000   38027.000000\n",
       "75%          2022.000000    2016.000000   64064.000000\n",
       "max          2023.000000    2023.000000  979358.000000"
      ]
     },
     "execution_count": 36,
     "metadata": {},
     "output_type": "execute_result"
    }
   ],
   "source": [
    "# Resumo das variáveis numéricas - Imprime alguns valores de medidas de tendências centrais \n",
    "dados[numericas_cols].describe()"
   ]
  },
  {
   "cell_type": "code",
   "execution_count": 37,
   "metadata": {},
   "outputs": [
    {
     "data": {
      "text/html": [
       "<div>\n",
       "<style scoped>\n",
       "    .dataframe tbody tr th:only-of-type {\n",
       "        vertical-align: middle;\n",
       "    }\n",
       "\n",
       "    .dataframe tbody tr th {\n",
       "        vertical-align: top;\n",
       "    }\n",
       "\n",
       "    .dataframe thead th {\n",
       "        text-align: right;\n",
       "    }\n",
       "</style>\n",
       "<table border=\"1\" class=\"dataframe\">\n",
       "  <thead>\n",
       "    <tr style=\"text-align: right;\">\n",
       "      <th></th>\n",
       "      <th>month_of_reference</th>\n",
       "      <th>fipe_code</th>\n",
       "      <th>authentication</th>\n",
       "      <th>brand</th>\n",
       "      <th>model</th>\n",
       "      <th>fuel</th>\n",
       "      <th>gear</th>\n",
       "      <th>engine_size</th>\n",
       "    </tr>\n",
       "  </thead>\n",
       "  <tbody>\n",
       "    <tr>\n",
       "      <th>count</th>\n",
       "      <td>202295</td>\n",
       "      <td>202295</td>\n",
       "      <td>202295</td>\n",
       "      <td>202295</td>\n",
       "      <td>202295</td>\n",
       "      <td>202295</td>\n",
       "      <td>202295</td>\n",
       "      <td>202295</td>\n",
       "    </tr>\n",
       "    <tr>\n",
       "      <th>unique</th>\n",
       "      <td>12</td>\n",
       "      <td>2091</td>\n",
       "      <td>202295</td>\n",
       "      <td>6</td>\n",
       "      <td>2112</td>\n",
       "      <td>3</td>\n",
       "      <td>2</td>\n",
       "      <td>29</td>\n",
       "    </tr>\n",
       "    <tr>\n",
       "      <th>top</th>\n",
       "      <td>January</td>\n",
       "      <td>003281-6</td>\n",
       "      <td>cfzlctzfwrcp</td>\n",
       "      <td>Fiat</td>\n",
       "      <td>Palio Week. Adv/Adv TRYON 1.8 mpi Flex</td>\n",
       "      <td>Gasoline</td>\n",
       "      <td>manual</td>\n",
       "      <td>1,6</td>\n",
       "    </tr>\n",
       "    <tr>\n",
       "      <th>freq</th>\n",
       "      <td>24260</td>\n",
       "      <td>425</td>\n",
       "      <td>1</td>\n",
       "      <td>44962</td>\n",
       "      <td>425</td>\n",
       "      <td>168684</td>\n",
       "      <td>161883</td>\n",
       "      <td>47420</td>\n",
       "    </tr>\n",
       "  </tbody>\n",
       "</table>\n",
       "</div>"
      ],
      "text/plain": [
       "       month_of_reference fipe_code authentication   brand  \\\n",
       "count              202295    202295         202295  202295   \n",
       "unique                 12      2091         202295       6   \n",
       "top               January  003281-6   cfzlctzfwrcp    Fiat   \n",
       "freq                24260       425              1   44962   \n",
       "\n",
       "                                         model      fuel    gear engine_size  \n",
       "count                                   202295    202295  202295      202295  \n",
       "unique                                    2112         3       2          29  \n",
       "top     Palio Week. Adv/Adv TRYON 1.8 mpi Flex  Gasoline  manual         1,6  \n",
       "freq                                       425    168684  161883       47420  "
      ]
     },
     "execution_count": 37,
     "metadata": {},
     "output_type": "execute_result"
    }
   ],
   "source": [
    "# Resumo das variáveis categóricas - Imprime alguns valores de estatística descritiva\n",
    "dados[categoricas_cols].describe()"
   ]
  },
  {
   "cell_type": "markdown",
   "metadata": {},
   "source": [
    "#### e. Imprima a contagem de valores por modelo (model) e marca do carro (brand)\n"
   ]
  },
  {
   "cell_type": "code",
   "execution_count": 38,
   "metadata": {},
   "outputs": [
    {
     "data": {
      "text/plain": [
       "model\n",
       "Palio Week. Adv/Adv TRYON 1.8 mpi Flex    425\n",
       "Focus 1.6 S/SE/SE Plus Flex 8V/16V 5p     425\n",
       "Focus 2.0 16V/SE/SE Plus Flex 5p Aut.     400\n",
       "Saveiro 1.6 Mi/ 1.6 Mi Total Flex 8V      400\n",
       "Corvette 5.7/ 6.0, 6.2 Targa/Stingray     375\n",
       "                                         ... \n",
       "STEPWAY Zen Flex 1.0 12V Mec.               2\n",
       "Saveiro Robust 1.6 Total Flex 16V CD        2\n",
       "Saveiro Robust 1.6 Total Flex 16V           2\n",
       "Gol Last Edition 1.0 Flex 12V 5p            2\n",
       "Polo Track 1.0 Flex 12V 5p                  2\n",
       "Name: count, Length: 2112, dtype: int64"
      ]
     },
     "execution_count": 38,
     "metadata": {},
     "output_type": "execute_result"
    }
   ],
   "source": [
    "# Contagem de valores por categoria de 'Modelo'\n",
    "dados['model'].value_counts()"
   ]
  },
  {
   "cell_type": "code",
   "execution_count": 39,
   "metadata": {},
   "outputs": [
    {
     "data": {
      "text/plain": [
       "brand\n",
       "Fiat               44962\n",
       "VW - VolksWagen    44312\n",
       "GM - Chevrolet     38590\n",
       "Ford               33150\n",
       "Renault            29191\n",
       "Nissan             12090\n",
       "Name: count, dtype: int64"
      ]
     },
     "execution_count": 39,
     "metadata": {},
     "output_type": "execute_result"
    }
   ],
   "source": [
    "# Contagem de valores por categoria de 'Marca'\n",
    "dados['brand'].value_counts()"
   ]
  },
  {
   "cell_type": "markdown",
   "metadata": {},
   "source": [
    "#### f.Dê um breve explicação (máximo de quatro linhas) sobre os principais resultados encontrados na Análise Exploratória dos dados\n",
    "# Parei aqui kkkkkk"
   ]
  }
 ],
 "metadata": {
  "kernelspec": {
   "display_name": "Python 3",
   "language": "python",
   "name": "python3"
  },
  "language_info": {
   "codemirror_mode": {
    "name": "ipython",
    "version": 3
   },
   "file_extension": ".py",
   "mimetype": "text/x-python",
   "name": "python",
   "nbconvert_exporter": "python",
   "pygments_lexer": "ipython3",
   "version": "3.11.8"
  }
 },
 "nbformat": 4,
 "nbformat_minor": 2
}
