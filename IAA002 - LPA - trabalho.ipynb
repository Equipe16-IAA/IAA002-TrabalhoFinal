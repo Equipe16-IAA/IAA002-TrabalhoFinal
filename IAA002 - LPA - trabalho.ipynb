{
 "cells": [
  {
   "cell_type": "markdown",
   "metadata": {},
   "source": [
    "### TRABALHO LPA\n",
    "\n",
    "A partir da base de dados precos_carros_brasil.csv, execute as seguintes tarefas:\n",
    "\n"
   ]
  },
  {
   "cell_type": "markdown",
   "metadata": {},
   "source": [
    "#### iniciando as bibliotecas e fazendo imports"
   ]
  },
  {
   "cell_type": "code",
   "execution_count": 24,
   "metadata": {},
   "outputs": [],
   "source": [
    "import pandas as pd\n",
    "import matplotlib.pyplot as plt\n",
    "\n",
    "import warnings\n",
    "warnings.filterwarnings('ignore')"
   ]
  },
  {
   "cell_type": "code",
   "execution_count": 41,
   "metadata": {},
   "outputs": [],
   "source": [
    "from sklearn.preprocessing import LabelEncoder"
   ]
  },
  {
   "cell_type": "markdown",
   "metadata": {},
   "source": [
    "---\n",
    "### Análise Exploratória dos Dados"
   ]
  },
  {
   "cell_type": "markdown",
   "metadata": {},
   "source": [
    "a. Carregue a base de dados media_precos_carros_brasil.csv"
   ]
  },
  {
   "cell_type": "code",
   "execution_count": 67,
   "metadata": {},
   "outputs": [],
   "source": [
    "dados = pd.read_csv('database/precos_carros_brasil.csv')"
   ]
  },
  {
   "cell_type": "code",
   "execution_count": 81,
   "metadata": {},
   "outputs": [
    {
     "data": {
      "text/plain": [
       "year_of_reference     float64\n",
       "month_of_reference      Int64\n",
       "fipe_code              object\n",
       "authentication         object\n",
       "brand                  object\n",
       "model                  object\n",
       "fuel                   object\n",
       "gear                   object\n",
       "engine_size            object\n",
       "year_model            float64\n",
       "avg_price_brl         float64\n",
       "dtype: object"
      ]
     },
     "execution_count": 81,
     "metadata": {},
     "output_type": "execute_result"
    }
   ],
   "source": [
    "dados.dtypes"
   ]
  },
  {
   "cell_type": "markdown",
   "metadata": {},
   "source": [
    "b. Verifique se há valores faltantes nos dados. Caso haja, escolha uma tratativa para\n",
    "resolver o problema de valores faltantes"
   ]
  },
  {
   "cell_type": "code",
   "execution_count": 5,
   "metadata": {},
   "outputs": [
    {
     "data": {
      "text/plain": [
       "year_of_reference     True\n",
       "month_of_reference    True\n",
       "fipe_code             True\n",
       "authentication        True\n",
       "brand                 True\n",
       "model                 True\n",
       "fuel                  True\n",
       "gear                  True\n",
       "engine_size           True\n",
       "year_model            True\n",
       "avg_price_brl         True\n",
       "dtype: bool"
      ]
     },
     "execution_count": 5,
     "metadata": {},
     "output_type": "execute_result"
    }
   ],
   "source": [
    "dados.isna().any()"
   ]
  },
  {
   "cell_type": "code",
   "execution_count": 6,
   "metadata": {},
   "outputs": [
    {
     "data": {
      "text/plain": [
       "year_of_reference     65245\n",
       "month_of_reference    65245\n",
       "fipe_code             65245\n",
       "authentication        65245\n",
       "brand                 65245\n",
       "model                 65245\n",
       "fuel                  65245\n",
       "gear                  65245\n",
       "engine_size           65245\n",
       "year_model            65245\n",
       "avg_price_brl         65245\n",
       "dtype: int64"
      ]
     },
     "execution_count": 6,
     "metadata": {},
     "output_type": "execute_result"
    }
   ],
   "source": [
    "dados.isna().sum()"
   ]
  },
  {
   "cell_type": "code",
   "execution_count": 10,
   "metadata": {},
   "outputs": [],
   "source": [
    "dados.dropna(how=\"all\", inplace=True)"
   ]
  },
  {
   "cell_type": "markdown",
   "metadata": {},
   "source": [
    "c. Verifique se há dados duplicados nos dados"
   ]
  },
  {
   "cell_type": "code",
   "execution_count": 11,
   "metadata": {},
   "outputs": [
    {
     "data": {
      "text/plain": [
       "2"
      ]
     },
     "execution_count": 11,
     "metadata": {},
     "output_type": "execute_result"
    }
   ],
   "source": [
    "dados.duplicated().sum()"
   ]
  },
  {
   "cell_type": "code",
   "execution_count": 12,
   "metadata": {},
   "outputs": [],
   "source": [
    "dados.drop_duplicates(inplace=True)"
   ]
  },
  {
   "cell_type": "markdown",
   "metadata": {},
   "source": [
    "d. Crie duas categorias, para separar colunas numéricas e categóricas. Imprima o resumo de informações das variáveis numéricas e categóricas (estatística descritiva dos dados)"
   ]
  },
  {
   "cell_type": "code",
   "execution_count": 14,
   "metadata": {},
   "outputs": [],
   "source": [
    "# Criando categorias para separar colunas numéricas e categóricas\n",
    "numericas_cols = [col for col in dados.columns if dados[col].dtype != 'object']\n",
    "categoricas_cols = [col for col in dados.columns if dados[col].dtype == 'object']"
   ]
  },
  {
   "cell_type": "code",
   "execution_count": 15,
   "metadata": {},
   "outputs": [
    {
     "data": {
      "text/html": [
       "<div>\n",
       "<style scoped>\n",
       "    .dataframe tbody tr th:only-of-type {\n",
       "        vertical-align: middle;\n",
       "    }\n",
       "\n",
       "    .dataframe tbody tr th {\n",
       "        vertical-align: top;\n",
       "    }\n",
       "\n",
       "    .dataframe thead th {\n",
       "        text-align: right;\n",
       "    }\n",
       "</style>\n",
       "<table border=\"1\" class=\"dataframe\">\n",
       "  <thead>\n",
       "    <tr style=\"text-align: right;\">\n",
       "      <th></th>\n",
       "      <th>year_of_reference</th>\n",
       "      <th>year_model</th>\n",
       "      <th>avg_price_brl</th>\n",
       "    </tr>\n",
       "  </thead>\n",
       "  <tbody>\n",
       "    <tr>\n",
       "      <th>count</th>\n",
       "      <td>202295.000000</td>\n",
       "      <td>202295.000000</td>\n",
       "      <td>202295.000000</td>\n",
       "    </tr>\n",
       "    <tr>\n",
       "      <th>mean</th>\n",
       "      <td>2021.564695</td>\n",
       "      <td>2011.271514</td>\n",
       "      <td>52756.765713</td>\n",
       "    </tr>\n",
       "    <tr>\n",
       "      <th>std</th>\n",
       "      <td>0.571904</td>\n",
       "      <td>6.376241</td>\n",
       "      <td>51628.912116</td>\n",
       "    </tr>\n",
       "    <tr>\n",
       "      <th>min</th>\n",
       "      <td>2021.000000</td>\n",
       "      <td>2000.000000</td>\n",
       "      <td>6647.000000</td>\n",
       "    </tr>\n",
       "    <tr>\n",
       "      <th>25%</th>\n",
       "      <td>2021.000000</td>\n",
       "      <td>2006.000000</td>\n",
       "      <td>22855.000000</td>\n",
       "    </tr>\n",
       "    <tr>\n",
       "      <th>50%</th>\n",
       "      <td>2022.000000</td>\n",
       "      <td>2012.000000</td>\n",
       "      <td>38027.000000</td>\n",
       "    </tr>\n",
       "    <tr>\n",
       "      <th>75%</th>\n",
       "      <td>2022.000000</td>\n",
       "      <td>2016.000000</td>\n",
       "      <td>64064.000000</td>\n",
       "    </tr>\n",
       "    <tr>\n",
       "      <th>max</th>\n",
       "      <td>2023.000000</td>\n",
       "      <td>2023.000000</td>\n",
       "      <td>979358.000000</td>\n",
       "    </tr>\n",
       "  </tbody>\n",
       "</table>\n",
       "</div>"
      ],
      "text/plain": [
       "       year_of_reference     year_model  avg_price_brl\n",
       "count      202295.000000  202295.000000  202295.000000\n",
       "mean         2021.564695    2011.271514   52756.765713\n",
       "std             0.571904       6.376241   51628.912116\n",
       "min          2021.000000    2000.000000    6647.000000\n",
       "25%          2021.000000    2006.000000   22855.000000\n",
       "50%          2022.000000    2012.000000   38027.000000\n",
       "75%          2022.000000    2016.000000   64064.000000\n",
       "max          2023.000000    2023.000000  979358.000000"
      ]
     },
     "execution_count": 15,
     "metadata": {},
     "output_type": "execute_result"
    }
   ],
   "source": [
    "# Resumo das variáveis numéricas\n",
    "dados[numericas_cols].describe()"
   ]
  },
  {
   "cell_type": "code",
   "execution_count": 16,
   "metadata": {},
   "outputs": [
    {
     "data": {
      "text/html": [
       "<div>\n",
       "<style scoped>\n",
       "    .dataframe tbody tr th:only-of-type {\n",
       "        vertical-align: middle;\n",
       "    }\n",
       "\n",
       "    .dataframe tbody tr th {\n",
       "        vertical-align: top;\n",
       "    }\n",
       "\n",
       "    .dataframe thead th {\n",
       "        text-align: right;\n",
       "    }\n",
       "</style>\n",
       "<table border=\"1\" class=\"dataframe\">\n",
       "  <thead>\n",
       "    <tr style=\"text-align: right;\">\n",
       "      <th></th>\n",
       "      <th>month_of_reference</th>\n",
       "      <th>fipe_code</th>\n",
       "      <th>authentication</th>\n",
       "      <th>brand</th>\n",
       "      <th>model</th>\n",
       "      <th>fuel</th>\n",
       "      <th>gear</th>\n",
       "      <th>engine_size</th>\n",
       "    </tr>\n",
       "  </thead>\n",
       "  <tbody>\n",
       "    <tr>\n",
       "      <th>count</th>\n",
       "      <td>202295</td>\n",
       "      <td>202295</td>\n",
       "      <td>202295</td>\n",
       "      <td>202295</td>\n",
       "      <td>202295</td>\n",
       "      <td>202295</td>\n",
       "      <td>202295</td>\n",
       "      <td>202295</td>\n",
       "    </tr>\n",
       "    <tr>\n",
       "      <th>unique</th>\n",
       "      <td>12</td>\n",
       "      <td>2091</td>\n",
       "      <td>202295</td>\n",
       "      <td>6</td>\n",
       "      <td>2112</td>\n",
       "      <td>3</td>\n",
       "      <td>2</td>\n",
       "      <td>29</td>\n",
       "    </tr>\n",
       "    <tr>\n",
       "      <th>top</th>\n",
       "      <td>January</td>\n",
       "      <td>003281-6</td>\n",
       "      <td>cfzlctzfwrcp</td>\n",
       "      <td>Fiat</td>\n",
       "      <td>Palio Week. Adv/Adv TRYON 1.8 mpi Flex</td>\n",
       "      <td>Gasoline</td>\n",
       "      <td>manual</td>\n",
       "      <td>1,6</td>\n",
       "    </tr>\n",
       "    <tr>\n",
       "      <th>freq</th>\n",
       "      <td>24260</td>\n",
       "      <td>425</td>\n",
       "      <td>1</td>\n",
       "      <td>44962</td>\n",
       "      <td>425</td>\n",
       "      <td>168684</td>\n",
       "      <td>161883</td>\n",
       "      <td>47420</td>\n",
       "    </tr>\n",
       "  </tbody>\n",
       "</table>\n",
       "</div>"
      ],
      "text/plain": [
       "       month_of_reference fipe_code authentication   brand  \\\n",
       "count              202295    202295         202295  202295   \n",
       "unique                 12      2091         202295       6   \n",
       "top               January  003281-6   cfzlctzfwrcp    Fiat   \n",
       "freq                24260       425              1   44962   \n",
       "\n",
       "                                         model      fuel    gear engine_size  \n",
       "count                                   202295    202295  202295      202295  \n",
       "unique                                    2112         3       2          29  \n",
       "top     Palio Week. Adv/Adv TRYON 1.8 mpi Flex  Gasoline  manual         1,6  \n",
       "freq                                       425    168684  161883       47420  "
      ]
     },
     "execution_count": 16,
     "metadata": {},
     "output_type": "execute_result"
    }
   ],
   "source": [
    "# Resumo das variáveis categoricas\n",
    "dados[categoricas_cols].describe()"
   ]
  },
  {
   "cell_type": "markdown",
   "metadata": {},
   "source": [
    "e. Imprima a contagem de valores por modelo (model) e marca do carro (brand)\n"
   ]
  },
  {
   "cell_type": "code",
   "execution_count": 18,
   "metadata": {},
   "outputs": [
    {
     "data": {
      "text/plain": [
       "brand\n",
       "Fiat               44962\n",
       "VW - VolksWagen    44312\n",
       "GM - Chevrolet     38590\n",
       "Ford               33150\n",
       "Renault            29191\n",
       "Nissan             12090\n",
       "Name: count, dtype: int64"
      ]
     },
     "execution_count": 18,
     "metadata": {},
     "output_type": "execute_result"
    }
   ],
   "source": [
    "dados.brand.value_counts()"
   ]
  },
  {
   "cell_type": "code",
   "execution_count": 19,
   "metadata": {},
   "outputs": [
    {
     "data": {
      "text/plain": [
       "model\n",
       "Palio Week. Adv/Adv TRYON 1.8 mpi Flex    425\n",
       "Focus 1.6 S/SE/SE Plus Flex 8V/16V 5p     425\n",
       "Focus 2.0 16V/SE/SE Plus Flex 5p Aut.     400\n",
       "Saveiro 1.6 Mi/ 1.6 Mi Total Flex 8V      400\n",
       "Corvette 5.7/ 6.0, 6.2 Targa/Stingray     375\n",
       "                                         ... \n",
       "STEPWAY Zen Flex 1.0 12V Mec.               2\n",
       "Saveiro Robust 1.6 Total Flex 16V CD        2\n",
       "Saveiro Robust 1.6 Total Flex 16V           2\n",
       "Gol Last Edition 1.0 Flex 12V 5p            2\n",
       "Polo Track 1.0 Flex 12V 5p                  2\n",
       "Name: count, Length: 2112, dtype: int64"
      ]
     },
     "execution_count": 19,
     "metadata": {},
     "output_type": "execute_result"
    }
   ],
   "source": [
    "dados.model.value_counts()"
   ]
  },
  {
   "cell_type": "markdown",
   "metadata": {},
   "source": [
    "---\n",
    "### Visualização dos Dados"
   ]
  },
  {
   "cell_type": "markdown",
   "metadata": {},
   "source": [
    "a. Gere um gráfico da distribuição da quantidade de carros por marca\n"
   ]
  },
  {
   "cell_type": "code",
   "execution_count": 34,
   "metadata": {},
   "outputs": [
    {
     "data": {
      "image/png": "[encoded data removed]",
      "text/plain": [
       "<Figure size 1000x500 with 1 Axes>"
      ]
     },
     "metadata": {},
     "output_type": "display_data"
    }
   ],
   "source": [
    "plt.figure(figsize=(10,5))\n",
    "plt.bar(dados.brand.unique(), dados.brand.value_counts()[dados.brand.unique()])\n",
    "plt.title('Distribuição de veículos por marca')\n",
    "plt.ylabel('Total de veículos');"
   ]
  },
  {
   "cell_type": "code",
   "execution_count": 36,
   "metadata": {},
   "outputs": [
    {
     "data": {
      "text/plain": [
       "Text(0, 0.5, 'Total de veículos')"
      ]
     },
     "execution_count": 36,
     "metadata": {},
     "output_type": "execute_result"
    },
    {
     "data": {
      "image/png": "[encoded data removed]",
      "text/plain": [
       "<Figure size 1000x500 with 1 Axes>"
      ]
     },
     "metadata": {},
     "output_type": "display_data"
    }
   ],
   "source": [
    "quantidadeMarca = dados['brand'].value_counts()\n",
    "\n",
    "plt.figure(figsize=(10,5))\n",
    "plt.bar(quantidadeMarca.index, quantidadeMarca.values) # plt.bar para gráfico de barras. Variáveis nos eixos X e Y\n",
    "plt.title('Quantidade de veículos por marca') # plt.title para inserir título no gráfico\n",
    "plt.ylabel('Total de veículos') "
   ]
  },
  {
   "cell_type": "markdown",
   "metadata": {},
   "source": [
    "b. Gere um gráfico da distribuição da quantidade de carros por tipo de engrenagem do\n",
    "carro\n"
   ]
  },
  {
   "cell_type": "code",
   "execution_count": 38,
   "metadata": {},
   "outputs": [
    {
     "data": {
      "image/png": "[encoded data removed]",
      "text/plain": [
       "<Figure size 1000x500 with 1 Axes>"
      ]
     },
     "metadata": {},
     "output_type": "display_data"
    }
   ],
   "source": [
    "plt.figure(figsize=(10,5))\n",
    "plt.bar(dados.gear.unique(), dados.gear.value_counts()[dados.gear.unique()])\n",
    "plt.title('Distribuição de veículos por tipo de câmbio')\n",
    "plt.ylabel('Total de veículos');"
   ]
  },
  {
   "cell_type": "markdown",
   "metadata": {},
   "source": [
    "c. Gere um gráfico da evolução da média de preço dos carros ao longo dos meses de\n",
    "2022 (variável de tempo no eixo X)"
   ]
  },
  {
   "cell_type": "code",
   "execution_count": 69,
   "metadata": {},
   "outputs": [],
   "source": [
    "def atribui_numericos_mes(mes):\n",
    "    if(mes == 'January'):\n",
    "        return 1\n",
    "    if(mes == 'February'):\n",
    "        return 2\n",
    "    if(mes == 'March'):\n",
    "        return 3\n",
    "    if(mes == 'April'):\n",
    "        return 4\n",
    "    if(mes == 'May'):\n",
    "        return 5\n",
    "    if(mes == 'June'):\n",
    "        return 6\n",
    "    if(mes == 'July'):\n",
    "        return 7\n",
    "    if(mes == 'August'):\n",
    "        return 8\n",
    "    if(mes == 'September'):\n",
    "        return 9\n",
    "    if(mes == 'October'):\n",
    "        return 10\n",
    "    if(mes == 'November'):\n",
    "        return 11\n",
    "    if(mes == 'December'):\n",
    "        return 12\n",
    "    \n",
    "dados['month_of_reference'] = dados['month_of_reference'].apply(atribui_numericos_mes)\n",
    "dados['month_of_reference'] = dados['month_of_reference'].astype('Int64')\n",
    "\n"
   ]
  },
  {
   "cell_type": "code",
   "execution_count": 70,
   "metadata": {},
   "outputs": [
    {
     "data": {
      "text/html": [
       "<div>\n",
       "<style scoped>\n",
       "    .dataframe tbody tr th:only-of-type {\n",
       "        vertical-align: middle;\n",
       "    }\n",
       "\n",
       "    .dataframe tbody tr th {\n",
       "        vertical-align: top;\n",
       "    }\n",
       "\n",
       "    .dataframe thead th {\n",
       "        text-align: right;\n",
       "    }\n",
       "</style>\n",
       "<table border=\"1\" class=\"dataframe\">\n",
       "  <thead>\n",
       "    <tr style=\"text-align: right;\">\n",
       "      <th></th>\n",
       "      <th>year_of_reference</th>\n",
       "      <th>month_of_reference</th>\n",
       "      <th>fipe_code</th>\n",
       "      <th>authentication</th>\n",
       "      <th>brand</th>\n",
       "      <th>model</th>\n",
       "      <th>fuel</th>\n",
       "      <th>gear</th>\n",
       "      <th>engine_size</th>\n",
       "      <th>year_model</th>\n",
       "      <th>avg_price_brl</th>\n",
       "    </tr>\n",
       "  </thead>\n",
       "  <tbody>\n",
       "    <tr>\n",
       "      <th>0</th>\n",
       "      <td>2021.0</td>\n",
       "      <td>1</td>\n",
       "      <td>004001-0</td>\n",
       "      <td>cfzlctzfwrcp</td>\n",
       "      <td>GM - Chevrolet</td>\n",
       "      <td>Corsa Wind 1.0 MPFI / EFI 2p</td>\n",
       "      <td>Gasoline</td>\n",
       "      <td>manual</td>\n",
       "      <td>1</td>\n",
       "      <td>2002.0</td>\n",
       "      <td>9162.0</td>\n",
       "    </tr>\n",
       "    <tr>\n",
       "      <th>1</th>\n",
       "      <td>2021.0</td>\n",
       "      <td>1</td>\n",
       "      <td>004001-0</td>\n",
       "      <td>cdqwxwpw3y2p</td>\n",
       "      <td>GM - Chevrolet</td>\n",
       "      <td>Corsa Wind 1.0 MPFI / EFI 2p</td>\n",
       "      <td>Gasoline</td>\n",
       "      <td>manual</td>\n",
       "      <td>1</td>\n",
       "      <td>2001.0</td>\n",
       "      <td>8832.0</td>\n",
       "    </tr>\n",
       "    <tr>\n",
       "      <th>2</th>\n",
       "      <td>2021.0</td>\n",
       "      <td>1</td>\n",
       "      <td>004001-0</td>\n",
       "      <td>cb1t3xwwj1xp</td>\n",
       "      <td>GM - Chevrolet</td>\n",
       "      <td>Corsa Wind 1.0 MPFI / EFI 2p</td>\n",
       "      <td>Gasoline</td>\n",
       "      <td>manual</td>\n",
       "      <td>1</td>\n",
       "      <td>2000.0</td>\n",
       "      <td>8388.0</td>\n",
       "    </tr>\n",
       "    <tr>\n",
       "      <th>3</th>\n",
       "      <td>2021.0</td>\n",
       "      <td>1</td>\n",
       "      <td>004001-0</td>\n",
       "      <td>cb9gct6j65r0</td>\n",
       "      <td>GM - Chevrolet</td>\n",
       "      <td>Corsa Wind 1.0 MPFI / EFI 2p</td>\n",
       "      <td>Alcohol</td>\n",
       "      <td>manual</td>\n",
       "      <td>1</td>\n",
       "      <td>2000.0</td>\n",
       "      <td>8453.0</td>\n",
       "    </tr>\n",
       "    <tr>\n",
       "      <th>4</th>\n",
       "      <td>2021.0</td>\n",
       "      <td>1</td>\n",
       "      <td>004003-7</td>\n",
       "      <td>g15wg0gbz1fx</td>\n",
       "      <td>GM - Chevrolet</td>\n",
       "      <td>Corsa Pick-Up GL/ Champ 1.6 MPFI / EFI</td>\n",
       "      <td>Gasoline</td>\n",
       "      <td>manual</td>\n",
       "      <td>1,6</td>\n",
       "      <td>2001.0</td>\n",
       "      <td>12525.0</td>\n",
       "    </tr>\n",
       "  </tbody>\n",
       "</table>\n",
       "</div>"
      ],
      "text/plain": [
       "   year_of_reference  month_of_reference fipe_code authentication  \\\n",
       "0             2021.0                   1  004001-0   cfzlctzfwrcp   \n",
       "1             2021.0                   1  004001-0   cdqwxwpw3y2p   \n",
       "2             2021.0                   1  004001-0   cb1t3xwwj1xp   \n",
       "3             2021.0                   1  004001-0   cb9gct6j65r0   \n",
       "4             2021.0                   1  004003-7   g15wg0gbz1fx   \n",
       "\n",
       "            brand                                   model      fuel    gear  \\\n",
       "0  GM - Chevrolet            Corsa Wind 1.0 MPFI / EFI 2p  Gasoline  manual   \n",
       "1  GM - Chevrolet            Corsa Wind 1.0 MPFI / EFI 2p  Gasoline  manual   \n",
       "2  GM - Chevrolet            Corsa Wind 1.0 MPFI / EFI 2p  Gasoline  manual   \n",
       "3  GM - Chevrolet            Corsa Wind 1.0 MPFI / EFI 2p   Alcohol  manual   \n",
       "4  GM - Chevrolet  Corsa Pick-Up GL/ Champ 1.6 MPFI / EFI  Gasoline  manual   \n",
       "\n",
       "  engine_size  year_model  avg_price_brl  \n",
       "0           1      2002.0         9162.0  \n",
       "1           1      2001.0         8832.0  \n",
       "2           1      2000.0         8388.0  \n",
       "3           1      2000.0         8453.0  \n",
       "4         1,6      2001.0        12525.0  "
      ]
     },
     "execution_count": 70,
     "metadata": {},
     "output_type": "execute_result"
    }
   ],
   "source": [
    "dados.head()"
   ]
  },
  {
   "cell_type": "code",
   "execution_count": 98,
   "metadata": {},
   "outputs": [
    {
     "data": {
      "image/png": "[encoded data removed]",
      "text/plain": [
       "<Figure size 640x480 with 1 Axes>"
      ]
     },
     "metadata": {},
     "output_type": "display_data"
    }
   ],
   "source": [
    "ano2022 = dados.loc[dados.year_of_reference == 2022]\n",
    "y = ano2022.groupby('month_of_reference').agg({'avg_price_brl':'mean'})\n",
    "\n",
    "#print(y)\n",
    "plt.plot(y)\n",
    "plt.grid()\n",
    "plt.xticks(range(1,13))\n",
    "plt.title('da evolução da média de preço dos carros ao longo dos meses de 2022')\n",
    "plt.ylabel('Média de Preço em reais');\n",
    "plt.xlabel('Meses de 2022')\n",
    "\n",
    "plt.show()\n"
   ]
  }
 ],
 "metadata": {
  "kernelspec": {
   "display_name": "venv",
   "language": "python",
   "name": "python3"
  },
  "language_info": {
   "codemirror_mode": {
    "name": "ipython",
    "version": 3
   },
   "file_extension": ".py",
   "mimetype": "text/x-python",
   "name": "python",
   "nbconvert_exporter": "python",
   "pygments_lexer": "ipython3",
   "version": "3.9.5"
  }
 },
 "nbformat": 4,
 "nbformat_minor": 2
}
