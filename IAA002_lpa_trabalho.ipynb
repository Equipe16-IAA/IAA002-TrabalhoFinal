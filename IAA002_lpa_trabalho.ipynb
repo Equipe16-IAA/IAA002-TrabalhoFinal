{
 "cells": [
  {
   "cell_type": "markdown",
   "source": [
    "IAA002 - LPA - Trabalho"
   ],
   "metadata": {
    "collapsed": false
   },
   "id": "83a99edb2473da5a"
  },
  {
   "cell_type": "code",
   "execution_count": 18,
   "id": "initial_id",
   "metadata": {
    "collapsed": true,
    "ExecuteTime": {
     "end_time": "2024-03-15T18:52:26.191751Z",
     "start_time": "2024-03-15T18:52:26.189002Z"
    }
   },
   "outputs": [],
   "source": [
    "import pandas as pd\n",
    "import seaborn as sns\n",
    "import matplotlib.pyplot as plt\n",
    "import warnings\n",
    "warnings.filterwarnings(\"ignore\")"
   ]
  },
  {
   "cell_type": "markdown",
   "source": [
    "a.\tCarregue a base de dados media_precos_carros_brasil.csv"
   ],
   "metadata": {
    "collapsed": false
   },
   "id": "dedd3a12723d167d"
  },
  {
   "cell_type": "code",
   "outputs": [
    {
     "data": {
      "text/plain": "   year_of_reference month_of_reference fipe_code authentication  \\\n0             2021.0            January  004001-0   cfzlctzfwrcp   \n1             2021.0            January  004001-0   cdqwxwpw3y2p   \n2             2021.0            January  004001-0   cb1t3xwwj1xp   \n3             2021.0            January  004001-0   cb9gct6j65r0   \n4             2021.0            January  004003-7   g15wg0gbz1fx   \n\n            brand                                   model      fuel    gear  \\\n0  GM - Chevrolet            Corsa Wind 1.0 MPFI / EFI 2p  Gasoline  manual   \n1  GM - Chevrolet            Corsa Wind 1.0 MPFI / EFI 2p  Gasoline  manual   \n2  GM - Chevrolet            Corsa Wind 1.0 MPFI / EFI 2p  Gasoline  manual   \n3  GM - Chevrolet            Corsa Wind 1.0 MPFI / EFI 2p   Alcohol  manual   \n4  GM - Chevrolet  Corsa Pick-Up GL/ Champ 1.6 MPFI / EFI  Gasoline  manual   \n\n  engine_size  year_model  avg_price_brl  \n0           1      2002.0         9162.0  \n1           1      2001.0         8832.0  \n2           1      2000.0         8388.0  \n3           1      2000.0         8453.0  \n4         1,6      2001.0        12525.0  ",
      "text/html": "<div>\n<style scoped>\n    .dataframe tbody tr th:only-of-type {\n        vertical-align: middle;\n    }\n\n    .dataframe tbody tr th {\n        vertical-align: top;\n    }\n\n    .dataframe thead th {\n        text-align: right;\n    }\n</style>\n<table border=\"1\" class=\"dataframe\">\n  <thead>\n    <tr style=\"text-align: right;\">\n      <th></th>\n      <th>year_of_reference</th>\n      <th>month_of_reference</th>\n      <th>fipe_code</th>\n      <th>authentication</th>\n      <th>brand</th>\n      <th>model</th>\n      <th>fuel</th>\n      <th>gear</th>\n      <th>engine_size</th>\n      <th>year_model</th>\n      <th>avg_price_brl</th>\n    </tr>\n  </thead>\n  <tbody>\n    <tr>\n      <th>0</th>\n      <td>2021.0</td>\n      <td>January</td>\n      <td>004001-0</td>\n      <td>cfzlctzfwrcp</td>\n      <td>GM - Chevrolet</td>\n      <td>Corsa Wind 1.0 MPFI / EFI 2p</td>\n      <td>Gasoline</td>\n      <td>manual</td>\n      <td>1</td>\n      <td>2002.0</td>\n      <td>9162.0</td>\n    </tr>\n    <tr>\n      <th>1</th>\n      <td>2021.0</td>\n      <td>January</td>\n      <td>004001-0</td>\n      <td>cdqwxwpw3y2p</td>\n      <td>GM - Chevrolet</td>\n      <td>Corsa Wind 1.0 MPFI / EFI 2p</td>\n      <td>Gasoline</td>\n      <td>manual</td>\n      <td>1</td>\n      <td>2001.0</td>\n      <td>8832.0</td>\n    </tr>\n    <tr>\n      <th>2</th>\n      <td>2021.0</td>\n      <td>January</td>\n      <td>004001-0</td>\n      <td>cb1t3xwwj1xp</td>\n      <td>GM - Chevrolet</td>\n      <td>Corsa Wind 1.0 MPFI / EFI 2p</td>\n      <td>Gasoline</td>\n      <td>manual</td>\n      <td>1</td>\n      <td>2000.0</td>\n      <td>8388.0</td>\n    </tr>\n    <tr>\n      <th>3</th>\n      <td>2021.0</td>\n      <td>January</td>\n      <td>004001-0</td>\n      <td>cb9gct6j65r0</td>\n      <td>GM - Chevrolet</td>\n      <td>Corsa Wind 1.0 MPFI / EFI 2p</td>\n      <td>Alcohol</td>\n      <td>manual</td>\n      <td>1</td>\n      <td>2000.0</td>\n      <td>8453.0</td>\n    </tr>\n    <tr>\n      <th>4</th>\n      <td>2021.0</td>\n      <td>January</td>\n      <td>004003-7</td>\n      <td>g15wg0gbz1fx</td>\n      <td>GM - Chevrolet</td>\n      <td>Corsa Pick-Up GL/ Champ 1.6 MPFI / EFI</td>\n      <td>Gasoline</td>\n      <td>manual</td>\n      <td>1,6</td>\n      <td>2001.0</td>\n      <td>12525.0</td>\n    </tr>\n  </tbody>\n</table>\n</div>"
     },
     "execution_count": 19,
     "metadata": {},
     "output_type": "execute_result"
    }
   ],
   "source": [
    "dados = pd.read_csv('precos_carros_brasil.csv')\n",
    "dados.head()"
   ],
   "metadata": {
    "collapsed": false,
    "ExecuteTime": {
     "end_time": "2024-03-15T18:52:26.606410Z",
     "start_time": "2024-03-15T18:52:26.236804Z"
    }
   },
   "id": "90e49a7e25383a58",
   "execution_count": 19
  },
  {
   "cell_type": "code",
   "outputs": [
    {
     "data": {
      "text/plain": "Index(['year_of_reference', 'month_of_reference', 'fipe_code',\n       'authentication', 'brand', 'model', 'fuel', 'gear', 'engine_size',\n       'year_model', 'avg_price_brl'],\n      dtype='object')"
     },
     "execution_count": 20,
     "metadata": {},
     "output_type": "execute_result"
    }
   ],
   "source": [
    "dados.columns"
   ],
   "metadata": {
    "collapsed": false,
    "ExecuteTime": {
     "end_time": "2024-03-15T18:52:26.612546Z",
     "start_time": "2024-03-15T18:52:26.608633Z"
    }
   },
   "id": "14bbfa3df72613bf",
   "execution_count": 20
  },
  {
   "cell_type": "code",
   "outputs": [
    {
     "data": {
      "text/plain": "year_of_reference     float64\nmonth_of_reference     object\nfipe_code              object\nauthentication         object\nbrand                  object\nmodel                  object\nfuel                   object\ngear                   object\nengine_size            object\nyear_model            float64\navg_price_brl         float64\ndtype: object"
     },
     "execution_count": 21,
     "metadata": {},
     "output_type": "execute_result"
    }
   ],
   "source": [
    "dados.dtypes"
   ],
   "metadata": {
    "collapsed": false,
    "ExecuteTime": {
     "end_time": "2024-03-15T18:52:26.618118Z",
     "start_time": "2024-03-15T18:52:26.613780Z"
    }
   },
   "id": "8dc75185b76fe17f",
   "execution_count": 21
  },
  {
   "cell_type": "markdown",
   "source": [
    "Criando categoria para separar colunas numericas e categoricas: facilita a EAD"
   ],
   "metadata": {
    "collapsed": false
   },
   "id": "be4dd24b63a2017"
  },
  {
   "cell_type": "code",
   "outputs": [],
   "source": [
    "numericas_colunas = [col for col in dados.columns if dados[col].dtype != 'object']\n",
    "categoricas_colunas = [col for col in dados.columns if not dados[col].dtype == 'object']"
   ],
   "metadata": {
    "collapsed": false,
    "ExecuteTime": {
     "end_time": "2024-03-15T18:52:26.624323Z",
     "start_time": "2024-03-15T18:52:26.620952Z"
    }
   },
   "id": "fa43549ef47ea4db",
   "execution_count": 22
  },
  {
   "cell_type": "markdown",
   "source": [
    "Resumo das variaveis numericas"
   ],
   "metadata": {
    "collapsed": false
   },
   "id": "2740b4f3ca54aa2a"
  },
  {
   "cell_type": "code",
   "outputs": [
    {
     "data": {
      "text/plain": "       year_of_reference     year_model  avg_price_brl\ncount      202297.000000  202297.000000  202297.000000\nmean         2021.564694    2011.271527   52756.909153\nstd             0.571903       6.376234   51628.677716\nmin          2021.000000    2000.000000    6647.000000\n25%          2021.000000    2006.000000   22855.000000\n50%          2022.000000    2012.000000   38027.000000\n75%          2022.000000    2016.000000   64064.000000\nmax          2023.000000    2023.000000  979358.000000",
      "text/html": "<div>\n<style scoped>\n    .dataframe tbody tr th:only-of-type {\n        vertical-align: middle;\n    }\n\n    .dataframe tbody tr th {\n        vertical-align: top;\n    }\n\n    .dataframe thead th {\n        text-align: right;\n    }\n</style>\n<table border=\"1\" class=\"dataframe\">\n  <thead>\n    <tr style=\"text-align: right;\">\n      <th></th>\n      <th>year_of_reference</th>\n      <th>year_model</th>\n      <th>avg_price_brl</th>\n    </tr>\n  </thead>\n  <tbody>\n    <tr>\n      <th>count</th>\n      <td>202297.000000</td>\n      <td>202297.000000</td>\n      <td>202297.000000</td>\n    </tr>\n    <tr>\n      <th>mean</th>\n      <td>2021.564694</td>\n      <td>2011.271527</td>\n      <td>52756.909153</td>\n    </tr>\n    <tr>\n      <th>std</th>\n      <td>0.571903</td>\n      <td>6.376234</td>\n      <td>51628.677716</td>\n    </tr>\n    <tr>\n      <th>min</th>\n      <td>2021.000000</td>\n      <td>2000.000000</td>\n      <td>6647.000000</td>\n    </tr>\n    <tr>\n      <th>25%</th>\n      <td>2021.000000</td>\n      <td>2006.000000</td>\n      <td>22855.000000</td>\n    </tr>\n    <tr>\n      <th>50%</th>\n      <td>2022.000000</td>\n      <td>2012.000000</td>\n      <td>38027.000000</td>\n    </tr>\n    <tr>\n      <th>75%</th>\n      <td>2022.000000</td>\n      <td>2016.000000</td>\n      <td>64064.000000</td>\n    </tr>\n    <tr>\n      <th>max</th>\n      <td>2023.000000</td>\n      <td>2023.000000</td>\n      <td>979358.000000</td>\n    </tr>\n  </tbody>\n</table>\n</div>"
     },
     "execution_count": 23,
     "metadata": {},
     "output_type": "execute_result"
    }
   ],
   "source": [
    "dados[numericas_colunas].describe()"
   ],
   "metadata": {
    "collapsed": false,
    "ExecuteTime": {
     "end_time": "2024-03-15T18:52:26.678549Z",
     "start_time": "2024-03-15T18:52:26.625454Z"
    }
   },
   "id": "f850415f9493645b",
   "execution_count": 23
  },
  {
   "cell_type": "markdown",
   "source": [
    "b.\tVerifique se há valores faltantes nos dados. Caso haja, escolha uma tratativa para resolver o problema de valores faltantes"
   ],
   "metadata": {
    "collapsed": false
   },
   "id": "14c9eb8c88b9bcfc"
  },
  {
   "cell_type": "code",
   "outputs": [
    {
     "data": {
      "text/plain": "year_of_reference     True\nmonth_of_reference    True\nfipe_code             True\nauthentication        True\nbrand                 True\nmodel                 True\nfuel                  True\ngear                  True\nengine_size           True\nyear_model            True\navg_price_brl         True\ndtype: bool"
     },
     "execution_count": 24,
     "metadata": {},
     "output_type": "execute_result"
    }
   ],
   "source": [
    "dados.isna().any()"
   ],
   "metadata": {
    "collapsed": false,
    "ExecuteTime": {
     "end_time": "2024-03-15T18:52:26.754971Z",
     "start_time": "2024-03-15T18:52:26.680369Z"
    }
   },
   "id": "5426fd155f36f4ae",
   "execution_count": 24
  },
  {
   "cell_type": "code",
   "outputs": [
    {
     "data": {
      "text/plain": "year_of_reference     65245\nmonth_of_reference    65245\nfipe_code             65245\nauthentication        65245\nbrand                 65245\nmodel                 65245\nfuel                  65245\ngear                  65245\nengine_size           65245\nyear_model            65245\navg_price_brl         65245\ndtype: int64"
     },
     "execution_count": 25,
     "metadata": {},
     "output_type": "execute_result"
    }
   ],
   "source": [
    "dados.isna().sum()"
   ],
   "metadata": {
    "collapsed": false,
    "ExecuteTime": {
     "end_time": "2024-03-15T18:52:26.830633Z",
     "start_time": "2024-03-15T18:52:26.756218Z"
    }
   },
   "id": "883990d667a82a44",
   "execution_count": 25
  },
  {
   "cell_type": "code",
   "outputs": [
    {
     "data": {
      "text/plain": "(267542, 11)"
     },
     "execution_count": 26,
     "metadata": {},
     "output_type": "execute_result"
    }
   ],
   "source": [
    "dados.shape"
   ],
   "metadata": {
    "collapsed": false,
    "ExecuteTime": {
     "end_time": "2024-03-15T18:52:26.835416Z",
     "start_time": "2024-03-15T18:52:26.831984Z"
    }
   },
   "id": "d4176d060adde17a",
   "execution_count": 26
  },
  {
   "cell_type": "markdown",
   "source": [
    "Tratamento de valores faltantes"
   ],
   "metadata": {
    "collapsed": false
   },
   "id": "e2b37912d472c252"
  },
  {
   "cell_type": "code",
   "outputs": [],
   "source": [
    "dados['year_of_reference'].fillna('Nada consta', inplace=True)\n",
    "dados['month_of_reference'].fillna('Nada consta', inplace=True)\n",
    "dados['fipe_code'].fillna('Nada consta', inplace=True)\n",
    "dados['authentication'].fillna('Nada consta', inplace=True)\n",
    "dados['brand'].fillna('Nada consta', inplace=True)\n",
    "dados['model'].fillna('Nada consta', inplace=True)\n",
    "dados['fuel'].fillna('Nada consta', inplace=True)\n",
    "dados['gear'].fillna('Nada consta', inplace=True)\n",
    "dados['engine_size'].fillna('Nada consta', inplace=True)\n",
    "dados['year_model'].fillna('Nada consta', inplace=True)"
   ],
   "metadata": {
    "collapsed": false,
    "ExecuteTime": {
     "end_time": "2024-03-15T18:52:49.730280Z",
     "start_time": "2024-03-15T18:52:49.629523Z"
    }
   },
   "id": "2b6f40f3f60831fa",
   "execution_count": 28
  },
  {
   "cell_type": "code",
   "outputs": [
    {
     "data": {
      "text/plain": "year_of_reference         0\nmonth_of_reference        0\nfipe_code                 0\nauthentication            0\nbrand                     0\nmodel                     0\nfuel                      0\ngear                      0\nengine_size               0\nyear_model                0\navg_price_brl         65245\ndtype: int64"
     },
     "execution_count": 29,
     "metadata": {},
     "output_type": "execute_result"
    }
   ],
   "source": [
    "dados.isna().sum()"
   ],
   "metadata": {
    "collapsed": false,
    "ExecuteTime": {
     "end_time": "2024-03-15T18:53:42.448111Z",
     "start_time": "2024-03-15T18:53:42.346800Z"
    }
   },
   "id": "deb4d95a06081038",
   "execution_count": 29
  },
  {
   "cell_type": "markdown",
   "source": [
    "c.\tVerifique se há dados duplicados nos dados"
   ],
   "metadata": {
    "collapsed": false
   },
   "id": "a1dc91890f65ef8d"
  },
  {
   "cell_type": "code",
   "outputs": [
    {
     "data": {
      "text/plain": "65246"
     },
     "execution_count": 32,
     "metadata": {},
     "output_type": "execute_result"
    }
   ],
   "source": [
    "dados.duplicated().sum()"
   ],
   "metadata": {
    "collapsed": false,
    "ExecuteTime": {
     "end_time": "2024-03-15T18:54:54.416690Z",
     "start_time": "2024-03-15T18:54:54.207179Z"
    }
   },
   "id": "c7b1c8d7cc5f3756",
   "execution_count": 32
  },
  {
   "cell_type": "code",
   "outputs": [
    {
     "data": {
      "text/plain": "(267542, 11)"
     },
     "execution_count": 34,
     "metadata": {},
     "output_type": "execute_result"
    }
   ],
   "source": [
    "dados.shape"
   ],
   "metadata": {
    "collapsed": false,
    "ExecuteTime": {
     "end_time": "2024-03-15T18:55:12.617265Z",
     "start_time": "2024-03-15T18:55:12.613028Z"
    }
   },
   "id": "4e69076b663c7189",
   "execution_count": 34
  },
  {
   "cell_type": "markdown",
   "source": [
    "d.\tCrie duas categorias, para separar colunas numéricas e categóricas. Imprima o resumo de informações das variáveis numéricas e categóricas (estatística descritiva dos dados)"
   ],
   "metadata": {
    "collapsed": false
   },
   "id": "16b21358a5682bf8"
  },
  {
   "cell_type": "code",
   "outputs": [],
   "source": [
    "numericas_colunas = [col for col in dados.columns if dados[col].dtype != 'object']\n",
    "categoricas_colunas = [col for col in dados.columns if not dados[col].dtype == 'object']"
   ],
   "metadata": {
    "collapsed": false,
    "ExecuteTime": {
     "end_time": "2024-03-16T06:56:56.871598Z",
     "start_time": "2024-03-16T06:56:56.814368Z"
    }
   },
   "id": "50aab6c2bd5406b3",
   "execution_count": 35
  },
  {
   "cell_type": "code",
   "outputs": [
    {
     "data": {
      "text/plain": "model\nNada consta                               65245\nFocus 1.6 S/SE/SE Plus Flex 8V/16V 5p       425\nPalio Week. Adv/Adv TRYON 1.8 mpi Flex      425\nSaveiro 1.6 Mi/ 1.6 Mi Total Flex 8V        400\nFocus 2.0 16V/SE/SE Plus Flex 5p Aut.       400\n                                          ...  \nSTEPWAY Zen Flex 1.0 12V Mec.                 2\nSaveiro Robust 1.6 Total Flex 16V CD          2\nSaveiro Robust 1.6 Total Flex 16V             2\nGol Last Edition 1.0 Flex 12V 5p              2\nPolo Track 1.0 Flex 12V 5p                    2\nName: count, Length: 2113, dtype: int64"
     },
     "execution_count": 42,
     "metadata": {},
     "output_type": "execute_result"
    }
   ],
   "source": [
    "dados['model'].value_counts()"
   ],
   "metadata": {
    "collapsed": false,
    "ExecuteTime": {
     "end_time": "2024-03-16T07:02:02.283237Z",
     "start_time": "2024-03-16T07:02:02.256979Z"
    }
   },
   "id": "1cffe23650708db9",
   "execution_count": 42
  },
  {
   "cell_type": "code",
   "outputs": [
    {
     "data": {
      "text/plain": "brand\nNada consta        65245\nFiat               44962\nVW - VolksWagen    44312\nGM - Chevrolet     38590\nFord               33151\nRenault            29192\nNissan             12090\nName: count, dtype: int64"
     },
     "execution_count": 43,
     "metadata": {},
     "output_type": "execute_result"
    }
   ],
   "source": [
    "dados['brand'].value_counts()"
   ],
   "metadata": {
    "collapsed": false,
    "ExecuteTime": {
     "end_time": "2024-03-16T07:02:05.365509Z",
     "start_time": "2024-03-16T07:02:05.336623Z"
    }
   },
   "id": "aa8244cb6e6340f9",
   "execution_count": 43
  },
  {
   "cell_type": "code",
   "outputs": [],
   "source": [],
   "metadata": {
    "collapsed": false
   },
   "id": "99a7b21402d6bb1a"
  }
 ],
 "metadata": {
  "kernelspec": {
   "display_name": "Python 3",
   "language": "python",
   "name": "python3"
  },
  "language_info": {
   "codemirror_mode": {
    "name": "ipython",
    "version": 2
   },
   "file_extension": ".py",
   "mimetype": "text/x-python",
   "name": "python",
   "nbconvert_exporter": "python",
   "pygments_lexer": "ipython2",
   "version": "2.7.6"
  }
 },
 "nbformat": 4,
 "nbformat_minor": 5
}
