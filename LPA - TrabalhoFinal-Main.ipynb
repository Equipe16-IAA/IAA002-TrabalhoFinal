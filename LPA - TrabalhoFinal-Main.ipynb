{
  "cells": [
    {
      "cell_type": "markdown",
      "metadata": {
        "id": "gXH7bxwkSph3"
      },
      "source": [
        "\n",
        "## LPA - Prática - Aula 27 - 5.3 Resolução do exercício\n",
        "---"
      ]
    },
    {
      "cell_type": "markdown",
      "metadata": {
        "id": "WoWtvYniWvy4"
      },
      "source": [
        "## Parte 1 - Importação das bibliotecas"
      ]
    },
    {
      "cell_type": "code",
      "execution_count": 1,
      "metadata": {},
      "outputs": [],
      "source": [
        "# Biblioteca Pandas - Manipulação de dados\n",
        "import pandas as pd\n",
        "# Biblioteca Seaborn - Criação de gráficos\n",
        "import seaborn as sns\n",
        "# Biblioteca Matplotlib - Criação de gráficos\n",
        "import matplotlib.pyplot as plt\n",
        "\n",
        "# OPCIONAL - Biblioteca para ignorar mensagens de warning (aviso) ao rodar uma célula de código\n",
        "import warnings\n",
        "warnings.filterwarnings('ignore')"
      ]
    },
    {
      "cell_type": "code",
      "execution_count": 2,
      "metadata": {},
      "outputs": [],
      "source": [
        "# Bibliotecas de machine learning\n",
        "from sklearn.model_selection import train_test_split\n",
        "from sklearn.ensemble import RandomForestRegressor\n",
        "from xgboost import XGBRegressor\n",
        "from sklearn.preprocessing import LabelEncoder\n",
        "\n",
        "# Métricas de avaliação dos modelos\n",
        "from sklearn.metrics import mean_squared_error, mean_absolute_error, r2_score"
      ]
    },
    {
      "cell_type": "markdown",
      "metadata": {},
      "source": [
        "---\n",
        "## Parte 2 - Importação das dos dados"
      ]
    },
    {
      "cell_type": "code",
      "execution_count": 3,
      "metadata": {},
      "outputs": [],
      "source": [
        "# Função read_csv para importar os dados da pasta do computador\n",
        "dados = pd.read_csv('database/precos_carros_brasil.csv')"
      ]
    },
    {
      "cell_type": "code",
      "execution_count": 4,
      "metadata": {},
      "outputs": [
        {
          "data": {
            "text/plain": [
              "Index(['year_of_reference', 'month_of_reference', 'fipe_code',\n",
              "       'authentication', 'brand', 'model', 'fuel', 'gear', 'engine_size',\n",
              "       'year_model', 'avg_price_brl'],\n",
              "      dtype='object')"
            ]
          },
          "execution_count": 4,
          "metadata": {},
          "output_type": "execute_result"
        }
      ],
      "source": [
        "# Listando o nome das colunas\n",
        "dados.columns"
      ]
    },
    {
      "cell_type": "code",
      "execution_count": 5,
      "metadata": {
        "colab": {
          "base_uri": "https://localhost:8080/",
          "height": 716
        },
        "id": "acunDqYqepLw",
        "outputId": "3f8009d0-7f17-4992-8616-5417da1f11b9"
      },
      "outputs": [
        {
          "data": {
            "text/html": [
              "<div>\n",
              "<style scoped>\n",
              "    .dataframe tbody tr th:only-of-type {\n",
              "        vertical-align: middle;\n",
              "    }\n",
              "\n",
              "    .dataframe tbody tr th {\n",
              "        vertical-align: top;\n",
              "    }\n",
              "\n",
              "    .dataframe thead th {\n",
              "        text-align: right;\n",
              "    }\n",
              "</style>\n",
              "<table border=\"1\" class=\"dataframe\">\n",
              "  <thead>\n",
              "    <tr style=\"text-align: right;\">\n",
              "      <th></th>\n",
              "      <th>year_of_reference</th>\n",
              "      <th>month_of_reference</th>\n",
              "      <th>fipe_code</th>\n",
              "      <th>authentication</th>\n",
              "      <th>brand</th>\n",
              "      <th>model</th>\n",
              "      <th>fuel</th>\n",
              "      <th>gear</th>\n",
              "      <th>engine_size</th>\n",
              "      <th>year_model</th>\n",
              "      <th>avg_price_brl</th>\n",
              "    </tr>\n",
              "  </thead>\n",
              "  <tbody>\n",
              "    <tr>\n",
              "      <th>0</th>\n",
              "      <td>2021.0</td>\n",
              "      <td>January</td>\n",
              "      <td>004001-0</td>\n",
              "      <td>cfzlctzfwrcp</td>\n",
              "      <td>GM - Chevrolet</td>\n",
              "      <td>Corsa Wind 1.0 MPFI / EFI 2p</td>\n",
              "      <td>Gasoline</td>\n",
              "      <td>manual</td>\n",
              "      <td>1</td>\n",
              "      <td>2002.0</td>\n",
              "      <td>9162.0</td>\n",
              "    </tr>\n",
              "    <tr>\n",
              "      <th>1</th>\n",
              "      <td>2021.0</td>\n",
              "      <td>January</td>\n",
              "      <td>004001-0</td>\n",
              "      <td>cdqwxwpw3y2p</td>\n",
              "      <td>GM - Chevrolet</td>\n",
              "      <td>Corsa Wind 1.0 MPFI / EFI 2p</td>\n",
              "      <td>Gasoline</td>\n",
              "      <td>manual</td>\n",
              "      <td>1</td>\n",
              "      <td>2001.0</td>\n",
              "      <td>8832.0</td>\n",
              "    </tr>\n",
              "    <tr>\n",
              "      <th>2</th>\n",
              "      <td>2021.0</td>\n",
              "      <td>January</td>\n",
              "      <td>004001-0</td>\n",
              "      <td>cb1t3xwwj1xp</td>\n",
              "      <td>GM - Chevrolet</td>\n",
              "      <td>Corsa Wind 1.0 MPFI / EFI 2p</td>\n",
              "      <td>Gasoline</td>\n",
              "      <td>manual</td>\n",
              "      <td>1</td>\n",
              "      <td>2000.0</td>\n",
              "      <td>8388.0</td>\n",
              "    </tr>\n",
              "    <tr>\n",
              "      <th>3</th>\n",
              "      <td>2021.0</td>\n",
              "      <td>January</td>\n",
              "      <td>004001-0</td>\n",
              "      <td>cb9gct6j65r0</td>\n",
              "      <td>GM - Chevrolet</td>\n",
              "      <td>Corsa Wind 1.0 MPFI / EFI 2p</td>\n",
              "      <td>Alcohol</td>\n",
              "      <td>manual</td>\n",
              "      <td>1</td>\n",
              "      <td>2000.0</td>\n",
              "      <td>8453.0</td>\n",
              "    </tr>\n",
              "    <tr>\n",
              "      <th>4</th>\n",
              "      <td>2021.0</td>\n",
              "      <td>January</td>\n",
              "      <td>004003-7</td>\n",
              "      <td>g15wg0gbz1fx</td>\n",
              "      <td>GM - Chevrolet</td>\n",
              "      <td>Corsa Pick-Up GL/ Champ 1.6 MPFI / EFI</td>\n",
              "      <td>Gasoline</td>\n",
              "      <td>manual</td>\n",
              "      <td>1,6</td>\n",
              "      <td>2001.0</td>\n",
              "      <td>12525.0</td>\n",
              "    </tr>\n",
              "  </tbody>\n",
              "</table>\n",
              "</div>"
            ],
            "text/plain": [
              "   year_of_reference month_of_reference fipe_code authentication  \\\n",
              "0             2021.0            January  004001-0   cfzlctzfwrcp   \n",
              "1             2021.0            January  004001-0   cdqwxwpw3y2p   \n",
              "2             2021.0            January  004001-0   cb1t3xwwj1xp   \n",
              "3             2021.0            January  004001-0   cb9gct6j65r0   \n",
              "4             2021.0            January  004003-7   g15wg0gbz1fx   \n",
              "\n",
              "            brand                                   model      fuel    gear  \\\n",
              "0  GM - Chevrolet            Corsa Wind 1.0 MPFI / EFI 2p  Gasoline  manual   \n",
              "1  GM - Chevrolet            Corsa Wind 1.0 MPFI / EFI 2p  Gasoline  manual   \n",
              "2  GM - Chevrolet            Corsa Wind 1.0 MPFI / EFI 2p  Gasoline  manual   \n",
              "3  GM - Chevrolet            Corsa Wind 1.0 MPFI / EFI 2p   Alcohol  manual   \n",
              "4  GM - Chevrolet  Corsa Pick-Up GL/ Champ 1.6 MPFI / EFI  Gasoline  manual   \n",
              "\n",
              "  engine_size  year_model  avg_price_brl  \n",
              "0           1      2002.0         9162.0  \n",
              "1           1      2001.0         8832.0  \n",
              "2           1      2000.0         8388.0  \n",
              "3           1      2000.0         8453.0  \n",
              "4         1,6      2001.0        12525.0  "
            ]
          },
          "execution_count": 5,
          "metadata": {},
          "output_type": "execute_result"
        }
      ],
      "source": [
        "# Imprimindo as 5 primeiras linhas\n",
        "dados.head()"
      ]
    },
    {
      "cell_type": "code",
      "execution_count": 6,
      "metadata": {},
      "outputs": [
        {
          "data": {
            "text/plain": [
              "(267542, 11)"
            ]
          },
          "execution_count": 6,
          "metadata": {},
          "output_type": "execute_result"
        }
      ],
      "source": [
        "# Observando número de linhas e colunas\n",
        "dados.shape"
      ]
    },
    {
      "cell_type": "markdown",
      "metadata": {
        "id": "-_Y0vCZaWx3x"
      },
      "source": [
        "Resumo dos dados: 1385 linhas e 10 colunas (variáveis)"
      ]
    },
    {
      "cell_type": "markdown",
      "metadata": {},
      "source": [
        "---\n",
        "## Parte 3: Análise Exploratória dos Dados (AED)"
      ]
    },
    {
      "cell_type": "markdown",
      "metadata": {},
      "source": [
        "#### Ter uma primeira visão sobre os dados e extrair os primeiros insights"
      ]
    },
    {
      "cell_type": "code",
      "execution_count": 7,
      "metadata": {},
      "outputs": [
        {
          "data": {
            "text/plain": [
              "year_of_reference     float64\n",
              "month_of_reference     object\n",
              "fipe_code              object\n",
              "authentication         object\n",
              "brand                  object\n",
              "model                  object\n",
              "fuel                   object\n",
              "gear                   object\n",
              "engine_size            object\n",
              "year_model            float64\n",
              "avg_price_brl         float64\n",
              "dtype: object"
            ]
          },
          "execution_count": 7,
          "metadata": {},
          "output_type": "execute_result"
        }
      ],
      "source": [
        "# Imprime o tipo de dado em cada coluna: object - variáveis categóricas; float64 e int64 - variáveis numéricas\n",
        "dados.dtypes"
      ]
    },
    {
      "cell_type": "code",
      "execution_count": 8,
      "metadata": {},
      "outputs": [],
      "source": [
        "# Transformando variaveis de ano em Inteiro\n",
        "dados['year_of_reference'] = dados['year_of_reference'].astype('Int64')\n",
        "dados['year_model'] = dados['year_model'].astype('Int64')"
      ]
    },
    {
      "cell_type": "code",
      "execution_count": 9,
      "metadata": {},
      "outputs": [],
      "source": [
        "def atribui_numericos_mes(mes):\n",
        "    if(mes == 'January'):\n",
        "        return 1\n",
        "    if(mes == 'February'):\n",
        "        return 2\n",
        "    if(mes == 'March'):\n",
        "        return 3\n",
        "    if(mes == 'April'):\n",
        "        return 4\n",
        "    if(mes == 'May'):\n",
        "        return 5\n",
        "    if(mes == 'June'):\n",
        "        return 6\n",
        "    if(mes == 'July'):\n",
        "        return 7\n",
        "    if(mes == 'August'):\n",
        "        return 8\n",
        "    if(mes == 'September'):\n",
        "        return 9\n",
        "    if(mes == 'October'):\n",
        "        return 10\n",
        "    if(mes == 'November'):\n",
        "        return 11\n",
        "    if(mes == 'December'):\n",
        "        return 12\n",
        "    \n",
        "dados['month_of_reference'] = dados['month_of_reference'].apply(atribui_numericos_mes)\n",
        "dados['month_of_reference'] = dados['month_of_reference'].astype('Int64')"
      ]
    },
    {
      "cell_type": "code",
      "execution_count": 10,
      "metadata": {},
      "outputs": [
        {
          "data": {
            "text/html": [
              "<div>\n",
              "<style scoped>\n",
              "    .dataframe tbody tr th:only-of-type {\n",
              "        vertical-align: middle;\n",
              "    }\n",
              "\n",
              "    .dataframe tbody tr th {\n",
              "        vertical-align: top;\n",
              "    }\n",
              "\n",
              "    .dataframe thead th {\n",
              "        text-align: right;\n",
              "    }\n",
              "</style>\n",
              "<table border=\"1\" class=\"dataframe\">\n",
              "  <thead>\n",
              "    <tr style=\"text-align: right;\">\n",
              "      <th></th>\n",
              "      <th>year_of_reference</th>\n",
              "      <th>month_of_reference</th>\n",
              "      <th>fipe_code</th>\n",
              "      <th>authentication</th>\n",
              "      <th>brand</th>\n",
              "      <th>model</th>\n",
              "      <th>fuel</th>\n",
              "      <th>gear</th>\n",
              "      <th>engine_size</th>\n",
              "      <th>year_model</th>\n",
              "      <th>avg_price_brl</th>\n",
              "    </tr>\n",
              "  </thead>\n",
              "  <tbody>\n",
              "    <tr>\n",
              "      <th>0</th>\n",
              "      <td>2021</td>\n",
              "      <td>1</td>\n",
              "      <td>004001-0</td>\n",
              "      <td>cfzlctzfwrcp</td>\n",
              "      <td>GM - Chevrolet</td>\n",
              "      <td>Corsa Wind 1.0 MPFI / EFI 2p</td>\n",
              "      <td>Gasoline</td>\n",
              "      <td>manual</td>\n",
              "      <td>1</td>\n",
              "      <td>2002</td>\n",
              "      <td>9162.0</td>\n",
              "    </tr>\n",
              "    <tr>\n",
              "      <th>1</th>\n",
              "      <td>2021</td>\n",
              "      <td>1</td>\n",
              "      <td>004001-0</td>\n",
              "      <td>cdqwxwpw3y2p</td>\n",
              "      <td>GM - Chevrolet</td>\n",
              "      <td>Corsa Wind 1.0 MPFI / EFI 2p</td>\n",
              "      <td>Gasoline</td>\n",
              "      <td>manual</td>\n",
              "      <td>1</td>\n",
              "      <td>2001</td>\n",
              "      <td>8832.0</td>\n",
              "    </tr>\n",
              "    <tr>\n",
              "      <th>2</th>\n",
              "      <td>2021</td>\n",
              "      <td>1</td>\n",
              "      <td>004001-0</td>\n",
              "      <td>cb1t3xwwj1xp</td>\n",
              "      <td>GM - Chevrolet</td>\n",
              "      <td>Corsa Wind 1.0 MPFI / EFI 2p</td>\n",
              "      <td>Gasoline</td>\n",
              "      <td>manual</td>\n",
              "      <td>1</td>\n",
              "      <td>2000</td>\n",
              "      <td>8388.0</td>\n",
              "    </tr>\n",
              "    <tr>\n",
              "      <th>3</th>\n",
              "      <td>2021</td>\n",
              "      <td>1</td>\n",
              "      <td>004001-0</td>\n",
              "      <td>cb9gct6j65r0</td>\n",
              "      <td>GM - Chevrolet</td>\n",
              "      <td>Corsa Wind 1.0 MPFI / EFI 2p</td>\n",
              "      <td>Alcohol</td>\n",
              "      <td>manual</td>\n",
              "      <td>1</td>\n",
              "      <td>2000</td>\n",
              "      <td>8453.0</td>\n",
              "    </tr>\n",
              "    <tr>\n",
              "      <th>4</th>\n",
              "      <td>2021</td>\n",
              "      <td>1</td>\n",
              "      <td>004003-7</td>\n",
              "      <td>g15wg0gbz1fx</td>\n",
              "      <td>GM - Chevrolet</td>\n",
              "      <td>Corsa Pick-Up GL/ Champ 1.6 MPFI / EFI</td>\n",
              "      <td>Gasoline</td>\n",
              "      <td>manual</td>\n",
              "      <td>1,6</td>\n",
              "      <td>2001</td>\n",
              "      <td>12525.0</td>\n",
              "    </tr>\n",
              "  </tbody>\n",
              "</table>\n",
              "</div>"
            ],
            "text/plain": [
              "   year_of_reference  month_of_reference fipe_code authentication  \\\n",
              "0               2021                   1  004001-0   cfzlctzfwrcp   \n",
              "1               2021                   1  004001-0   cdqwxwpw3y2p   \n",
              "2               2021                   1  004001-0   cb1t3xwwj1xp   \n",
              "3               2021                   1  004001-0   cb9gct6j65r0   \n",
              "4               2021                   1  004003-7   g15wg0gbz1fx   \n",
              "\n",
              "            brand                                   model      fuel    gear  \\\n",
              "0  GM - Chevrolet            Corsa Wind 1.0 MPFI / EFI 2p  Gasoline  manual   \n",
              "1  GM - Chevrolet            Corsa Wind 1.0 MPFI / EFI 2p  Gasoline  manual   \n",
              "2  GM - Chevrolet            Corsa Wind 1.0 MPFI / EFI 2p  Gasoline  manual   \n",
              "3  GM - Chevrolet            Corsa Wind 1.0 MPFI / EFI 2p   Alcohol  manual   \n",
              "4  GM - Chevrolet  Corsa Pick-Up GL/ Champ 1.6 MPFI / EFI  Gasoline  manual   \n",
              "\n",
              "  engine_size  year_model  avg_price_brl  \n",
              "0           1        2002         9162.0  \n",
              "1           1        2001         8832.0  \n",
              "2           1        2000         8388.0  \n",
              "3           1        2000         8453.0  \n",
              "4         1,6        2001        12525.0  "
            ]
          },
          "execution_count": 10,
          "metadata": {},
          "output_type": "execute_result"
        }
      ],
      "source": [
        "# Verificando a alteração\n",
        "dados.head()"
      ]
    },
    {
      "cell_type": "code",
      "execution_count": 11,
      "metadata": {},
      "outputs": [],
      "source": [
        "# Criando categorias para separar colunas numéricas e categóricas: facilita a AED\n",
        "numericas_cols = [col for col in dados.columns if dados[col].dtype != 'object']\n",
        "categoricas_cols = [col for col in dados.columns if dados[col].dtype == 'object']"
      ]
    },
    {
      "cell_type": "code",
      "execution_count": 12,
      "metadata": {},
      "outputs": [
        {
          "data": {
            "text/html": [
              "<div>\n",
              "<style scoped>\n",
              "    .dataframe tbody tr th:only-of-type {\n",
              "        vertical-align: middle;\n",
              "    }\n",
              "\n",
              "    .dataframe tbody tr th {\n",
              "        vertical-align: top;\n",
              "    }\n",
              "\n",
              "    .dataframe thead th {\n",
              "        text-align: right;\n",
              "    }\n",
              "</style>\n",
              "<table border=\"1\" class=\"dataframe\">\n",
              "  <thead>\n",
              "    <tr style=\"text-align: right;\">\n",
              "      <th></th>\n",
              "      <th>year_of_reference</th>\n",
              "      <th>month_of_reference</th>\n",
              "      <th>year_model</th>\n",
              "      <th>avg_price_brl</th>\n",
              "    </tr>\n",
              "  </thead>\n",
              "  <tbody>\n",
              "    <tr>\n",
              "      <th>count</th>\n",
              "      <td>202297.0</td>\n",
              "      <td>202297.0</td>\n",
              "      <td>202297.0</td>\n",
              "      <td>202297.000000</td>\n",
              "    </tr>\n",
              "    <tr>\n",
              "      <th>mean</th>\n",
              "      <td>2021.564694</td>\n",
              "      <td>6.295837</td>\n",
              "      <td>2011.271527</td>\n",
              "      <td>52756.909153</td>\n",
              "    </tr>\n",
              "    <tr>\n",
              "      <th>std</th>\n",
              "      <td>0.571903</td>\n",
              "      <td>3.552733</td>\n",
              "      <td>6.376234</td>\n",
              "      <td>51628.677716</td>\n",
              "    </tr>\n",
              "    <tr>\n",
              "      <th>min</th>\n",
              "      <td>2021.0</td>\n",
              "      <td>1.0</td>\n",
              "      <td>2000.0</td>\n",
              "      <td>6647.000000</td>\n",
              "    </tr>\n",
              "    <tr>\n",
              "      <th>25%</th>\n",
              "      <td>2021.0</td>\n",
              "      <td>3.0</td>\n",
              "      <td>2006.0</td>\n",
              "      <td>22855.000000</td>\n",
              "    </tr>\n",
              "    <tr>\n",
              "      <th>50%</th>\n",
              "      <td>2022.0</td>\n",
              "      <td>6.0</td>\n",
              "      <td>2012.0</td>\n",
              "      <td>38027.000000</td>\n",
              "    </tr>\n",
              "    <tr>\n",
              "      <th>75%</th>\n",
              "      <td>2022.0</td>\n",
              "      <td>9.0</td>\n",
              "      <td>2016.0</td>\n",
              "      <td>64064.000000</td>\n",
              "    </tr>\n",
              "    <tr>\n",
              "      <th>max</th>\n",
              "      <td>2023.0</td>\n",
              "      <td>12.0</td>\n",
              "      <td>2023.0</td>\n",
              "      <td>979358.000000</td>\n",
              "    </tr>\n",
              "  </tbody>\n",
              "</table>\n",
              "</div>"
            ],
            "text/plain": [
              "       year_of_reference  month_of_reference   year_model  avg_price_brl\n",
              "count           202297.0            202297.0     202297.0  202297.000000\n",
              "mean         2021.564694            6.295837  2011.271527   52756.909153\n",
              "std             0.571903            3.552733     6.376234   51628.677716\n",
              "min               2021.0                 1.0       2000.0    6647.000000\n",
              "25%               2021.0                 3.0       2006.0   22855.000000\n",
              "50%               2022.0                 6.0       2012.0   38027.000000\n",
              "75%               2022.0                 9.0       2016.0   64064.000000\n",
              "max               2023.0                12.0       2023.0  979358.000000"
            ]
          },
          "execution_count": 12,
          "metadata": {},
          "output_type": "execute_result"
        }
      ],
      "source": [
        "# Resumo das variáveis numéricas - Imprime alguns valores de medidas de tendências centrais \n",
        "dados[numericas_cols].describe()"
      ]
    },
    {
      "cell_type": "code",
      "execution_count": 13,
      "metadata": {},
      "outputs": [
        {
          "data": {
            "text/html": [
              "<div>\n",
              "<style scoped>\n",
              "    .dataframe tbody tr th:only-of-type {\n",
              "        vertical-align: middle;\n",
              "    }\n",
              "\n",
              "    .dataframe tbody tr th {\n",
              "        vertical-align: top;\n",
              "    }\n",
              "\n",
              "    .dataframe thead th {\n",
              "        text-align: right;\n",
              "    }\n",
              "</style>\n",
              "<table border=\"1\" class=\"dataframe\">\n",
              "  <thead>\n",
              "    <tr style=\"text-align: right;\">\n",
              "      <th></th>\n",
              "      <th>fipe_code</th>\n",
              "      <th>authentication</th>\n",
              "      <th>brand</th>\n",
              "      <th>model</th>\n",
              "      <th>fuel</th>\n",
              "      <th>gear</th>\n",
              "      <th>engine_size</th>\n",
              "    </tr>\n",
              "  </thead>\n",
              "  <tbody>\n",
              "    <tr>\n",
              "      <th>count</th>\n",
              "      <td>202297</td>\n",
              "      <td>202297</td>\n",
              "      <td>202297</td>\n",
              "      <td>202297</td>\n",
              "      <td>202297</td>\n",
              "      <td>202297</td>\n",
              "      <td>202297</td>\n",
              "    </tr>\n",
              "    <tr>\n",
              "      <th>unique</th>\n",
              "      <td>2091</td>\n",
              "      <td>202295</td>\n",
              "      <td>6</td>\n",
              "      <td>2112</td>\n",
              "      <td>3</td>\n",
              "      <td>2</td>\n",
              "      <td>29</td>\n",
              "    </tr>\n",
              "    <tr>\n",
              "      <th>top</th>\n",
              "      <td>003281-6</td>\n",
              "      <td>3r6c277cnqcb</td>\n",
              "      <td>Fiat</td>\n",
              "      <td>Palio Week. Adv/Adv TRYON 1.8 mpi Flex</td>\n",
              "      <td>Gasoline</td>\n",
              "      <td>manual</td>\n",
              "      <td>1,6</td>\n",
              "    </tr>\n",
              "    <tr>\n",
              "      <th>freq</th>\n",
              "      <td>425</td>\n",
              "      <td>2</td>\n",
              "      <td>44962</td>\n",
              "      <td>425</td>\n",
              "      <td>168685</td>\n",
              "      <td>161885</td>\n",
              "      <td>47420</td>\n",
              "    </tr>\n",
              "  </tbody>\n",
              "</table>\n",
              "</div>"
            ],
            "text/plain": [
              "       fipe_code authentication   brand  \\\n",
              "count     202297         202297  202297   \n",
              "unique      2091         202295       6   \n",
              "top     003281-6   3r6c277cnqcb    Fiat   \n",
              "freq         425              2   44962   \n",
              "\n",
              "                                         model      fuel    gear engine_size  \n",
              "count                                   202297    202297  202297      202297  \n",
              "unique                                    2112         3       2          29  \n",
              "top     Palio Week. Adv/Adv TRYON 1.8 mpi Flex  Gasoline  manual         1,6  \n",
              "freq                                       425    168685  161885       47420  "
            ]
          },
          "execution_count": 13,
          "metadata": {},
          "output_type": "execute_result"
        }
      ],
      "source": [
        "# Resumo das variáveis categóricas - Imprime alguns valores de estatística descritiva\n",
        "dados[categoricas_cols].describe()"
      ]
    },
    {
      "cell_type": "code",
      "execution_count": 14,
      "metadata": {},
      "outputs": [
        {
          "data": {
            "text/plain": [
              "year_of_reference     True\n",
              "month_of_reference    True\n",
              "fipe_code             True\n",
              "authentication        True\n",
              "brand                 True\n",
              "model                 True\n",
              "fuel                  True\n",
              "gear                  True\n",
              "engine_size           True\n",
              "year_model            True\n",
              "avg_price_brl         True\n",
              "dtype: bool"
            ]
          },
          "execution_count": 14,
          "metadata": {},
          "output_type": "execute_result"
        }
      ],
      "source": [
        "# Verificando se existem valores faltantes nos dados \n",
        "dados.isna().any()"
      ]
    },
    {
      "cell_type": "code",
      "execution_count": 15,
      "metadata": {},
      "outputs": [
        {
          "data": {
            "text/plain": [
              "year_of_reference     65245\n",
              "month_of_reference    65245\n",
              "fipe_code             65245\n",
              "authentication        65245\n",
              "brand                 65245\n",
              "model                 65245\n",
              "fuel                  65245\n",
              "gear                  65245\n",
              "engine_size           65245\n",
              "year_model            65245\n",
              "avg_price_brl         65245\n",
              "dtype: int64"
            ]
          },
          "execution_count": 15,
          "metadata": {},
          "output_type": "execute_result"
        }
      ],
      "source": [
        "# Verificando a quantidade de valores faltantes por coluna\n",
        "dados.isna().sum()"
      ]
    },
    {
      "cell_type": "code",
      "execution_count": 16,
      "metadata": {},
      "outputs": [],
      "source": [
        "#Remover linhas com dados faltantes\n",
        "#Dataset apresenta dados faltantes em todas as colunas\n",
        "dados.dropna(inplace=True)"
      ]
    },
    {
      "cell_type": "code",
      "execution_count": 115,
      "metadata": {},
      "outputs": [],
      "source": [
        "# Substituir os valores faltantes por \"Nada consta\". Argumento inplace = true significa que a modificação será aplicada  \n",
        "# Na mesma variável - chamada dados - sem precisar criar outra variável (dados_2, dados_V2, etc)\n",
        "#dados['Area Formacao'].fillna('Nada Consta', inplace=True)"
      ]
    },
    {
      "cell_type": "code",
      "execution_count": 116,
      "metadata": {},
      "outputs": [],
      "source": [
        "# Como fazer para substituir pela média\n",
        "# dados['Faixa Salarial – numero'].fillna(dados['Faixa Salarial – numero'].mean(), inplace=True)"
      ]
    },
    {
      "cell_type": "code",
      "execution_count": 117,
      "metadata": {},
      "outputs": [],
      "source": [
        "# Ou então, podemos excluir a coluna com valor faltante, se não for relevante para a análise\n",
        "# dados.drop('Faixa Salarial – numero', axis=1, inplace=True)\n",
        "\n",
        "## axis = 1 - sentido da coluna; axis = 2 - sentido das linhas"
      ]
    },
    {
      "cell_type": "code",
      "execution_count": 17,
      "metadata": {},
      "outputs": [
        {
          "data": {
            "text/plain": [
              "year_of_reference     0\n",
              "month_of_reference    0\n",
              "fipe_code             0\n",
              "authentication        0\n",
              "brand                 0\n",
              "model                 0\n",
              "fuel                  0\n",
              "gear                  0\n",
              "engine_size           0\n",
              "year_model            0\n",
              "avg_price_brl         0\n",
              "dtype: int64"
            ]
          },
          "execution_count": 17,
          "metadata": {},
          "output_type": "execute_result"
        }
      ],
      "source": [
        "# Depois das correções, verificando se ainda há valores faltantes\n",
        "dados.isna().sum()"
      ]
    },
    {
      "cell_type": "code",
      "execution_count": 18,
      "metadata": {},
      "outputs": [
        {
          "data": {
            "text/plain": [
              "2"
            ]
          },
          "execution_count": 18,
          "metadata": {},
          "output_type": "execute_result"
        }
      ],
      "source": [
        "# Verificando se temos valores duplicados\n",
        "dados.duplicated().sum() "
      ]
    },
    {
      "cell_type": "code",
      "execution_count": 19,
      "metadata": {},
      "outputs": [],
      "source": [
        "# Removendo valores duplicados\n",
        "dados.drop_duplicates(inplace=True)"
      ]
    },
    {
      "cell_type": "code",
      "execution_count": 20,
      "metadata": {},
      "outputs": [
        {
          "data": {
            "text/plain": [
              "(202295, 11)"
            ]
          },
          "execution_count": 20,
          "metadata": {},
          "output_type": "execute_result"
        }
      ],
      "source": [
        "# nº de linhas e colunas após mudanças. Caso houvesse dados duplicados, o número de linhas seria reduzido\n",
        "dados.shape"
      ]
    },
    {
      "cell_type": "code",
      "execution_count": 21,
      "metadata": {},
      "outputs": [
        {
          "data": {
            "text/plain": [
              "model\n",
              "Palio Week. Adv/Adv TRYON 1.8 mpi Flex    425\n",
              "Focus 1.6 S/SE/SE Plus Flex 8V/16V 5p     425\n",
              "Focus 2.0 16V/SE/SE Plus Flex 5p Aut.     400\n",
              "Saveiro 1.6 Mi/ 1.6 Mi Total Flex 8V      400\n",
              "Corvette 5.7/ 6.0, 6.2 Targa/Stingray     375\n",
              "                                         ... \n",
              "STEPWAY Zen Flex 1.0 12V Mec.               2\n",
              "Saveiro Robust 1.6 Total Flex 16V CD        2\n",
              "Saveiro Robust 1.6 Total Flex 16V           2\n",
              "Gol Last Edition 1.0 Flex 12V 5p            2\n",
              "Polo Track 1.0 Flex 12V 5p                  2\n",
              "Name: count, Length: 2112, dtype: int64"
            ]
          },
          "execution_count": 21,
          "metadata": {},
          "output_type": "execute_result"
        }
      ],
      "source": [
        "# Contagem de valores por categoria de 'Model'\n",
        "dados['model'].value_counts()"
      ]
    },
    {
      "cell_type": "code",
      "execution_count": 22,
      "metadata": {},
      "outputs": [
        {
          "data": {
            "text/plain": [
              "brand\n",
              "Fiat               44962\n",
              "VW - VolksWagen    44312\n",
              "GM - Chevrolet     38590\n",
              "Ford               33150\n",
              "Renault            29191\n",
              "Nissan             12090\n",
              "Name: count, dtype: int64"
            ]
          },
          "execution_count": 22,
          "metadata": {},
          "output_type": "execute_result"
        }
      ],
      "source": [
        "# Contagem de valores por categoria de 'Faixa Salarial'\n",
        "dados['brand'].value_counts()"
      ]
    },
    {
      "cell_type": "code",
      "execution_count": 23,
      "metadata": {},
      "outputs": [
        {
          "data": {
            "text/html": [
              "<div>\n",
              "<style scoped>\n",
              "    .dataframe tbody tr th:only-of-type {\n",
              "        vertical-align: middle;\n",
              "    }\n",
              "\n",
              "    .dataframe tbody tr th {\n",
              "        vertical-align: top;\n",
              "    }\n",
              "\n",
              "    .dataframe thead th {\n",
              "        text-align: right;\n",
              "    }\n",
              "</style>\n",
              "<table border=\"1\" class=\"dataframe\">\n",
              "  <thead>\n",
              "    <tr style=\"text-align: right;\">\n",
              "      <th></th>\n",
              "      <th>year_of_reference</th>\n",
              "      <th>month_of_reference</th>\n",
              "      <th>fipe_code</th>\n",
              "      <th>authentication</th>\n",
              "      <th>brand</th>\n",
              "      <th>model</th>\n",
              "      <th>fuel</th>\n",
              "      <th>gear</th>\n",
              "      <th>engine_size</th>\n",
              "      <th>year_model</th>\n",
              "      <th>avg_price_brl</th>\n",
              "    </tr>\n",
              "  </thead>\n",
              "  <tbody>\n",
              "    <tr>\n",
              "      <th>0</th>\n",
              "      <td>2021</td>\n",
              "      <td>1</td>\n",
              "      <td>004001-0</td>\n",
              "      <td>cfzlctzfwrcp</td>\n",
              "      <td>GM - Chevrolet</td>\n",
              "      <td>Corsa Wind 1.0 MPFI / EFI 2p</td>\n",
              "      <td>Gasoline</td>\n",
              "      <td>manual</td>\n",
              "      <td>1</td>\n",
              "      <td>2002</td>\n",
              "      <td>9162.0</td>\n",
              "    </tr>\n",
              "    <tr>\n",
              "      <th>1</th>\n",
              "      <td>2021</td>\n",
              "      <td>1</td>\n",
              "      <td>004001-0</td>\n",
              "      <td>cdqwxwpw3y2p</td>\n",
              "      <td>GM - Chevrolet</td>\n",
              "      <td>Corsa Wind 1.0 MPFI / EFI 2p</td>\n",
              "      <td>Gasoline</td>\n",
              "      <td>manual</td>\n",
              "      <td>1</td>\n",
              "      <td>2001</td>\n",
              "      <td>8832.0</td>\n",
              "    </tr>\n",
              "    <tr>\n",
              "      <th>2</th>\n",
              "      <td>2021</td>\n",
              "      <td>1</td>\n",
              "      <td>004001-0</td>\n",
              "      <td>cb1t3xwwj1xp</td>\n",
              "      <td>GM - Chevrolet</td>\n",
              "      <td>Corsa Wind 1.0 MPFI / EFI 2p</td>\n",
              "      <td>Gasoline</td>\n",
              "      <td>manual</td>\n",
              "      <td>1</td>\n",
              "      <td>2000</td>\n",
              "      <td>8388.0</td>\n",
              "    </tr>\n",
              "    <tr>\n",
              "      <th>3</th>\n",
              "      <td>2021</td>\n",
              "      <td>1</td>\n",
              "      <td>004001-0</td>\n",
              "      <td>cb9gct6j65r0</td>\n",
              "      <td>GM - Chevrolet</td>\n",
              "      <td>Corsa Wind 1.0 MPFI / EFI 2p</td>\n",
              "      <td>Alcohol</td>\n",
              "      <td>manual</td>\n",
              "      <td>1</td>\n",
              "      <td>2000</td>\n",
              "      <td>8453.0</td>\n",
              "    </tr>\n",
              "    <tr>\n",
              "      <th>4</th>\n",
              "      <td>2021</td>\n",
              "      <td>1</td>\n",
              "      <td>004003-7</td>\n",
              "      <td>g15wg0gbz1fx</td>\n",
              "      <td>GM - Chevrolet</td>\n",
              "      <td>Corsa Pick-Up GL/ Champ 1.6 MPFI / EFI</td>\n",
              "      <td>Gasoline</td>\n",
              "      <td>manual</td>\n",
              "      <td>1,6</td>\n",
              "      <td>2001</td>\n",
              "      <td>12525.0</td>\n",
              "    </tr>\n",
              "  </tbody>\n",
              "</table>\n",
              "</div>"
            ],
            "text/plain": [
              "   year_of_reference  month_of_reference fipe_code authentication  \\\n",
              "0               2021                   1  004001-0   cfzlctzfwrcp   \n",
              "1               2021                   1  004001-0   cdqwxwpw3y2p   \n",
              "2               2021                   1  004001-0   cb1t3xwwj1xp   \n",
              "3               2021                   1  004001-0   cb9gct6j65r0   \n",
              "4               2021                   1  004003-7   g15wg0gbz1fx   \n",
              "\n",
              "            brand                                   model      fuel    gear  \\\n",
              "0  GM - Chevrolet            Corsa Wind 1.0 MPFI / EFI 2p  Gasoline  manual   \n",
              "1  GM - Chevrolet            Corsa Wind 1.0 MPFI / EFI 2p  Gasoline  manual   \n",
              "2  GM - Chevrolet            Corsa Wind 1.0 MPFI / EFI 2p  Gasoline  manual   \n",
              "3  GM - Chevrolet            Corsa Wind 1.0 MPFI / EFI 2p   Alcohol  manual   \n",
              "4  GM - Chevrolet  Corsa Pick-Up GL/ Champ 1.6 MPFI / EFI  Gasoline  manual   \n",
              "\n",
              "  engine_size  year_model  avg_price_brl  \n",
              "0           1        2002         9162.0  \n",
              "1           1        2001         8832.0  \n",
              "2           1        2000         8388.0  \n",
              "3           1        2000         8453.0  \n",
              "4         1,6        2001        12525.0  "
            ]
          },
          "execution_count": 23,
          "metadata": {},
          "output_type": "execute_result"
        }
      ],
      "source": [
        "# Resultado após inserção de nova coluna\n",
        "dados.head()"
      ]
    },
    {
      "cell_type": "markdown",
      "metadata": {},
      "source": [
        "# A partir daqui falta alterar para o trabalho final"
      ]
    },
    {
      "cell_type": "markdown",
      "metadata": {},
      "source": [
        "---\n",
        "## Parte 4: Visualização dos resultados"
      ]
    },
    {
      "cell_type": "markdown",
      "metadata": {
        "id": "jow4o6M-Sph8"
      },
      "source": [
        "#### O que queremos responder com esses dados?"
      ]
    },
    {
      "cell_type": "markdown",
      "metadata": {
        "id": "8XCjYK45Sph8"
      },
      "source": [
        "### 1. Distribuição do nº de funcionários por sexo, nível de senioridade e nível de formação"
      ]
    },
    {
      "cell_type": "markdown",
      "metadata": {
        "id": "CbJH6VQ6rRHx"
      },
      "source": [
        "Podemos fazer um gráfico com a distribuição de homens e mulheres"
      ]
    },
    {
      "cell_type": "code",
      "execution_count": 24,
      "metadata": {
        "colab": {
          "base_uri": "https://localhost:8080/"
        },
        "collapsed": true,
        "id": "PRJSP9xcSph9",
        "outputId": "8b516048-63e1-455c-c65f-0e70aeecf1db"
      },
      "outputs": [],
      "source": [
        "# Contagem do nº de homens e mulheres na empresa\n",
        "quantidadeMarca = dados['brand'].value_counts()"
      ]
    },
    {
      "cell_type": "code",
      "execution_count": 25,
      "metadata": {
        "colab": {
          "base_uri": "https://localhost:8080/",
          "height": 314
        },
        "id": "OQwBJJqXh4Gi",
        "outputId": "a813a73a-9d94-4ea8-fab0-7ef99924e15a"
      },
      "outputs": [
        {
          "data": {
            "text/plain": [
              "Text(0, 0.5, 'Total de carros')"
            ]
          },
          "execution_count": 25,
          "metadata": {},
          "output_type": "execute_result"
        },
        {
          "data": {
            "image/png": "[encoded data removed]",
            "text/plain": [
              "<Figure size 2000x1000 with 1 Axes>"
            ]
          },
          "metadata": {},
          "output_type": "display_data"
        }
      ],
      "source": [
        "# Gráfico da distribuição por gênero - plt é a biblioteca Matplotlib\n",
        "plt.figure(figsize=(20,10))\n",
        "plt.bar(quantidadeMarca.index, quantidadeMarca.values) # plt.bar para gráfico de barras. Variáveis nos eixos X e Y\n",
        "plt.title('Quantidade de carros por marca') # plt.title para inserir título no gráfico\n",
        "plt.ylabel('Total de carros') # # plt.ylabel para inserir título no gráfico"
      ]
    },
    {
      "cell_type": "markdown",
      "metadata": {
        "id": "uTzH-6EniFZT"
      },
      "source": [
        "Vamos gerar esse gráfico de um jeito mais bonito"
      ]
    },
    {
      "cell_type": "markdown",
      "metadata": {
        "id": "rMyBlTho7Lls"
      },
      "source": [
        "Link de palletes do seaborn: [Palettes](https://seaborn.pydata.org/tutorial/color_palettes.html?highlight=palette)"
      ]
    },
    {
      "cell_type": "code",
      "execution_count": 26,
      "metadata": {
        "colab": {
          "base_uri": "https://localhost:8080/",
          "height": 314
        },
        "id": "UtjSpUxBh80B",
        "outputId": "47841c65-6177-47fe-da53-ca5cba182882"
      },
      "outputs": [
        {
          "data": {
            "text/plain": [
              "Text(0, 0.5, 'Total de carros')"
            ]
          },
          "execution_count": 26,
          "metadata": {},
          "output_type": "execute_result"
        },
        {
          "data": {
            "image/png": "[encoded data removed]",
            "text/plain": [
              "<Figure size 2000x1000 with 1 Axes>"
            ]
          },
          "metadata": {},
          "output_type": "display_data"
        }
      ],
      "source": [
        "quantidadeCarroEngrenagem = dados['gear'].value_counts()\n",
        "\n",
        "# Gráfico da distribuição por gênero - plt é a biblioteca Matplotlib\n",
        "plt.figure(figsize=(20,10))\n",
        "plt.bar(quantidadeCarroEngrenagem.index, quantidadeCarroEngrenagem.values) # plt.bar para gráfico de barras. Variáveis nos eixos X e Y\n",
        "plt.title('Quantidade de carros por Engrenagem') # plt.title para inserir título no gráfico\n",
        "plt.ylabel('Total de carros') # # plt.ylabel para inserir título no gráfico"
      ]
    },
    {
      "cell_type": "markdown",
      "metadata": {},
      "source": [
        "# A PARTIR DAQUI NÄO FUNCIONA"
      ]
    },
    {
      "cell_type": "code",
      "execution_count": 27,
      "metadata": {},
      "outputs": [
        {
          "ename": "TypeError",
          "evalue": "unhashable type: 'Series'",
          "output_type": "error",
          "traceback": [
            "\u001b[1;31m---------------------------------------------------------------------------\u001b[0m",
            "\u001b[1;31mTypeError\u001b[0m                                 Traceback (most recent call last)",
            "\u001b[1;32m~\\AppData\\Local\\Temp\\ipykernel_30056\\1285035878.py\u001b[0m in \u001b[0;36m?\u001b[1;34m()\u001b[0m\n\u001b[1;32m----> 1\u001b[1;33m \u001b[0mdados2022\u001b[0m \u001b[1;33m=\u001b[0m \u001b[0mdados\u001b[0m\u001b[1;33m.\u001b[0m\u001b[0mloc\u001b[0m\u001b[1;33m(\u001b[0m\u001b[0mdados\u001b[0m\u001b[1;33m[\u001b[0m\u001b[1;34m'year_of_reference'\u001b[0m\u001b[1;33m]\u001b[0m \u001b[1;33m==\u001b[0m \u001b[1;36m2022\u001b[0m\u001b[1;33m)\u001b[0m\u001b[1;33m\u001b[0m\u001b[1;33m\u001b[0m\u001b[0m\n\u001b[0m\u001b[0;32m      2\u001b[0m \u001b[1;33m\u001b[0m\u001b[0m\n\u001b[0;32m      3\u001b[0m \u001b[1;31m# Visualizando a média salarial por ano\u001b[0m\u001b[1;33m\u001b[0m\u001b[1;33m\u001b[0m\u001b[0m\n\u001b[0;32m      4\u001b[0m \u001b[0mplt\u001b[0m\u001b[1;33m.\u001b[0m\u001b[0mfigure\u001b[0m\u001b[1;33m(\u001b[0m\u001b[0mfigsize\u001b[0m\u001b[1;33m=\u001b[0m\u001b[1;33m(\u001b[0m\u001b[1;36m20\u001b[0m\u001b[1;33m,\u001b[0m\u001b[1;36m10\u001b[0m\u001b[1;33m)\u001b[0m\u001b[1;33m)\u001b[0m \u001b[1;31m# Aumentar tamanho da imagem que será impressa na tela\u001b[0m\u001b[1;33m\u001b[0m\u001b[1;33m\u001b[0m\u001b[0m\n",
            "\u001b[1;32mc:\\Users\\Marlon\\AppData\\Local\\Programs\\Python\\Python312\\Lib\\site-packages\\pandas\\core\\indexing.py\u001b[0m in \u001b[0;36m?\u001b[1;34m(self, axis)\u001b[0m\n\u001b[0;32m    734\u001b[0m         \u001b[1;31m# we need to return a copy of ourselves\u001b[0m\u001b[1;33m\u001b[0m\u001b[1;33m\u001b[0m\u001b[0m\n\u001b[0;32m    735\u001b[0m         \u001b[0mnew_self\u001b[0m \u001b[1;33m=\u001b[0m \u001b[0mtype\u001b[0m\u001b[1;33m(\u001b[0m\u001b[0mself\u001b[0m\u001b[1;33m)\u001b[0m\u001b[1;33m(\u001b[0m\u001b[0mself\u001b[0m\u001b[1;33m.\u001b[0m\u001b[0mname\u001b[0m\u001b[1;33m,\u001b[0m \u001b[0mself\u001b[0m\u001b[1;33m.\u001b[0m\u001b[0mobj\u001b[0m\u001b[1;33m)\u001b[0m\u001b[1;33m\u001b[0m\u001b[1;33m\u001b[0m\u001b[0m\n\u001b[0;32m    736\u001b[0m \u001b[1;33m\u001b[0m\u001b[0m\n\u001b[0;32m    737\u001b[0m         \u001b[1;32mif\u001b[0m \u001b[0maxis\u001b[0m \u001b[1;32mis\u001b[0m \u001b[1;32mnot\u001b[0m \u001b[1;32mNone\u001b[0m\u001b[1;33m:\u001b[0m\u001b[1;33m\u001b[0m\u001b[1;33m\u001b[0m\u001b[0m\n\u001b[1;32m--> 738\u001b[1;33m             \u001b[0maxis_int_none\u001b[0m \u001b[1;33m=\u001b[0m \u001b[0mself\u001b[0m\u001b[1;33m.\u001b[0m\u001b[0mobj\u001b[0m\u001b[1;33m.\u001b[0m\u001b[0m_get_axis_number\u001b[0m\u001b[1;33m(\u001b[0m\u001b[0maxis\u001b[0m\u001b[1;33m)\u001b[0m\u001b[1;33m\u001b[0m\u001b[1;33m\u001b[0m\u001b[0m\n\u001b[0m\u001b[0;32m    739\u001b[0m         \u001b[1;32melse\u001b[0m\u001b[1;33m:\u001b[0m\u001b[1;33m\u001b[0m\u001b[1;33m\u001b[0m\u001b[0m\n\u001b[0;32m    740\u001b[0m             \u001b[0maxis_int_none\u001b[0m \u001b[1;33m=\u001b[0m \u001b[0maxis\u001b[0m\u001b[1;33m\u001b[0m\u001b[1;33m\u001b[0m\u001b[0m\n\u001b[0;32m    741\u001b[0m         \u001b[0mnew_self\u001b[0m\u001b[1;33m.\u001b[0m\u001b[0maxis\u001b[0m \u001b[1;33m=\u001b[0m \u001b[0maxis_int_none\u001b[0m\u001b[1;33m\u001b[0m\u001b[1;33m\u001b[0m\u001b[0m\n",
            "\u001b[1;32mc:\\Users\\Marlon\\AppData\\Local\\Programs\\Python\\Python312\\Lib\\site-packages\\pandas\\core\\generic.py\u001b[0m in \u001b[0;36m?\u001b[1;34m(cls, axis)\u001b[0m\n\u001b[0;32m    572\u001b[0m     \u001b[1;33m@\u001b[0m\u001b[0mclassmethod\u001b[0m\u001b[1;33m\u001b[0m\u001b[1;33m\u001b[0m\u001b[0m\n\u001b[0;32m    573\u001b[0m     \u001b[1;32mdef\u001b[0m \u001b[0m_get_axis_number\u001b[0m\u001b[1;33m(\u001b[0m\u001b[0mcls\u001b[0m\u001b[1;33m,\u001b[0m \u001b[0maxis\u001b[0m\u001b[1;33m:\u001b[0m \u001b[0mAxis\u001b[0m\u001b[1;33m)\u001b[0m \u001b[1;33m->\u001b[0m \u001b[0mAxisInt\u001b[0m\u001b[1;33m:\u001b[0m\u001b[1;33m\u001b[0m\u001b[1;33m\u001b[0m\u001b[0m\n\u001b[0;32m    574\u001b[0m         \u001b[1;32mtry\u001b[0m\u001b[1;33m:\u001b[0m\u001b[1;33m\u001b[0m\u001b[1;33m\u001b[0m\u001b[0m\n\u001b[0;32m    575\u001b[0m             \u001b[1;32mreturn\u001b[0m \u001b[0mcls\u001b[0m\u001b[1;33m.\u001b[0m\u001b[0m_AXIS_TO_AXIS_NUMBER\u001b[0m\u001b[1;33m[\u001b[0m\u001b[0maxis\u001b[0m\u001b[1;33m]\u001b[0m\u001b[1;33m\u001b[0m\u001b[1;33m\u001b[0m\u001b[0m\n\u001b[1;32m--> 576\u001b[1;33m         \u001b[1;32mexcept\u001b[0m \u001b[0mKeyError\u001b[0m\u001b[1;33m:\u001b[0m\u001b[1;33m\u001b[0m\u001b[1;33m\u001b[0m\u001b[0m\n\u001b[0m\u001b[0;32m    577\u001b[0m             \u001b[1;32mraise\u001b[0m \u001b[0mValueError\u001b[0m\u001b[1;33m(\u001b[0m\u001b[1;33mf\"\u001b[0m\u001b[1;33mNo axis named \u001b[0m\u001b[1;33m{\u001b[0m\u001b[0maxis\u001b[0m\u001b[1;33m}\u001b[0m\u001b[1;33m for object type \u001b[0m\u001b[1;33m{\u001b[0m\u001b[0mcls\u001b[0m\u001b[1;33m.\u001b[0m\u001b[0m__name__\u001b[0m\u001b[1;33m}\u001b[0m\u001b[1;33m\"\u001b[0m\u001b[1;33m)\u001b[0m\u001b[1;33m\u001b[0m\u001b[1;33m\u001b[0m\u001b[0m\n",
            "\u001b[1;31mTypeError\u001b[0m: unhashable type: 'Series'"
          ]
        }
      ],
      "source": [
        "dados2022 = dados.loc(dados['year_of_reference'] == 2022)\n",
        "\n",
        "# Visualizando a média salarial por ano\n",
        "plt.figure(figsize=(20,10)) # Aumentar tamanho da imagem que será impressa na tela\n",
        "sns.barplot(x='month_of_reference', y='avg_price_brl', hue='year_of_reference', data=dados2022, hue_order=['2022'])\n",
        "plt.xticks(rotation=45);"
      ]
    },
    {
      "cell_type": "markdown",
      "metadata": {},
      "source": [
        "Agora por nível de senioridade"
      ]
    },
    {
      "cell_type": "code",
      "execution_count": 130,
      "metadata": {},
      "outputs": [
        {
          "data": {
            "image/png": "[encoded data removed]",
            "text/plain": [
              "<Figure size 2000x1000 with 1 Axes>"
            ]
          },
          "metadata": {},
          "output_type": "display_data"
        }
      ],
      "source": [
        "plt.figure(figsize=(20,10))\n",
        "plt.bar(dados['Nivel'].unique(), dados['Nivel'].value_counts())\n",
        "plt.title('Distribuição de funcionários por nível de senioridade')\n",
        "plt.ylabel('Total de funcionários');"
      ]
    },
    {
      "cell_type": "markdown",
      "metadata": {
        "id": "9JXxTx3SSph_"
      },
      "source": [
        "---\n",
        "### 2. Evolução da média salarial ao longo do tempo, com base na data de último aumento"
      ]
    },
    {
      "cell_type": "code",
      "execution_count": 131,
      "metadata": {},
      "outputs": [],
      "source": [
        "# Criando uma coluna somente com o ano de aumento\n",
        "dados['Data ultimo aumento - Ano']=dados['Data ultimo aumento'].dt.year"
      ]
    },
    {
      "cell_type": "code",
      "execution_count": 132,
      "metadata": {},
      "outputs": [
        {
          "data": {
            "text/plain": [
              "Idade                                 int64\n",
              "Genero                               object\n",
              "Nivel Ensino                         object\n",
              "Area Formacao                        object\n",
              "Setor                                object\n",
              "Nivel                                object\n",
              "Faixa Salarial                       object\n",
              "Anos experiencia                     object\n",
              "Faixa Salarial – numero               int64\n",
              "Data ultimo aumento          datetime64[ns]\n",
              "Média Salarial                      float64\n",
              "Data ultimo aumento - Ano            object\n",
              "dtype: object"
            ]
          },
          "execution_count": 132,
          "metadata": {},
          "output_type": "execute_result"
        }
      ],
      "source": [
        "# Transformando a coluna ano em categoria\n",
        "dados['Data ultimo aumento - Ano'] = dados['Data ultimo aumento - Ano'].astype(str)\n",
        "dados.dtypes"
      ]
    },
    {
      "cell_type": "code",
      "execution_count": 133,
      "metadata": {},
      "outputs": [
        {
          "data": {
            "text/plain": [
              "Data ultimo aumento - Ano  Genero   \n",
              "2021                       Feminino      9695.0\n",
              "                           Masculino     9495.0\n",
              "2022                       Feminino      9331.0\n",
              "                           Masculino    11271.0\n",
              "2023                       Feminino      9440.0\n",
              "Name: Faixa Salarial – numero, dtype: float64"
            ]
          },
          "execution_count": 133,
          "metadata": {},
          "output_type": "execute_result"
        }
      ],
      "source": [
        "# Calculando a média por ano (coluna Data ultimo aumento - Ano) para saber se os salários aumentaram ou diminuíram entre 2021 e 2023\n",
        "media_salarial_ano = dados.groupby(['Data ultimo aumento - Ano', 'Genero'])['Faixa Salarial – numero'].mean().round(0) # round para arrendodar\n",
        "media_salarial_ano.head()"
      ]
    },
    {
      "cell_type": "code",
      "execution_count": 134,
      "metadata": {},
      "outputs": [
        {
          "data": {
            "text/html": [
              "<div>\n",
              "<style scoped>\n",
              "    .dataframe tbody tr th:only-of-type {\n",
              "        vertical-align: middle;\n",
              "    }\n",
              "\n",
              "    .dataframe tbody tr th {\n",
              "        vertical-align: top;\n",
              "    }\n",
              "\n",
              "    .dataframe thead th {\n",
              "        text-align: right;\n",
              "    }\n",
              "</style>\n",
              "<table border=\"1\" class=\"dataframe\">\n",
              "  <thead>\n",
              "    <tr style=\"text-align: right;\">\n",
              "      <th></th>\n",
              "      <th>Data ultimo aumento - Ano</th>\n",
              "      <th>Genero</th>\n",
              "      <th>Salario Medio</th>\n",
              "    </tr>\n",
              "  </thead>\n",
              "  <tbody>\n",
              "    <tr>\n",
              "      <th>0</th>\n",
              "      <td>2021</td>\n",
              "      <td>Feminino</td>\n",
              "      <td>9695.0</td>\n",
              "    </tr>\n",
              "    <tr>\n",
              "      <th>1</th>\n",
              "      <td>2021</td>\n",
              "      <td>Masculino</td>\n",
              "      <td>9495.0</td>\n",
              "    </tr>\n",
              "    <tr>\n",
              "      <th>2</th>\n",
              "      <td>2022</td>\n",
              "      <td>Feminino</td>\n",
              "      <td>9331.0</td>\n",
              "    </tr>\n",
              "    <tr>\n",
              "      <th>3</th>\n",
              "      <td>2022</td>\n",
              "      <td>Masculino</td>\n",
              "      <td>11271.0</td>\n",
              "    </tr>\n",
              "    <tr>\n",
              "      <th>4</th>\n",
              "      <td>2023</td>\n",
              "      <td>Feminino</td>\n",
              "      <td>9440.0</td>\n",
              "    </tr>\n",
              "  </tbody>\n",
              "</table>\n",
              "</div>"
            ],
            "text/plain": [
              "  Data ultimo aumento - Ano     Genero  Salario Medio\n",
              "0                      2021   Feminino         9695.0\n",
              "1                      2021  Masculino         9495.0\n",
              "2                      2022   Feminino         9331.0\n",
              "3                      2022  Masculino        11271.0\n",
              "4                      2023   Feminino         9440.0"
            ]
          },
          "execution_count": 134,
          "metadata": {},
          "output_type": "execute_result"
        }
      ],
      "source": [
        "# Utilizando a função reset_index para criar uma ordem e facilitar a criação do gráfico\n",
        "media_salarial_ano = media_salarial_ano.reset_index(name='Salario Medio')\n",
        "media_salarial_ano.head()"
      ]
    },
    {
      "cell_type": "code",
      "execution_count": 135,
      "metadata": {},
      "outputs": [
        {
          "data": {
            "image/png": "[encoded data removed]",
            "text/plain": [
              "<Figure size 2000x1000 with 1 Axes>"
            ]
          },
          "metadata": {},
          "output_type": "display_data"
        }
      ],
      "source": [
        "# Visualizando a média salarial por ano\n",
        "plt.figure(figsize=(20,10)) # Aumentar tamanho da imagem que será impressa na tela\n",
        "sns.barplot(x='Data ultimo aumento - Ano', y='Salario Medio', hue='Genero', data=media_salarial_ano, hue_order=['Masculino', 'Feminino'])\n",
        "plt.xticks(rotation=45);"
      ]
    },
    {
      "cell_type": "markdown",
      "metadata": {},
      "source": [
        "#### Houve um aumento médio no salário dos funcionários entre 2021 e 2022. Entre 2022 e 2023, houve uma queda"
      ]
    },
    {
      "cell_type": "markdown",
      "metadata": {},
      "source": [
        "---\n",
        "### 3. Distribuição salarial por nível de senioridade e gênero"
      ]
    },
    {
      "cell_type": "code",
      "execution_count": 136,
      "metadata": {},
      "outputs": [
        {
          "data": {
            "text/plain": [
              "Genero     Nivel \n",
              "Feminino   Júnior    134\n",
              "           Pleno     123\n",
              "           Sênior     88\n",
              "           Gestor     61\n",
              "Masculino  Pleno     317\n",
              "Name: count, dtype: int64"
            ]
          },
          "execution_count": 136,
          "metadata": {},
          "output_type": "execute_result"
        }
      ],
      "source": [
        "# Agrupamento por gênero e nível do cargo - Júnior, Pleno, Sênior e Gestão\n",
        "agrupamento_nivel_cargo = dados.groupby('Genero')['Nivel'].value_counts()\n",
        "agrupamento_nivel_cargo.head()"
      ]
    },
    {
      "cell_type": "code",
      "execution_count": 137,
      "metadata": {},
      "outputs": [
        {
          "data": {
            "text/plain": [
              "Genero     Nivel \n",
              "Feminino   Gestor    16491.803279\n",
              "           Júnior     4985.074627\n",
              "           Pleno      8910.569106\n",
              "           Sênior    12386.363636\n",
              "Masculino  Gestor    16514.285714\n",
              "Name: Faixa Salarial – numero, dtype: float64"
            ]
          },
          "execution_count": 137,
          "metadata": {},
          "output_type": "execute_result"
        }
      ],
      "source": [
        "# Cálculo da média por nível do cargo e gênero\n",
        "media_nivel_cargo = dados.groupby(['Genero', 'Nivel'])['Faixa Salarial – numero'].mean()\n",
        "media_nivel_cargo.head()"
      ]
    },
    {
      "cell_type": "code",
      "execution_count": 138,
      "metadata": {},
      "outputs": [
        {
          "data": {
            "text/html": [
              "<div>\n",
              "<style scoped>\n",
              "    .dataframe tbody tr th:only-of-type {\n",
              "        vertical-align: middle;\n",
              "    }\n",
              "\n",
              "    .dataframe tbody tr th {\n",
              "        vertical-align: top;\n",
              "    }\n",
              "\n",
              "    .dataframe thead th {\n",
              "        text-align: right;\n",
              "    }\n",
              "</style>\n",
              "<table border=\"1\" class=\"dataframe\">\n",
              "  <thead>\n",
              "    <tr style=\"text-align: right;\">\n",
              "      <th></th>\n",
              "      <th>Genero</th>\n",
              "      <th>Nivel</th>\n",
              "      <th>Salario Medio</th>\n",
              "    </tr>\n",
              "  </thead>\n",
              "  <tbody>\n",
              "    <tr>\n",
              "      <th>0</th>\n",
              "      <td>Feminino</td>\n",
              "      <td>Gestor</td>\n",
              "      <td>16491.803279</td>\n",
              "    </tr>\n",
              "    <tr>\n",
              "      <th>1</th>\n",
              "      <td>Feminino</td>\n",
              "      <td>Júnior</td>\n",
              "      <td>4985.074627</td>\n",
              "    </tr>\n",
              "    <tr>\n",
              "      <th>2</th>\n",
              "      <td>Feminino</td>\n",
              "      <td>Pleno</td>\n",
              "      <td>8910.569106</td>\n",
              "    </tr>\n",
              "    <tr>\n",
              "      <th>3</th>\n",
              "      <td>Feminino</td>\n",
              "      <td>Sênior</td>\n",
              "      <td>12386.363636</td>\n",
              "    </tr>\n",
              "    <tr>\n",
              "      <th>4</th>\n",
              "      <td>Masculino</td>\n",
              "      <td>Gestor</td>\n",
              "      <td>16514.285714</td>\n",
              "    </tr>\n",
              "  </tbody>\n",
              "</table>\n",
              "</div>"
            ],
            "text/plain": [
              "      Genero   Nivel  Salario Medio\n",
              "0   Feminino  Gestor   16491.803279\n",
              "1   Feminino  Júnior    4985.074627\n",
              "2   Feminino   Pleno    8910.569106\n",
              "3   Feminino  Sênior   12386.363636\n",
              "4  Masculino  Gestor   16514.285714"
            ]
          },
          "execution_count": 138,
          "metadata": {},
          "output_type": "execute_result"
        }
      ],
      "source": [
        "# Utilizando a função reset_index para criar uma ordem e facilitar a criação do gráfico\n",
        "media_nivel_cargo = media_nivel_cargo.reset_index(name='Salario Medio')\n",
        "media_nivel_cargo.head()"
      ]
    },
    {
      "cell_type": "code",
      "execution_count": 139,
      "metadata": {},
      "outputs": [
        {
          "data": {
            "image/png": "[encoded data removed]",
            "text/plain": [
              "<Figure size 2000x1000 with 1 Axes>"
            ]
          },
          "metadata": {},
          "output_type": "display_data"
        }
      ],
      "source": [
        "# Visualizando a média salarial por nível do cargo\n",
        "plt.figure(figsize=(20,10))\n",
        "sns.barplot(x='Nivel', y='Salario Medio', hue='Genero', data=media_nivel_cargo, hue_order=['Masculino', 'Feminino']);"
      ]
    },
    {
      "cell_type": "markdown",
      "metadata": {},
      "source": [
        "---\n",
        "### 4. Distribuição salarial por anos de experiência e gênero"
      ]
    },
    {
      "cell_type": "markdown",
      "metadata": {
        "id": "RchCPBck4PTl"
      },
      "source": [
        "### Vamos analisar os salários\n",
        "\n",
        "Primeiro vamos fazer um histograma para analisar a distribuição geral dos salários"
      ]
    },
    {
      "cell_type": "code",
      "execution_count": 140,
      "metadata": {
        "colab": {
          "base_uri": "https://localhost:8080/",
          "height": 282
        },
        "id": "hA6LYRLA3EOR",
        "outputId": "7a3a8e11-df9f-42a7-971b-cca0d3af05ad"
      },
      "outputs": [
        {
          "data": {
            "text/plain": [
              "<Axes: >"
            ]
          },
          "execution_count": 140,
          "metadata": {},
          "output_type": "execute_result"
        },
        {
          "data": {
            "image/png": "[encoded data removed]",
            "text/plain": [
              "<Figure size 640x480 with 1 Axes>"
            ]
          },
          "metadata": {},
          "output_type": "display_data"
        }
      ],
      "source": [
        "dados['Faixa Salarial – numero'].hist()"
      ]
    },
    {
      "cell_type": "code",
      "execution_count": 141,
      "metadata": {},
      "outputs": [
        {
          "data": {
            "text/plain": [
              "Genero    Anos experiencia\n",
              "Feminino  Menos de 1 ano      90\n",
              "          de 1 a 2 anos       87\n",
              "          de 2 a 3 anos       82\n",
              "          de 4 a 5 anos       70\n",
              "          de 6 a 10 anos      41\n",
              "Name: count, dtype: int64"
            ]
          },
          "execution_count": 141,
          "metadata": {},
          "output_type": "execute_result"
        }
      ],
      "source": [
        "# Agrupamento por gênero e anos de experiência\n",
        "agrupamento_anos_experiencia = dados.groupby('Genero')['Anos experiencia'].value_counts()\n",
        "agrupamento_anos_experiencia.head()"
      ]
    },
    {
      "cell_type": "code",
      "execution_count": 142,
      "metadata": {},
      "outputs": [
        {
          "data": {
            "text/plain": [
              "Genero    Anos experiencia\n",
              "Feminino  Mais de 10 anos     15083.333333\n",
              "          Menos de 1 ano       5388.888889\n",
              "          de 1 a 2 anos        7540.229885\n",
              "          de 2 a 3 anos        9512.195122\n",
              "          de 4 a 5 anos       11685.714286\n",
              "Name: Faixa Salarial – numero, dtype: float64"
            ]
          },
          "execution_count": 142,
          "metadata": {},
          "output_type": "execute_result"
        }
      ],
      "source": [
        "# Cálculo da média por anos de experiência e gênero\n",
        "media_anos_experiencia = dados.groupby(['Genero', 'Anos experiencia'])['Faixa Salarial – numero'].mean()\n",
        "media_anos_experiencia.head()"
      ]
    },
    {
      "cell_type": "code",
      "execution_count": 143,
      "metadata": {},
      "outputs": [
        {
          "data": {
            "text/html": [
              "<div>\n",
              "<style scoped>\n",
              "    .dataframe tbody tr th:only-of-type {\n",
              "        vertical-align: middle;\n",
              "    }\n",
              "\n",
              "    .dataframe tbody tr th {\n",
              "        vertical-align: top;\n",
              "    }\n",
              "\n",
              "    .dataframe thead th {\n",
              "        text-align: right;\n",
              "    }\n",
              "</style>\n",
              "<table border=\"1\" class=\"dataframe\">\n",
              "  <thead>\n",
              "    <tr style=\"text-align: right;\">\n",
              "      <th></th>\n",
              "      <th>Genero</th>\n",
              "      <th>Anos experiencia</th>\n",
              "      <th>Salario Medio</th>\n",
              "    </tr>\n",
              "  </thead>\n",
              "  <tbody>\n",
              "    <tr>\n",
              "      <th>0</th>\n",
              "      <td>Feminino</td>\n",
              "      <td>Mais de 10 anos</td>\n",
              "      <td>15083.333333</td>\n",
              "    </tr>\n",
              "    <tr>\n",
              "      <th>1</th>\n",
              "      <td>Feminino</td>\n",
              "      <td>Menos de 1 ano</td>\n",
              "      <td>5388.888889</td>\n",
              "    </tr>\n",
              "    <tr>\n",
              "      <th>2</th>\n",
              "      <td>Feminino</td>\n",
              "      <td>de 1 a 2 anos</td>\n",
              "      <td>7540.229885</td>\n",
              "    </tr>\n",
              "    <tr>\n",
              "      <th>3</th>\n",
              "      <td>Feminino</td>\n",
              "      <td>de 2 a 3 anos</td>\n",
              "      <td>9512.195122</td>\n",
              "    </tr>\n",
              "    <tr>\n",
              "      <th>4</th>\n",
              "      <td>Feminino</td>\n",
              "      <td>de 4 a 5 anos</td>\n",
              "      <td>11685.714286</td>\n",
              "    </tr>\n",
              "  </tbody>\n",
              "</table>\n",
              "</div>"
            ],
            "text/plain": [
              "     Genero Anos experiencia  Salario Medio\n",
              "0  Feminino  Mais de 10 anos   15083.333333\n",
              "1  Feminino   Menos de 1 ano    5388.888889\n",
              "2  Feminino    de 1 a 2 anos    7540.229885\n",
              "3  Feminino    de 2 a 3 anos    9512.195122\n",
              "4  Feminino    de 4 a 5 anos   11685.714286"
            ]
          },
          "execution_count": 143,
          "metadata": {},
          "output_type": "execute_result"
        }
      ],
      "source": [
        "# Utilizando a função reset_index para criar uma ordem e facilitar a criação do gráfico\n",
        "media_anos_experiencia = media_anos_experiencia.reset_index(name='Salario Medio')\n",
        "media_anos_experiencia.head()"
      ]
    },
    {
      "cell_type": "code",
      "execution_count": 144,
      "metadata": {},
      "outputs": [
        {
          "data": {
            "image/png": "[encoded data removed]",
            "text/plain": [
              "<Figure size 2000x1000 with 1 Axes>"
            ]
          },
          "metadata": {},
          "output_type": "display_data"
        }
      ],
      "source": [
        "# Visualizando a média salarial por nível do cargo\n",
        "plt.figure(figsize=(20,10))\n",
        "sns.barplot(x='Anos experiencia', y='Salario Medio', hue='Genero', data=media_anos_experiencia, hue_order=['Masculino', 'Feminino']);"
      ]
    },
    {
      "cell_type": "markdown",
      "metadata": {
        "id": "FhslXSQ7GS95"
      },
      "source": [
        "---\n",
        "## Parte 5: Organização dos dados para modelagem de machine learning"
      ]
    },
    {
      "cell_type": "markdown",
      "metadata": {},
      "source": [
        "#### Objetivo: predizer o valor do salário dos funcionários\n"
      ]
    },
    {
      "cell_type": "markdown",
      "metadata": {},
      "source": [
        "### 1. Análise da variável resposta (também chamada de target)"
      ]
    },
    {
      "cell_type": "markdown",
      "metadata": {},
      "source": [
        "Como tínhamos visto anteriomente, os casos de valores faltantes foram resolvidos: substituição por \"Nada consta\""
      ]
    },
    {
      "cell_type": "code",
      "execution_count": 145,
      "metadata": {},
      "outputs": [
        {
          "data": {
            "image/png": "[encoded data removed]",
            "text/plain": [
              "<Figure size 640x480 with 1 Axes>"
            ]
          },
          "metadata": {},
          "output_type": "display_data"
        }
      ],
      "source": [
        "sns.boxplot(dados['Faixa Salarial – numero']).set_title(\"Distribuição dos salários\");"
      ]
    },
    {
      "cell_type": "markdown",
      "metadata": {},
      "source": [
        "##### Com esse boxplot de distribuição dos salários, podemos notar que temos casos de salários altos, acima de 25 mil reais. São chamados valores outliers."
      ]
    },
    {
      "cell_type": "markdown",
      "metadata": {},
      "source": [
        "### 2. Divisão dos dados"
      ]
    },
    {
      "cell_type": "markdown",
      "metadata": {},
      "source": [
        "Para a divisão de dados, optou-se por:\n",
        "\n",
        "* Conjunto de Treinamento (X_train, y_train): Conjunto utilizado para treinar o modelo. Neste caso, 70% dos dados são selecionados para treinamento, conforme definido pela variável train_ratio.\n",
        "\n",
        "* Conjunto de Teste (X_test, y_test): Conjunto utilizado para avaliar o desempenho do modelo em dados não vistos durante o treinamento. Neste caso, 30% dos dados são reservados para teste\n"
      ]
    },
    {
      "cell_type": "markdown",
      "metadata": {},
      "source": [
        "Algoritmos de machine learning de Regressão não aceitam variáveis categóricas e, por isso, precisamos utilizar técnicas para converter as classes em números"
      ]
    },
    {
      "cell_type": "code",
      "execution_count": 146,
      "metadata": {},
      "outputs": [
        {
          "data": {
            "text/html": [
              "<div>\n",
              "<style scoped>\n",
              "    .dataframe tbody tr th:only-of-type {\n",
              "        vertical-align: middle;\n",
              "    }\n",
              "\n",
              "    .dataframe tbody tr th {\n",
              "        vertical-align: top;\n",
              "    }\n",
              "\n",
              "    .dataframe thead th {\n",
              "        text-align: right;\n",
              "    }\n",
              "</style>\n",
              "<table border=\"1\" class=\"dataframe\">\n",
              "  <thead>\n",
              "    <tr style=\"text-align: right;\">\n",
              "      <th></th>\n",
              "      <th>Idade</th>\n",
              "      <th>Genero</th>\n",
              "      <th>Nivel Ensino</th>\n",
              "      <th>Area Formacao</th>\n",
              "      <th>Setor</th>\n",
              "      <th>Nivel</th>\n",
              "      <th>Faixa Salarial</th>\n",
              "      <th>Anos experiencia</th>\n",
              "      <th>Faixa Salarial – numero</th>\n",
              "      <th>Data ultimo aumento</th>\n",
              "      <th>Média Salarial</th>\n",
              "      <th>Data ultimo aumento - Ano</th>\n",
              "    </tr>\n",
              "  </thead>\n",
              "  <tbody>\n",
              "    <tr>\n",
              "      <th>0</th>\n",
              "      <td>38</td>\n",
              "      <td>1</td>\n",
              "      <td>Pós-graduação</td>\n",
              "      <td>Química / Física</td>\n",
              "      <td>Marketing</td>\n",
              "      <td>Gestor</td>\n",
              "      <td>de R$ 4.001/mês a R$ 6.000/mês</td>\n",
              "      <td>Mais de 10 anos</td>\n",
              "      <td>6000</td>\n",
              "      <td>2021-02-01</td>\n",
              "      <td>9993.0</td>\n",
              "      <td>2021</td>\n",
              "    </tr>\n",
              "    <tr>\n",
              "      <th>1</th>\n",
              "      <td>39</td>\n",
              "      <td>1</td>\n",
              "      <td>Pós-graduação</td>\n",
              "      <td>Economia/ Administração / Contabilidade / Fina...</td>\n",
              "      <td>Consultoria</td>\n",
              "      <td>Gestor</td>\n",
              "      <td>de R$ 6.001/mês a R$ 8.000/mês</td>\n",
              "      <td>de 2 a 3 anos</td>\n",
              "      <td>8000</td>\n",
              "      <td>2021-06-04</td>\n",
              "      <td>9993.0</td>\n",
              "      <td>2021</td>\n",
              "    </tr>\n",
              "    <tr>\n",
              "      <th>2</th>\n",
              "      <td>30</td>\n",
              "      <td>1</td>\n",
              "      <td>Pós-graduação</td>\n",
              "      <td>Computação / Engenharia de Software / Sistemas...</td>\n",
              "      <td>Indústria</td>\n",
              "      <td>Gestor</td>\n",
              "      <td>de R$ 8.001/mês a R$ 12.000/mês</td>\n",
              "      <td>de 1 a 2 anos</td>\n",
              "      <td>12000</td>\n",
              "      <td>2023-04-15</td>\n",
              "      <td>9993.0</td>\n",
              "      <td>2023</td>\n",
              "    </tr>\n",
              "    <tr>\n",
              "      <th>3</th>\n",
              "      <td>38</td>\n",
              "      <td>0</td>\n",
              "      <td>Pós-graduação</td>\n",
              "      <td>Outras</td>\n",
              "      <td>Serviços</td>\n",
              "      <td>Gestor</td>\n",
              "      <td>de R$ 12.001/mês a R$ 16.000/mês</td>\n",
              "      <td>Mais de 10 anos</td>\n",
              "      <td>16000</td>\n",
              "      <td>2021-04-06</td>\n",
              "      <td>9993.0</td>\n",
              "      <td>2021</td>\n",
              "    </tr>\n",
              "    <tr>\n",
              "      <th>4</th>\n",
              "      <td>36</td>\n",
              "      <td>1</td>\n",
              "      <td>Pós-graduação</td>\n",
              "      <td>Outras Engenharias</td>\n",
              "      <td>Varejo</td>\n",
              "      <td>Gestor</td>\n",
              "      <td>de R$ 8.001/mês a R$ 12.000/mês</td>\n",
              "      <td>de 1 a 2 anos</td>\n",
              "      <td>12000</td>\n",
              "      <td>2023-03-22</td>\n",
              "      <td>9993.0</td>\n",
              "      <td>2023</td>\n",
              "    </tr>\n",
              "  </tbody>\n",
              "</table>\n",
              "</div>"
            ],
            "text/plain": [
              "   Idade  Genero   Nivel Ensino  \\\n",
              "0     38       1  Pós-graduação   \n",
              "1     39       1  Pós-graduação   \n",
              "2     30       1  Pós-graduação   \n",
              "3     38       0  Pós-graduação   \n",
              "4     36       1  Pós-graduação   \n",
              "\n",
              "                                       Area Formacao        Setor   Nivel  \\\n",
              "0                                   Química / Física    Marketing  Gestor   \n",
              "1  Economia/ Administração / Contabilidade / Fina...  Consultoria  Gestor   \n",
              "2  Computação / Engenharia de Software / Sistemas...    Indústria  Gestor   \n",
              "3                                             Outras     Serviços  Gestor   \n",
              "4                                 Outras Engenharias       Varejo  Gestor   \n",
              "\n",
              "                     Faixa Salarial Anos experiencia  Faixa Salarial – numero  \\\n",
              "0    de R$ 4.001/mês a R$ 6.000/mês  Mais de 10 anos                     6000   \n",
              "1    de R$ 6.001/mês a R$ 8.000/mês    de 2 a 3 anos                     8000   \n",
              "2   de R$ 8.001/mês a R$ 12.000/mês    de 1 a 2 anos                    12000   \n",
              "3  de R$ 12.001/mês a R$ 16.000/mês  Mais de 10 anos                    16000   \n",
              "4   de R$ 8.001/mês a R$ 12.000/mês    de 1 a 2 anos                    12000   \n",
              "\n",
              "  Data ultimo aumento  Média Salarial Data ultimo aumento - Ano  \n",
              "0          2021-02-01          9993.0                      2021  \n",
              "1          2021-06-04          9993.0                      2021  \n",
              "2          2023-04-15          9993.0                      2023  \n",
              "3          2021-04-06          9993.0                      2021  \n",
              "4          2023-03-22          9993.0                      2023  "
            ]
          },
          "execution_count": 146,
          "metadata": {},
          "output_type": "execute_result"
        }
      ],
      "source": [
        "# Coluna Gênero tem dois valores: Feminino e Masculino. Após aplicar a função abaixo, ficará com valores 0 e 1 (1 Masculino e 0 Feminino)\n",
        "dados['Genero'] = LabelEncoder().fit_transform(dados['Genero']) \n",
        "dados.head()"
      ]
    },
    {
      "cell_type": "markdown",
      "metadata": {},
      "source": [
        "Agora, transformando a coluna anos de experiência em numérica"
      ]
    },
    {
      "cell_type": "code",
      "execution_count": 147,
      "metadata": {},
      "outputs": [],
      "source": [
        "# Função para atribuir valores numéricos com base nos anos de experiência\n",
        "def atribuir_valor_numerico(categoria):\n",
        "    if categoria == 'Menos de 1 ano':\n",
        "        return 1\n",
        "    elif categoria == 'de 1 a 2 anos':\n",
        "        return 1.5\n",
        "    elif categoria == 'de 2 a 3 anos':\n",
        "        return 3.5\n",
        "    elif categoria == 'de 4 a 5 anos':\n",
        "        return 4.5\n",
        "    elif categoria == 'de 6 a 10 anos':\n",
        "        return 8\n",
        "    elif categoria == 'Mais de 10 anos':\n",
        "        return 15\n",
        "    else:\n",
        "        return None  # Caso queira lidar com categorias não mapeadas\n",
        "\n",
        "# Criar a nova coluna usando a função aplicada na coluna 'Anos experiencia'\n",
        "dados['Anos experiencia - numerico'] = dados['Anos experiencia'].apply(atribuir_valor_numerico)"
      ]
    },
    {
      "cell_type": "code",
      "execution_count": 148,
      "metadata": {},
      "outputs": [
        {
          "data": {
            "text/plain": [
              "Index(['Idade', 'Genero', 'Nivel Ensino', 'Area Formacao', 'Setor', 'Nivel',\n",
              "       'Faixa Salarial', 'Anos experiencia', 'Faixa Salarial – numero',\n",
              "       'Data ultimo aumento', 'Média Salarial', 'Data ultimo aumento - Ano',\n",
              "       'Anos experiencia - numerico'],\n",
              "      dtype='object')"
            ]
          },
          "execution_count": 148,
          "metadata": {},
          "output_type": "execute_result"
        }
      ],
      "source": [
        "# Nome das colunas\n",
        "dados.columns"
      ]
    },
    {
      "cell_type": "code",
      "execution_count": 149,
      "metadata": {},
      "outputs": [
        {
          "data": {
            "text/html": [
              "<div>\n",
              "<style scoped>\n",
              "    .dataframe tbody tr th:only-of-type {\n",
              "        vertical-align: middle;\n",
              "    }\n",
              "\n",
              "    .dataframe tbody tr th {\n",
              "        vertical-align: top;\n",
              "    }\n",
              "\n",
              "    .dataframe thead th {\n",
              "        text-align: right;\n",
              "    }\n",
              "</style>\n",
              "<table border=\"1\" class=\"dataframe\">\n",
              "  <thead>\n",
              "    <tr style=\"text-align: right;\">\n",
              "      <th></th>\n",
              "      <th>Idade</th>\n",
              "      <th>Genero</th>\n",
              "      <th>Faixa Salarial – numero</th>\n",
              "      <th>Anos experiencia - numerico</th>\n",
              "    </tr>\n",
              "  </thead>\n",
              "  <tbody>\n",
              "    <tr>\n",
              "      <th>0</th>\n",
              "      <td>38</td>\n",
              "      <td>1</td>\n",
              "      <td>6000</td>\n",
              "      <td>15.0</td>\n",
              "    </tr>\n",
              "    <tr>\n",
              "      <th>1</th>\n",
              "      <td>39</td>\n",
              "      <td>1</td>\n",
              "      <td>8000</td>\n",
              "      <td>3.5</td>\n",
              "    </tr>\n",
              "    <tr>\n",
              "      <th>2</th>\n",
              "      <td>30</td>\n",
              "      <td>1</td>\n",
              "      <td>12000</td>\n",
              "      <td>1.5</td>\n",
              "    </tr>\n",
              "    <tr>\n",
              "      <th>3</th>\n",
              "      <td>38</td>\n",
              "      <td>0</td>\n",
              "      <td>16000</td>\n",
              "      <td>15.0</td>\n",
              "    </tr>\n",
              "    <tr>\n",
              "      <th>4</th>\n",
              "      <td>36</td>\n",
              "      <td>1</td>\n",
              "      <td>12000</td>\n",
              "      <td>1.5</td>\n",
              "    </tr>\n",
              "  </tbody>\n",
              "</table>\n",
              "</div>"
            ],
            "text/plain": [
              "   Idade  Genero  Faixa Salarial – numero  Anos experiencia - numerico\n",
              "0     38       1                     6000                         15.0\n",
              "1     39       1                     8000                          3.5\n",
              "2     30       1                    12000                          1.5\n",
              "3     38       0                    16000                         15.0\n",
              "4     36       1                    12000                          1.5"
            ]
          },
          "execution_count": 149,
          "metadata": {},
          "output_type": "execute_result"
        }
      ],
      "source": [
        "# Variável dados_num contém apenas variáveis numéricas de interesse (exclui o restante)\n",
        "dados_num = dados.drop(['Nivel Ensino', 'Area Formacao', 'Setor', 'Nivel',\n",
        "       'Faixa Salarial', 'Anos experiencia',\n",
        "       'Data ultimo aumento', 'Média Salarial', 'Data ultimo aumento - Ano'],axis = 1)\n",
        "dados_num.head()"
      ]
    },
    {
      "cell_type": "code",
      "execution_count": 150,
      "metadata": {},
      "outputs": [
        {
          "data": {
            "image/png": "[encoded data removed]",
            "text/plain": [
              "<Figure size 640x480 with 2 Axes>"
            ]
          },
          "metadata": {},
          "output_type": "display_data"
        }
      ],
      "source": [
        "# Mapa de correlação das variáveis numéricas com variável Target\n",
        "sns.heatmap(dados_num.corr(\"spearman\"), annot = True)\n",
        "plt.title(\"Mapa de Correlação das Variáveis Numéricas\\n\", fontsize = 15)\n",
        "plt.show()"
      ]
    },
    {
      "cell_type": "code",
      "execution_count": 151,
      "metadata": {},
      "outputs": [
        {
          "data": {
            "text/html": [
              "<div>\n",
              "<style scoped>\n",
              "    .dataframe tbody tr th:only-of-type {\n",
              "        vertical-align: middle;\n",
              "    }\n",
              "\n",
              "    .dataframe tbody tr th {\n",
              "        vertical-align: top;\n",
              "    }\n",
              "\n",
              "    .dataframe thead th {\n",
              "        text-align: right;\n",
              "    }\n",
              "</style>\n",
              "<table border=\"1\" class=\"dataframe\">\n",
              "  <thead>\n",
              "    <tr style=\"text-align: right;\">\n",
              "      <th></th>\n",
              "      <th>Idade</th>\n",
              "      <th>Genero</th>\n",
              "      <th>Anos experiencia - numerico</th>\n",
              "    </tr>\n",
              "  </thead>\n",
              "  <tbody>\n",
              "    <tr>\n",
              "      <th>0</th>\n",
              "      <td>38</td>\n",
              "      <td>1</td>\n",
              "      <td>15.0</td>\n",
              "    </tr>\n",
              "    <tr>\n",
              "      <th>1</th>\n",
              "      <td>39</td>\n",
              "      <td>1</td>\n",
              "      <td>3.5</td>\n",
              "    </tr>\n",
              "    <tr>\n",
              "      <th>2</th>\n",
              "      <td>30</td>\n",
              "      <td>1</td>\n",
              "      <td>1.5</td>\n",
              "    </tr>\n",
              "    <tr>\n",
              "      <th>3</th>\n",
              "      <td>38</td>\n",
              "      <td>0</td>\n",
              "      <td>15.0</td>\n",
              "    </tr>\n",
              "    <tr>\n",
              "      <th>4</th>\n",
              "      <td>36</td>\n",
              "      <td>1</td>\n",
              "      <td>1.5</td>\n",
              "    </tr>\n",
              "  </tbody>\n",
              "</table>\n",
              "</div>"
            ],
            "text/plain": [
              "   Idade  Genero  Anos experiencia - numerico\n",
              "0     38       1                         15.0\n",
              "1     39       1                          3.5\n",
              "2     30       1                          1.5\n",
              "3     38       0                         15.0\n",
              "4     36       1                          1.5"
            ]
          },
          "execution_count": 151,
          "metadata": {},
          "output_type": "execute_result"
        }
      ],
      "source": [
        "# Variável X contém apenas variáveis numéricas de interesse para a análise, excluindo a variável target \n",
        "X = dados_num.drop(['Faixa Salarial – numero'],axis = 1)\n",
        "X.head()"
      ]
    },
    {
      "cell_type": "code",
      "execution_count": 152,
      "metadata": {},
      "outputs": [
        {
          "data": {
            "text/plain": [
              "0     6000\n",
              "1     8000\n",
              "2    12000\n",
              "3    16000\n",
              "4    12000\n",
              "Name: Faixa Salarial – numero, dtype: int64"
            ]
          },
          "execution_count": 152,
          "metadata": {},
          "output_type": "execute_result"
        }
      ],
      "source": [
        "# Variável Y contém apenas a variável target - Faixa Salarial\n",
        "Y = dados_num['Faixa Salarial – numero']\n",
        "Y.head()"
      ]
    },
    {
      "cell_type": "code",
      "execution_count": 153,
      "metadata": {},
      "outputs": [],
      "source": [
        "# Divisão: 30% dos dados são de teste e 70% de treinamento\n",
        "X_train, X_test, Y_train, Y_test = train_test_split(X, Y, test_size = 0.30, random_state = 42)"
      ]
    },
    {
      "cell_type": "code",
      "execution_count": 154,
      "metadata": {},
      "outputs": [
        {
          "name": "stdout",
          "output_type": "stream",
          "text": [
            "(969, 3)\n"
          ]
        },
        {
          "data": {
            "text/html": [
              "<div>\n",
              "<style scoped>\n",
              "    .dataframe tbody tr th:only-of-type {\n",
              "        vertical-align: middle;\n",
              "    }\n",
              "\n",
              "    .dataframe tbody tr th {\n",
              "        vertical-align: top;\n",
              "    }\n",
              "\n",
              "    .dataframe thead th {\n",
              "        text-align: right;\n",
              "    }\n",
              "</style>\n",
              "<table border=\"1\" class=\"dataframe\">\n",
              "  <thead>\n",
              "    <tr style=\"text-align: right;\">\n",
              "      <th></th>\n",
              "      <th>Idade</th>\n",
              "      <th>Genero</th>\n",
              "      <th>Anos experiencia - numerico</th>\n",
              "    </tr>\n",
              "  </thead>\n",
              "  <tbody>\n",
              "    <tr>\n",
              "      <th>772</th>\n",
              "      <td>31</td>\n",
              "      <td>1</td>\n",
              "      <td>8.0</td>\n",
              "    </tr>\n",
              "  </tbody>\n",
              "</table>\n",
              "</div>"
            ],
            "text/plain": [
              "     Idade  Genero  Anos experiencia - numerico\n",
              "772     31       1                          8.0"
            ]
          },
          "execution_count": 154,
          "metadata": {},
          "output_type": "execute_result"
        }
      ],
      "source": [
        "# Observando os dados de treinamento\n",
        "print(X_train.shape)\n",
        "X_train.head(1)"
      ]
    },
    {
      "cell_type": "code",
      "execution_count": 155,
      "metadata": {},
      "outputs": [
        {
          "name": "stdout",
          "output_type": "stream",
          "text": [
            "(416, 3)\n"
          ]
        },
        {
          "data": {
            "text/html": [
              "<div>\n",
              "<style scoped>\n",
              "    .dataframe tbody tr th:only-of-type {\n",
              "        vertical-align: middle;\n",
              "    }\n",
              "\n",
              "    .dataframe tbody tr th {\n",
              "        vertical-align: top;\n",
              "    }\n",
              "\n",
              "    .dataframe thead th {\n",
              "        text-align: right;\n",
              "    }\n",
              "</style>\n",
              "<table border=\"1\" class=\"dataframe\">\n",
              "  <thead>\n",
              "    <tr style=\"text-align: right;\">\n",
              "      <th></th>\n",
              "      <th>Idade</th>\n",
              "      <th>Genero</th>\n",
              "      <th>Anos experiencia - numerico</th>\n",
              "    </tr>\n",
              "  </thead>\n",
              "  <tbody>\n",
              "    <tr>\n",
              "      <th>1128</th>\n",
              "      <td>25</td>\n",
              "      <td>1</td>\n",
              "      <td>1.5</td>\n",
              "    </tr>\n",
              "  </tbody>\n",
              "</table>\n",
              "</div>"
            ],
            "text/plain": [
              "      Idade  Genero  Anos experiencia - numerico\n",
              "1128     25       1                          1.5"
            ]
          },
          "execution_count": 155,
          "metadata": {},
          "output_type": "execute_result"
        }
      ],
      "source": [
        "# Observando os dados de teste\n",
        "print(X_test.shape)\n",
        "X_test.head(1)"
      ]
    },
    {
      "cell_type": "code",
      "execution_count": 156,
      "metadata": {},
      "outputs": [
        {
          "data": {
            "text/plain": [
              "1128     4000\n",
              "237      3000\n",
              "163     12000\n",
              "739     12000\n",
              "51      12000\n",
              "Name: Faixa Salarial – numero, dtype: int64"
            ]
          },
          "execution_count": 156,
          "metadata": {},
          "output_type": "execute_result"
        }
      ],
      "source": [
        "# Observando a variável target\n",
        "Y_test.head()"
      ]
    },
    {
      "cell_type": "markdown",
      "metadata": {},
      "source": [
        "### 3. Treinamento do modelo"
      ]
    },
    {
      "cell_type": "markdown",
      "metadata": {},
      "source": [
        "#### Aqui vamos treinar 2 modelos, sendo a variável target o salário e as variáveis de entrada Idade, Gênero e Anos de Experiência \n",
        "- Random Forest - combina a saída de múltiplas árvores de decisão para chegar a um único resultado\n",
        "- XGBoost - significa “eXtreme Gradient Boosting”. Essa técnica é baseada no conceito de boosting, que consiste em combinar vários modelos fracos para criar um modelo forte"
      ]
    },
    {
      "cell_type": "markdown",
      "metadata": {},
      "source": [
        "#### 3.1 Random Forest"
      ]
    },
    {
      "cell_type": "code",
      "execution_count": 157,
      "metadata": {},
      "outputs": [],
      "source": [
        "# Algoritmo Random Forest, sem especificar nenhum parâmetro (número de árvores, número de ramificações, etc)\n",
        "model_rf = RandomForestRegressor()"
      ]
    },
    {
      "cell_type": "code",
      "execution_count": 158,
      "metadata": {},
      "outputs": [
        {
          "data": {
            "text/html": [
              "<style>#sk-container-id-6 {color: black;}#sk-container-id-6 pre{padding: 0;}#sk-container-id-6 div.sk-toggleable {background-color: white;}#sk-container-id-6 label.sk-toggleable__label {cursor: pointer;display: block;width: 100%;margin-bottom: 0;padding: 0.3em;box-sizing: border-box;text-align: center;}#sk-container-id-6 label.sk-toggleable__label-arrow:before {content: \"▸\";float: left;margin-right: 0.25em;color: #696969;}#sk-container-id-6 label.sk-toggleable__label-arrow:hover:before {color: black;}#sk-container-id-6 div.sk-estimator:hover label.sk-toggleable__label-arrow:before {color: black;}#sk-container-id-6 div.sk-toggleable__content {max-height: 0;max-width: 0;overflow: hidden;text-align: left;background-color: #f0f8ff;}#sk-container-id-6 div.sk-toggleable__content pre {margin: 0.2em;color: black;border-radius: 0.25em;background-color: #f0f8ff;}#sk-container-id-6 input.sk-toggleable__control:checked~div.sk-toggleable__content {max-height: 200px;max-width: 100%;overflow: auto;}#sk-container-id-6 input.sk-toggleable__control:checked~label.sk-toggleable__label-arrow:before {content: \"▾\";}#sk-container-id-6 div.sk-estimator input.sk-toggleable__control:checked~label.sk-toggleable__label {background-color: #d4ebff;}#sk-container-id-6 div.sk-label input.sk-toggleable__control:checked~label.sk-toggleable__label {background-color: #d4ebff;}#sk-container-id-6 input.sk-hidden--visually {border: 0;clip: rect(1px 1px 1px 1px);clip: rect(1px, 1px, 1px, 1px);height: 1px;margin: -1px;overflow: hidden;padding: 0;position: absolute;width: 1px;}#sk-container-id-6 div.sk-estimator {font-family: monospace;background-color: #f0f8ff;border: 1px dotted black;border-radius: 0.25em;box-sizing: border-box;margin-bottom: 0.5em;}#sk-container-id-6 div.sk-estimator:hover {background-color: #d4ebff;}#sk-container-id-6 div.sk-parallel-item::after {content: \"\";width: 100%;border-bottom: 1px solid gray;flex-grow: 1;}#sk-container-id-6 div.sk-label:hover label.sk-toggleable__label {background-color: #d4ebff;}#sk-container-id-6 div.sk-serial::before {content: \"\";position: absolute;border-left: 1px solid gray;box-sizing: border-box;top: 0;bottom: 0;left: 50%;z-index: 0;}#sk-container-id-6 div.sk-serial {display: flex;flex-direction: column;align-items: center;background-color: white;padding-right: 0.2em;padding-left: 0.2em;position: relative;}#sk-container-id-6 div.sk-item {position: relative;z-index: 1;}#sk-container-id-6 div.sk-parallel {display: flex;align-items: stretch;justify-content: center;background-color: white;position: relative;}#sk-container-id-6 div.sk-item::before, #sk-container-id-6 div.sk-parallel-item::before {content: \"\";position: absolute;border-left: 1px solid gray;box-sizing: border-box;top: 0;bottom: 0;left: 50%;z-index: -1;}#sk-container-id-6 div.sk-parallel-item {display: flex;flex-direction: column;z-index: 1;position: relative;background-color: white;}#sk-container-id-6 div.sk-parallel-item:first-child::after {align-self: flex-end;width: 50%;}#sk-container-id-6 div.sk-parallel-item:last-child::after {align-self: flex-start;width: 50%;}#sk-container-id-6 div.sk-parallel-item:only-child::after {width: 0;}#sk-container-id-6 div.sk-dashed-wrapped {border: 1px dashed gray;margin: 0 0.4em 0.5em 0.4em;box-sizing: border-box;padding-bottom: 0.4em;background-color: white;}#sk-container-id-6 div.sk-label label {font-family: monospace;font-weight: bold;display: inline-block;line-height: 1.2em;}#sk-container-id-6 div.sk-label-container {text-align: center;}#sk-container-id-6 div.sk-container {/* jupyter's `normalize.less` sets `[hidden] { display: none; }` but bootstrap.min.css set `[hidden] { display: none !important; }` so we also need the `!important` here to be able to override the default hidden behavior on the sphinx rendered scikit-learn.org. See: https://github.com/scikit-learn/scikit-learn/issues/21755 */display: inline-block !important;position: relative;}#sk-container-id-6 div.sk-text-repr-fallback {display: none;}</style><div id=\"sk-container-id-6\" class=\"sk-top-container\"><div class=\"sk-text-repr-fallback\"><pre>RandomForestRegressor()</pre><b>In a Jupyter environment, please rerun this cell to show the HTML representation or trust the notebook. <br />On GitHub, the HTML representation is unable to render, please try loading this page with nbviewer.org.</b></div><div class=\"sk-container\" hidden><div class=\"sk-item\"><div class=\"sk-estimator sk-toggleable\"><input class=\"sk-toggleable__control sk-hidden--visually\" id=\"sk-estimator-id-6\" type=\"checkbox\" checked><label for=\"sk-estimator-id-6\" class=\"sk-toggleable__label sk-toggleable__label-arrow\">RandomForestRegressor</label><div class=\"sk-toggleable__content\"><pre>RandomForestRegressor()</pre></div></div></div></div></div>"
            ],
            "text/plain": [
              "RandomForestRegressor()"
            ]
          },
          "execution_count": 158,
          "metadata": {},
          "output_type": "execute_result"
        }
      ],
      "source": [
        "# Ajuste do modelo, de acordo com as variáveis de treinamento\n",
        "model_rf.fit(X_train, Y_train)"
      ]
    },
    {
      "cell_type": "code",
      "execution_count": 159,
      "metadata": {},
      "outputs": [],
      "source": [
        "# Predição dos valores de salário com base nos dados de teste\n",
        "valores_preditos_rf = model_rf.predict(X_test)"
      ]
    },
    {
      "cell_type": "code",
      "execution_count": 160,
      "metadata": {},
      "outputs": [
        {
          "data": {
            "text/plain": [
              "array([ 5743.93217927, 13086.58960417, 20277.96176046,  8692.        ,\n",
              "       12661.66666667,  5942.55952381,  3815.91941392, 12020.52380952,\n",
              "       13086.58960417, 11387.64357864, 10414.35842915,  6280.26587302,\n",
              "        5942.55952381,  6280.26587302, 14621.47835498,  8383.70104895,\n",
              "        9552.66666667,  9426.47619048,  4256.14486902, 14103.37871764,\n",
              "        9878.83671884, 11387.64357864,  2434.27380952, 12020.52380952,\n",
              "        4690.23461171,  5210.6498779 ,  9103.85470085, 23271.76190476,\n",
              "       20195.93650794,  9426.47619048, 10414.35842915, 14270.        ,\n",
              "        4479.88888889, 14403.61904762,  7544.31601732, 16941.8625176 ,\n",
              "        8931.71428571,  8895.18928294,  4077.23376623, 16853.35714286,\n",
              "       15776.64285714,  6403.66666667,  2037.4047064 , 12728.33333333,\n",
              "       14103.37871764,  9737.92626818, 10414.35842915, 13960.27491952,\n",
              "        8942.54864253,  7005.78266178, 10087.56179931, 11269.13492063,\n",
              "       18019.66666667,  3965.08333333, 15213.28968254, 11330.60939061,\n",
              "       11913.69047619, 17305.55555556,  7607.64644272,  6452.41558442,\n",
              "       15792.0952381 , 17768.14285714,  7904.1010101 , 14485.54978355,\n",
              "        8975.        , 17927.88744589, 16443.94877916,  4046.53117711,\n",
              "        7835.07936508,  6141.84632035,  4893.83333333, 16769.75901876,\n",
              "       12296.22302697,  7607.64644272,  5743.93217927, 20277.96176046,\n",
              "       18497.66666667, 12018.60606061, 13086.58960417,  8597.12698413,\n",
              "        5726.27380952, 11840.54061625, 10414.35842915,  7499.45165945,\n",
              "        8383.70104895,  5809.47222222,  5726.27380952,  7607.64644272,\n",
              "        5743.93217927, 14723.59157509, 10843.        , 31399.38492063,\n",
              "        5809.47222222,  5210.6498779 ,  7709.79112554, 11593.70270888,\n",
              "        8895.18928294,  9310.20883949,  5210.6498779 ,  5743.93217927,\n",
              "       13312.        , 16941.8625176 ,  2984.21753247,  5743.93217927,\n",
              "        7005.78266178,  7709.79112554, 16941.8625176 ,  6403.66666667,\n",
              "        8383.70104895,  6417.55891331,  5593.88095238,  6614.79365079,\n",
              "       16473.33333333,  9737.92626818, 11578.39943716,  5743.93217927,\n",
              "        6540.89361923,  2984.21753247,  6228.        , 11207.58730159,\n",
              "       12660.        ,  6540.89361923,  7607.64644272,  7607.64644272,\n",
              "       13868.14458067,  6540.89361923,  8383.70104895, 10414.35842915,\n",
              "        9063.69477744, 16363.33215254,  4690.23461171,  4077.23376623,\n",
              "       18833.        ,  4690.23461171, 10105.83333333,  8895.18928294,\n",
              "       12978.2280078 , 12358.77380952,  6614.79365079, 33640.0952381 ,\n",
              "        6540.89361923, 20958.30952381,  9590.0021645 ,  8817.52325452,\n",
              "        8578.79148629,  4286.497669  ,  9310.20883949,  7759.5       ,\n",
              "        3442.5791847 , 11069.47619048,  6452.41558442,  9737.92626818,\n",
              "       12620.        , 17927.88744589,  6670.98412698, 11166.01465201,\n",
              "        7071.60939061, 13783.33333333, 17624.11904762,  6506.24175824,\n",
              "        8817.52325452,  6548.54761905, 14621.47835498,  6702.96031746,\n",
              "       12978.2280078 ,  6417.55891331, 18307.48778999,  9994.91558442,\n",
              "       10698.31060606,  8791.36238925, 12978.2280078 , 13212.93663281,\n",
              "        4290.35395779, 11913.69047619,  5726.27380952, 12275.67254967,\n",
              "        7709.79112554, 11069.47619048, 13951.16269841,  9737.92626818,\n",
              "       16363.33215254,  4290.35395779, 13868.14458067, 10202.62101787,\n",
              "        5942.55952381, 10414.35842915, 14485.54978355,  5726.27380952,\n",
              "        9063.69477744,  9103.85470085, 12978.2280078 ,  5593.88095238,\n",
              "       11819.57142857, 13086.58960417,  3442.5791847 ,  7922.18109668,\n",
              "       13086.58960417,  6228.        ,  3808.33333333, 10299.36976912,\n",
              "       13312.        ,  7623.6547619 , 17898.33333333,  5743.93217927,\n",
              "        7709.79112554,  5210.6498779 , 15587.1984127 ,  4256.14486902,\n",
              "        6141.84632035,  9950.        , 13086.58960417,  4662.57395382,\n",
              "        8383.70104895, 13086.58960417, 11387.64357864,  8895.18928294,\n",
              "        6417.55891331, 10698.31060606, 12194.5       , 14723.59157509,\n",
              "        5743.93217927, 16326.97619048,  4825.24242424,  9994.91558442,\n",
              "        7904.1010101 ,  7885.5       ,  9310.20883949,  9737.92626818,\n",
              "        8918.33333333,  8791.36238925, 22798.91269841,  6983.86080586,\n",
              "       11522.92063492,  8791.36238925, 12285.55250305,  4256.14486902,\n",
              "       14103.37871764, 11819.57142857, 16853.35714286,  3305.15584416,\n",
              "        6540.89361923,  4077.23376623, 10099.77733378,  4690.23461171,\n",
              "        9310.20883949, 10099.77733378,  5210.6498779 ,  3815.91941392,\n",
              "       13782.4029304 , 18183.        ,  5210.6498779 ,  9063.69477744,\n",
              "       13868.14458067,  9310.20883949,  8351.66666667,  4256.14486902,\n",
              "        6228.        ,  8895.18928294, 14000.72893773, 12178.19047619,\n",
              "        7904.1010101 , 10594.        ,  2984.21753247, 16999.02380952,\n",
              "        8895.18928294,  4290.35395779,  3442.5791847 , 10099.77733378,\n",
              "       17624.11904762, 10221.44444444,  4849.21428571,  6403.66666667,\n",
              "       12178.19047619, 12018.60606061, 29377.66666667, 29377.66666667,\n",
              "       13086.58960417,  7835.07936508, 14689.0952381 , 14403.61904762,\n",
              "       16941.8625176 , 13868.14458067, 18307.48778999,  2424.92143967,\n",
              "        7005.78266178,  7607.64644272, 12358.77380952,  7904.1010101 ,\n",
              "        4825.24242424,  7607.64644272,  4662.57395382,  3797.20605783,\n",
              "        8931.71428571, 16769.75901876,  9063.69477744, 20277.96176046,\n",
              "       10594.        ,  6462.11946387,  3305.15584416, 33640.0952381 ,\n",
              "        8895.18928294, 14103.37871764,  9878.83671884, 17927.88744589,\n",
              "        5942.55952381,  6540.89361923, 11098.71428571,  3539.04365079,\n",
              "       11913.69047619,  4046.53117711,  6209.44733045,  3442.5791847 ,\n",
              "       11019.78066378,  5210.6498779 ,  3797.20605783, 17305.55555556,\n",
              "        4077.23376623,  8383.70104895,  5743.93217927,  4046.53117711,\n",
              "        4286.497669  , 12018.60606061, 11593.70270888, 11913.69047619,\n",
              "       10414.35842915, 13057.45238095, 12978.2280078 ,  3442.5791847 ,\n",
              "       10414.35842915,  8942.54864253, 11258.52380952, 17305.55555556,\n",
              "       12275.67254967, 12358.77380952, 13868.14458067, 11166.01465201,\n",
              "       19544.78571429, 14490.49489399,  4256.14486902,  8351.66666667,\n",
              "        7709.79112554, 11166.01465201, 13692.81168831, 12018.60606061,\n",
              "        7499.45165945,  7005.78266178,  2424.92143967,  7636.91666667,\n",
              "       13868.14458067, 14000.72893773,  7922.18109668,  5014.19877345,\n",
              "       19330.        ,  6462.11946387,  8942.54864253,  2037.4047064 ,\n",
              "        7814.57142857, 23051.33333333,  6540.89361923,  6390.35072934,\n",
              "        5982.73626374,  3797.20605783, 29377.66666667,  7366.55555556,\n",
              "        4286.497669  ,  3305.15584416, 11166.01465201, 14683.66666667,\n",
              "       13868.14458067,  7318.4047619 ,  3797.20605783,  5809.47222222,\n",
              "       10074.5       , 14408.66666667,  8791.36238925, 21281.33333333,\n",
              "        3442.5791847 ,  3797.20605783, 14589.5       , 15213.28968254,\n",
              "        9737.92626818,  7922.18109668,  5726.27380952, 10432.17027417,\n",
              "        9994.91558442, 13782.4029304 , 17927.88744589, 12978.2280078 ,\n",
              "        7709.79112554,  3797.20605783, 16853.35714286, 14103.37871764,\n",
              "        4290.35395779, 13868.14458067,  6417.55891331,  5743.93217927,\n",
              "       17033.9047619 ,  3442.5791847 ,  4286.497669  ,  8931.71428571,\n",
              "        3305.15584416,  8895.18928294,  9820.78571429,  2727.42857143,\n",
              "       13868.14458067,  3305.15584416, 17927.88744589,  4256.14486902,\n",
              "        9310.20883949, 13086.58960417,  7607.64644272, 11593.70270888,\n",
              "       11019.78066378,  3815.91941392, 11330.60939061, 11593.70270888])"
            ]
          },
          "execution_count": 160,
          "metadata": {},
          "output_type": "execute_result"
        }
      ],
      "source": [
        "# Valores preditos\n",
        "valores_preditos_rf"
      ]
    },
    {
      "cell_type": "markdown",
      "metadata": {},
      "source": [
        "Analisando a importância das variáveis para estimar a variável target"
      ]
    },
    {
      "cell_type": "code",
      "execution_count": 161,
      "metadata": {},
      "outputs": [
        {
          "data": {
            "text/html": [
              "<div>\n",
              "<style scoped>\n",
              "    .dataframe tbody tr th:only-of-type {\n",
              "        vertical-align: middle;\n",
              "    }\n",
              "\n",
              "    .dataframe tbody tr th {\n",
              "        vertical-align: top;\n",
              "    }\n",
              "\n",
              "    .dataframe thead th {\n",
              "        text-align: right;\n",
              "    }\n",
              "</style>\n",
              "<table border=\"1\" class=\"dataframe\">\n",
              "  <thead>\n",
              "    <tr style=\"text-align: right;\">\n",
              "      <th></th>\n",
              "      <th>importance</th>\n",
              "    </tr>\n",
              "  </thead>\n",
              "  <tbody>\n",
              "    <tr>\n",
              "      <th>Anos experiencia - numerico</th>\n",
              "      <td>0.487259</td>\n",
              "    </tr>\n",
              "    <tr>\n",
              "      <th>Idade</th>\n",
              "      <td>0.412475</td>\n",
              "    </tr>\n",
              "    <tr>\n",
              "      <th>Genero</th>\n",
              "      <td>0.100266</td>\n",
              "    </tr>\n",
              "  </tbody>\n",
              "</table>\n",
              "</div>"
            ],
            "text/plain": [
              "                             importance\n",
              "Anos experiencia - numerico    0.487259\n",
              "Idade                          0.412475\n",
              "Genero                         0.100266"
            ]
          },
          "execution_count": 161,
          "metadata": {},
          "output_type": "execute_result"
        }
      ],
      "source": [
        "model_rf.feature_importances_\n",
        "feature_importances = pd.DataFrame(model_rf.feature_importances_, index = X_train.columns, columns=['importance']).sort_values('importance', ascending = False)\n",
        "feature_importances"
      ]
    },
    {
      "cell_type": "markdown",
      "metadata": {},
      "source": [
        "#### Métricas de acurácia do modelo"
      ]
    },
    {
      "cell_type": "markdown",
      "metadata": {},
      "source": [
        "Quão acurado é o modelo para estabelecer as predições de salários com base na idade e gênero?"
      ]
    },
    {
      "cell_type": "markdown",
      "metadata": {},
      "source": [
        "Existem diversas métricas para avaliar o erro da predição do nosso modelo. Hoje iremos ver as seguintes:\n",
        "- MSE (Mean Squared Error)\n",
        "- MAE (Mean Absolute Error)\n",
        "- R²\n",
        "\n",
        "[Aqui](https://medium.com/usf-msds/choosing-the-right-metric-for-machine-learning-models-part-1-a99d7d7414e4) tem um artigo falando sobre outras métricas de avaliação."
      ]
    },
    {
      "cell_type": "markdown",
      "metadata": {},
      "source": [
        "MSE - calcula o erro quadrático médio das predições do nosso modelo. Quanto maior o MSE, pior é o modelo."
      ]
    },
    {
      "cell_type": "code",
      "execution_count": 162,
      "metadata": {},
      "outputs": [
        {
          "data": {
            "text/plain": [
              "39629234.58395554"
            ]
          },
          "execution_count": 162,
          "metadata": {},
          "output_type": "execute_result"
        }
      ],
      "source": [
        "mse = mean_squared_error(Y_test, valores_preditos_rf)\n",
        "mse"
      ]
    },
    {
      "cell_type": "markdown",
      "metadata": {},
      "source": [
        "O MAE calcula a média da diferença absoluta entre o valor predito e o valor real. Nesse caso, os erros são penalizados linearmente, ou seja, todos terão o mesmo peso na média."
      ]
    },
    {
      "cell_type": "code",
      "execution_count": 163,
      "metadata": {},
      "outputs": [
        {
          "data": {
            "text/plain": [
              "4305.841964478367"
            ]
          },
          "execution_count": 163,
          "metadata": {},
          "output_type": "execute_result"
        }
      ],
      "source": [
        "mae = mean_absolute_error(Y_test, valores_preditos_rf)\n",
        "mae"
      ]
    },
    {
      "cell_type": "markdown",
      "metadata": {},
      "source": [
        "O R² é uma métrica que varia entre 0 e 1 e é uma razão que indica o quão bom o nosso modelo. Quanto maior seu valor, melhor é o modelo "
      ]
    },
    {
      "cell_type": "code",
      "execution_count": 164,
      "metadata": {},
      "outputs": [
        {
          "data": {
            "text/plain": [
              "0.17355959966882362"
            ]
          },
          "execution_count": 164,
          "metadata": {},
          "output_type": "execute_result"
        }
      ],
      "source": [
        "r2_score(Y_test, valores_preditos_rf)"
      ]
    },
    {
      "cell_type": "markdown",
      "metadata": {},
      "source": [
        "### Agora, testando o mesmo modelo, mas utilizando parâmetros do algoritmo Random Forest"
      ]
    },
    {
      "cell_type": "code",
      "execution_count": 165,
      "metadata": {},
      "outputs": [],
      "source": [
        "model_rf_parametros = RandomForestRegressor(max_depth=29, min_samples_leaf=32, min_samples_split=28,\n",
        "                       n_estimators=208, random_state=43)"
      ]
    },
    {
      "cell_type": "code",
      "execution_count": 166,
      "metadata": {},
      "outputs": [
        {
          "data": {
            "text/html": [
              "<style>#sk-container-id-7 {color: black;}#sk-container-id-7 pre{padding: 0;}#sk-container-id-7 div.sk-toggleable {background-color: white;}#sk-container-id-7 label.sk-toggleable__label {cursor: pointer;display: block;width: 100%;margin-bottom: 0;padding: 0.3em;box-sizing: border-box;text-align: center;}#sk-container-id-7 label.sk-toggleable__label-arrow:before {content: \"▸\";float: left;margin-right: 0.25em;color: #696969;}#sk-container-id-7 label.sk-toggleable__label-arrow:hover:before {color: black;}#sk-container-id-7 div.sk-estimator:hover label.sk-toggleable__label-arrow:before {color: black;}#sk-container-id-7 div.sk-toggleable__content {max-height: 0;max-width: 0;overflow: hidden;text-align: left;background-color: #f0f8ff;}#sk-container-id-7 div.sk-toggleable__content pre {margin: 0.2em;color: black;border-radius: 0.25em;background-color: #f0f8ff;}#sk-container-id-7 input.sk-toggleable__control:checked~div.sk-toggleable__content {max-height: 200px;max-width: 100%;overflow: auto;}#sk-container-id-7 input.sk-toggleable__control:checked~label.sk-toggleable__label-arrow:before {content: \"▾\";}#sk-container-id-7 div.sk-estimator input.sk-toggleable__control:checked~label.sk-toggleable__label {background-color: #d4ebff;}#sk-container-id-7 div.sk-label input.sk-toggleable__control:checked~label.sk-toggleable__label {background-color: #d4ebff;}#sk-container-id-7 input.sk-hidden--visually {border: 0;clip: rect(1px 1px 1px 1px);clip: rect(1px, 1px, 1px, 1px);height: 1px;margin: -1px;overflow: hidden;padding: 0;position: absolute;width: 1px;}#sk-container-id-7 div.sk-estimator {font-family: monospace;background-color: #f0f8ff;border: 1px dotted black;border-radius: 0.25em;box-sizing: border-box;margin-bottom: 0.5em;}#sk-container-id-7 div.sk-estimator:hover {background-color: #d4ebff;}#sk-container-id-7 div.sk-parallel-item::after {content: \"\";width: 100%;border-bottom: 1px solid gray;flex-grow: 1;}#sk-container-id-7 div.sk-label:hover label.sk-toggleable__label {background-color: #d4ebff;}#sk-container-id-7 div.sk-serial::before {content: \"\";position: absolute;border-left: 1px solid gray;box-sizing: border-box;top: 0;bottom: 0;left: 50%;z-index: 0;}#sk-container-id-7 div.sk-serial {display: flex;flex-direction: column;align-items: center;background-color: white;padding-right: 0.2em;padding-left: 0.2em;position: relative;}#sk-container-id-7 div.sk-item {position: relative;z-index: 1;}#sk-container-id-7 div.sk-parallel {display: flex;align-items: stretch;justify-content: center;background-color: white;position: relative;}#sk-container-id-7 div.sk-item::before, #sk-container-id-7 div.sk-parallel-item::before {content: \"\";position: absolute;border-left: 1px solid gray;box-sizing: border-box;top: 0;bottom: 0;left: 50%;z-index: -1;}#sk-container-id-7 div.sk-parallel-item {display: flex;flex-direction: column;z-index: 1;position: relative;background-color: white;}#sk-container-id-7 div.sk-parallel-item:first-child::after {align-self: flex-end;width: 50%;}#sk-container-id-7 div.sk-parallel-item:last-child::after {align-self: flex-start;width: 50%;}#sk-container-id-7 div.sk-parallel-item:only-child::after {width: 0;}#sk-container-id-7 div.sk-dashed-wrapped {border: 1px dashed gray;margin: 0 0.4em 0.5em 0.4em;box-sizing: border-box;padding-bottom: 0.4em;background-color: white;}#sk-container-id-7 div.sk-label label {font-family: monospace;font-weight: bold;display: inline-block;line-height: 1.2em;}#sk-container-id-7 div.sk-label-container {text-align: center;}#sk-container-id-7 div.sk-container {/* jupyter's `normalize.less` sets `[hidden] { display: none; }` but bootstrap.min.css set `[hidden] { display: none !important; }` so we also need the `!important` here to be able to override the default hidden behavior on the sphinx rendered scikit-learn.org. See: https://github.com/scikit-learn/scikit-learn/issues/21755 */display: inline-block !important;position: relative;}#sk-container-id-7 div.sk-text-repr-fallback {display: none;}</style><div id=\"sk-container-id-7\" class=\"sk-top-container\"><div class=\"sk-text-repr-fallback\"><pre>RandomForestRegressor(max_depth=29, min_samples_leaf=32, min_samples_split=28,\n",
              "                      n_estimators=208, random_state=43)</pre><b>In a Jupyter environment, please rerun this cell to show the HTML representation or trust the notebook. <br />On GitHub, the HTML representation is unable to render, please try loading this page with nbviewer.org.</b></div><div class=\"sk-container\" hidden><div class=\"sk-item\"><div class=\"sk-estimator sk-toggleable\"><input class=\"sk-toggleable__control sk-hidden--visually\" id=\"sk-estimator-id-7\" type=\"checkbox\" checked><label for=\"sk-estimator-id-7\" class=\"sk-toggleable__label sk-toggleable__label-arrow\">RandomForestRegressor</label><div class=\"sk-toggleable__content\"><pre>RandomForestRegressor(max_depth=29, min_samples_leaf=32, min_samples_split=28,\n",
              "                      n_estimators=208, random_state=43)</pre></div></div></div></div></div>"
            ],
            "text/plain": [
              "RandomForestRegressor(max_depth=29, min_samples_leaf=32, min_samples_split=28,\n",
              "                      n_estimators=208, random_state=43)"
            ]
          },
          "execution_count": 166,
          "metadata": {},
          "output_type": "execute_result"
        }
      ],
      "source": [
        "# Ajuste do modelo, de acordo com as variáveis de treinamento\n",
        "model_rf_parametros.fit(X_train, Y_train)"
      ]
    },
    {
      "cell_type": "code",
      "execution_count": 167,
      "metadata": {},
      "outputs": [],
      "source": [
        "# Predição dos valores de salário com base nos dados de teste\n",
        "valores_preditos_rf_parametros = model_rf_parametros.predict(X_test)"
      ]
    },
    {
      "cell_type": "markdown",
      "metadata": {},
      "source": [
        "#### Analisando a importância das variáveis para estimar a variável target. Observe o aumento da importância da variável 'Anos experiencia - numerico'"
      ]
    },
    {
      "cell_type": "code",
      "execution_count": 168,
      "metadata": {},
      "outputs": [
        {
          "data": {
            "text/html": [
              "<div>\n",
              "<style scoped>\n",
              "    .dataframe tbody tr th:only-of-type {\n",
              "        vertical-align: middle;\n",
              "    }\n",
              "\n",
              "    .dataframe tbody tr th {\n",
              "        vertical-align: top;\n",
              "    }\n",
              "\n",
              "    .dataframe thead th {\n",
              "        text-align: right;\n",
              "    }\n",
              "</style>\n",
              "<table border=\"1\" class=\"dataframe\">\n",
              "  <thead>\n",
              "    <tr style=\"text-align: right;\">\n",
              "      <th></th>\n",
              "      <th>importance</th>\n",
              "    </tr>\n",
              "  </thead>\n",
              "  <tbody>\n",
              "    <tr>\n",
              "      <th>Anos experiencia - numerico</th>\n",
              "      <td>0.837231</td>\n",
              "    </tr>\n",
              "    <tr>\n",
              "      <th>Idade</th>\n",
              "      <td>0.155928</td>\n",
              "    </tr>\n",
              "    <tr>\n",
              "      <th>Genero</th>\n",
              "      <td>0.006841</td>\n",
              "    </tr>\n",
              "  </tbody>\n",
              "</table>\n",
              "</div>"
            ],
            "text/plain": [
              "                             importance\n",
              "Anos experiencia - numerico    0.837231\n",
              "Idade                          0.155928\n",
              "Genero                         0.006841"
            ]
          },
          "execution_count": 168,
          "metadata": {},
          "output_type": "execute_result"
        }
      ],
      "source": [
        "model_rf_parametros.feature_importances_\n",
        "feature_importances = pd.DataFrame(model_rf_parametros.feature_importances_, index = X_train.columns, columns=['importance']).sort_values('importance', ascending = False)\n",
        "feature_importances"
      ]
    },
    {
      "cell_type": "markdown",
      "metadata": {},
      "source": [
        "#### Métricas de avaliação do modelo"
      ]
    },
    {
      "cell_type": "code",
      "execution_count": 169,
      "metadata": {},
      "outputs": [
        {
          "data": {
            "text/plain": [
              "0.27209838017209864"
            ]
          },
          "execution_count": 169,
          "metadata": {},
          "output_type": "execute_result"
        }
      ],
      "source": [
        "mse = mean_squared_error(Y_test, valores_preditos_rf_parametros)\n",
        "mae = mean_absolute_error(Y_test, valores_preditos_rf_parametros)\n",
        "r2_score(Y_test, valores_preditos_rf_parametros)"
      ]
    },
    {
      "cell_type": "markdown",
      "metadata": {},
      "source": [
        "#### Aumento na acurácia do modelo de 17% para 27%, inserindo parâmetros no algoritmo Random Forest"
      ]
    },
    {
      "cell_type": "markdown",
      "metadata": {},
      "source": [
        "---\n",
        "#### 3.2 XGBoost"
      ]
    },
    {
      "cell_type": "code",
      "execution_count": 170,
      "metadata": {},
      "outputs": [],
      "source": [
        "model_xgboost = XGBRegressor()"
      ]
    },
    {
      "cell_type": "code",
      "execution_count": 171,
      "metadata": {},
      "outputs": [
        {
          "data": {
            "text/html": [
              "<style>#sk-container-id-8 {color: black;}#sk-container-id-8 pre{padding: 0;}#sk-container-id-8 div.sk-toggleable {background-color: white;}#sk-container-id-8 label.sk-toggleable__label {cursor: pointer;display: block;width: 100%;margin-bottom: 0;padding: 0.3em;box-sizing: border-box;text-align: center;}#sk-container-id-8 label.sk-toggleable__label-arrow:before {content: \"▸\";float: left;margin-right: 0.25em;color: #696969;}#sk-container-id-8 label.sk-toggleable__label-arrow:hover:before {color: black;}#sk-container-id-8 div.sk-estimator:hover label.sk-toggleable__label-arrow:before {color: black;}#sk-container-id-8 div.sk-toggleable__content {max-height: 0;max-width: 0;overflow: hidden;text-align: left;background-color: #f0f8ff;}#sk-container-id-8 div.sk-toggleable__content pre {margin: 0.2em;color: black;border-radius: 0.25em;background-color: #f0f8ff;}#sk-container-id-8 input.sk-toggleable__control:checked~div.sk-toggleable__content {max-height: 200px;max-width: 100%;overflow: auto;}#sk-container-id-8 input.sk-toggleable__control:checked~label.sk-toggleable__label-arrow:before {content: \"▾\";}#sk-container-id-8 div.sk-estimator input.sk-toggleable__control:checked~label.sk-toggleable__label {background-color: #d4ebff;}#sk-container-id-8 div.sk-label input.sk-toggleable__control:checked~label.sk-toggleable__label {background-color: #d4ebff;}#sk-container-id-8 input.sk-hidden--visually {border: 0;clip: rect(1px 1px 1px 1px);clip: rect(1px, 1px, 1px, 1px);height: 1px;margin: -1px;overflow: hidden;padding: 0;position: absolute;width: 1px;}#sk-container-id-8 div.sk-estimator {font-family: monospace;background-color: #f0f8ff;border: 1px dotted black;border-radius: 0.25em;box-sizing: border-box;margin-bottom: 0.5em;}#sk-container-id-8 div.sk-estimator:hover {background-color: #d4ebff;}#sk-container-id-8 div.sk-parallel-item::after {content: \"\";width: 100%;border-bottom: 1px solid gray;flex-grow: 1;}#sk-container-id-8 div.sk-label:hover label.sk-toggleable__label {background-color: #d4ebff;}#sk-container-id-8 div.sk-serial::before {content: \"\";position: absolute;border-left: 1px solid gray;box-sizing: border-box;top: 0;bottom: 0;left: 50%;z-index: 0;}#sk-container-id-8 div.sk-serial {display: flex;flex-direction: column;align-items: center;background-color: white;padding-right: 0.2em;padding-left: 0.2em;position: relative;}#sk-container-id-8 div.sk-item {position: relative;z-index: 1;}#sk-container-id-8 div.sk-parallel {display: flex;align-items: stretch;justify-content: center;background-color: white;position: relative;}#sk-container-id-8 div.sk-item::before, #sk-container-id-8 div.sk-parallel-item::before {content: \"\";position: absolute;border-left: 1px solid gray;box-sizing: border-box;top: 0;bottom: 0;left: 50%;z-index: -1;}#sk-container-id-8 div.sk-parallel-item {display: flex;flex-direction: column;z-index: 1;position: relative;background-color: white;}#sk-container-id-8 div.sk-parallel-item:first-child::after {align-self: flex-end;width: 50%;}#sk-container-id-8 div.sk-parallel-item:last-child::after {align-self: flex-start;width: 50%;}#sk-container-id-8 div.sk-parallel-item:only-child::after {width: 0;}#sk-container-id-8 div.sk-dashed-wrapped {border: 1px dashed gray;margin: 0 0.4em 0.5em 0.4em;box-sizing: border-box;padding-bottom: 0.4em;background-color: white;}#sk-container-id-8 div.sk-label label {font-family: monospace;font-weight: bold;display: inline-block;line-height: 1.2em;}#sk-container-id-8 div.sk-label-container {text-align: center;}#sk-container-id-8 div.sk-container {/* jupyter's `normalize.less` sets `[hidden] { display: none; }` but bootstrap.min.css set `[hidden] { display: none !important; }` so we also need the `!important` here to be able to override the default hidden behavior on the sphinx rendered scikit-learn.org. See: https://github.com/scikit-learn/scikit-learn/issues/21755 */display: inline-block !important;position: relative;}#sk-container-id-8 div.sk-text-repr-fallback {display: none;}</style><div id=\"sk-container-id-8\" class=\"sk-top-container\"><div class=\"sk-text-repr-fallback\"><pre>XGBRegressor(base_score=None, booster=None, callbacks=None,\n",
              "             colsample_bylevel=None, colsample_bynode=None,\n",
              "             colsample_bytree=None, device=None, early_stopping_rounds=None,\n",
              "             enable_categorical=False, eval_metric=None, feature_types=None,\n",
              "             gamma=None, grow_policy=None, importance_type=None,\n",
              "             interaction_constraints=None, learning_rate=None, max_bin=None,\n",
              "             max_cat_threshold=None, max_cat_to_onehot=None,\n",
              "             max_delta_step=None, max_depth=None, max_leaves=None,\n",
              "             min_child_weight=None, missing=nan, monotone_constraints=None,\n",
              "             multi_strategy=None, n_estimators=None, n_jobs=None,\n",
              "             num_parallel_tree=None, random_state=None, ...)</pre><b>In a Jupyter environment, please rerun this cell to show the HTML representation or trust the notebook. <br />On GitHub, the HTML representation is unable to render, please try loading this page with nbviewer.org.</b></div><div class=\"sk-container\" hidden><div class=\"sk-item\"><div class=\"sk-estimator sk-toggleable\"><input class=\"sk-toggleable__control sk-hidden--visually\" id=\"sk-estimator-id-8\" type=\"checkbox\" checked><label for=\"sk-estimator-id-8\" class=\"sk-toggleable__label sk-toggleable__label-arrow\">XGBRegressor</label><div class=\"sk-toggleable__content\"><pre>XGBRegressor(base_score=None, booster=None, callbacks=None,\n",
              "             colsample_bylevel=None, colsample_bynode=None,\n",
              "             colsample_bytree=None, device=None, early_stopping_rounds=None,\n",
              "             enable_categorical=False, eval_metric=None, feature_types=None,\n",
              "             gamma=None, grow_policy=None, importance_type=None,\n",
              "             interaction_constraints=None, learning_rate=None, max_bin=None,\n",
              "             max_cat_threshold=None, max_cat_to_onehot=None,\n",
              "             max_delta_step=None, max_depth=None, max_leaves=None,\n",
              "             min_child_weight=None, missing=nan, monotone_constraints=None,\n",
              "             multi_strategy=None, n_estimators=None, n_jobs=None,\n",
              "             num_parallel_tree=None, random_state=None, ...)</pre></div></div></div></div></div>"
            ],
            "text/plain": [
              "XGBRegressor(base_score=None, booster=None, callbacks=None,\n",
              "             colsample_bylevel=None, colsample_bynode=None,\n",
              "             colsample_bytree=None, device=None, early_stopping_rounds=None,\n",
              "             enable_categorical=False, eval_metric=None, feature_types=None,\n",
              "             gamma=None, grow_policy=None, importance_type=None,\n",
              "             interaction_constraints=None, learning_rate=None, max_bin=None,\n",
              "             max_cat_threshold=None, max_cat_to_onehot=None,\n",
              "             max_delta_step=None, max_depth=None, max_leaves=None,\n",
              "             min_child_weight=None, missing=nan, monotone_constraints=None,\n",
              "             multi_strategy=None, n_estimators=None, n_jobs=None,\n",
              "             num_parallel_tree=None, random_state=None, ...)"
            ]
          },
          "execution_count": 171,
          "metadata": {},
          "output_type": "execute_result"
        }
      ],
      "source": [
        "# Ajuste do modelo, de acordo com as variáveis de treinamento\n",
        "model_xgboost.fit(X_train, Y_train)"
      ]
    },
    {
      "cell_type": "code",
      "execution_count": 172,
      "metadata": {},
      "outputs": [
        {
          "data": {
            "text/plain": [
              "array([ 5645.6226, 13068.446 , 20263.82  ,  8188.7925, 12262.426 ,\n",
              "        6172.8945,  3766.3657, 12245.694 , 13068.446 , 11694.955 ,\n",
              "       10533.964 ,  6551.2363,  6172.8945,  6551.2363, 14439.076 ,\n",
              "        8352.578 ,  3572.5652,  9140.09  ,  4233.152 , 14042.099 ,\n",
              "        9876.125 , 11694.955 ,  2244.4626, 12245.694 ,  4724.6436,\n",
              "        5202.0527,  9288.821 , 15640.317 , 17288.87  ,  9140.09  ,\n",
              "       10533.964 , 12002.522 ,  5391.0054, 13949.034 ,  7059.036 ,\n",
              "       16678.75  ,  8881.32  ,  8720.666 ,  4055.7822, 17677.932 ,\n",
              "       15867.892 ,  6004.2563,  1817.5685, 10006.239 , 14042.099 ,\n",
              "        9330.148 , 10533.964 , 14083.922 ,  8942.644 ,  6897.338 ,\n",
              "       10044.34  ,  6153.2266, 19770.596 ,  3973.9666, 15045.674 ,\n",
              "       18513.246 , 11985.932 , 17133.785 ,  7820.617 ,  6337.9023,\n",
              "       12740.406 , 15903.76  ,  8046.67  , 14529.529 ,  3585.4788,\n",
              "       18370.352 , 12118.972 ,  4161.6553,  4547.606 ,  6183.4653,\n",
              "        4290.2485, 16885.312 , 12677.458 ,  7820.617 ,  5645.6226,\n",
              "       20263.82  , 20027.883 , 12258.649 , 13068.446 ,  8550.084 ,\n",
              "        5749.847 , 11702.834 , 10533.964 ,  7352.168 ,  8352.578 ,\n",
              "        5717.932 ,  5749.847 ,  7820.617 ,  5645.6226, 13751.74  ,\n",
              "       15597.471 , 31532.428 ,  5717.932 ,  5202.0527,  7769.866 ,\n",
              "       11559.781 ,  8720.666 ,  9557.611 ,  5202.0527,  5645.6226,\n",
              "       13250.107 , 16678.75  ,  3130.8513,  5645.6226,  6897.338 ,\n",
              "        7769.866 , 16678.75  ,  6004.2563,  8352.578 ,  6257.0503,\n",
              "        6047.005 ,  6256.127 , 16229.794 ,  9330.148 , 11221.026 ,\n",
              "        5645.6226,  6719.3223,  3130.8513,  5586.3433, 11020.382 ,\n",
              "       11833.837 ,  6719.3223,  7820.617 ,  7820.617 , 13659.181 ,\n",
              "        6719.3223,  8352.578 , 10533.964 ,  9116.6875, 15949.861 ,\n",
              "        4724.6436,  4055.7822, 19991.172 ,  4724.6436,  9839.427 ,\n",
              "        8720.666 , 12989.639 , 12063.601 ,  6256.127 , 44965.402 ,\n",
              "        6719.3223, 23613.906 ,  9335.286 ,  8912.756 ,  8498.307 ,\n",
              "        4318.6772,  9557.611 ,  7906.2544,  3568.2659, 10916.873 ,\n",
              "        6337.9023,  9330.148 , 12238.842 , 18370.352 ,  6007.0674,\n",
              "       10959.808 ,  6004.3896, 12168.577 , 17325.172 ,  3017.591 ,\n",
              "        8912.756 , 25274.527 , 14439.076 ,  6914.123 , 12989.639 ,\n",
              "        6257.0503, 17979.63  ,  9956.479 ,  9765.349 ,  8862.023 ,\n",
              "       12989.639 , 13411.656 ,  4282.457 , 11985.932 ,  5749.847 ,\n",
              "       12457.847 ,  7769.866 , 10916.873 , 13855.844 ,  9330.148 ,\n",
              "       15949.861 ,  4282.457 , 13659.181 , 10249.454 ,  6172.8945,\n",
              "       10533.964 , 14529.529 ,  5749.847 ,  9116.6875,  9288.821 ,\n",
              "       12989.639 ,  6047.005 , 11242.552 , 13068.446 ,  3568.2659,\n",
              "        7972.2266, 13068.446 ,  5586.3433,  2199.138 , 10350.886 ,\n",
              "       13250.107 ,  7869.0664, 18418.266 ,  5645.6226,  7769.866 ,\n",
              "        5202.0527, 11964.55  ,  4233.152 ,  6183.4653,  9751.154 ,\n",
              "       13068.446 ,  4729.3696,  8352.578 , 13068.446 , 11694.955 ,\n",
              "        8720.666 ,  6257.0503,  9765.349 , 11822.293 , 13751.74  ,\n",
              "        5645.6226, 16485.264 ,  4973.89  ,  9956.479 ,  8046.67  ,\n",
              "        7148.5513,  9557.611 ,  9330.148 ,  5578.9473,  8862.023 ,\n",
              "       25995.373 ,  7414.0527, 12565.447 ,  8862.023 , 12007.798 ,\n",
              "        4233.152 , 14042.099 , 11242.552 , 17677.932 ,  3398.9775,\n",
              "        6719.3223,  4055.7822, 10886.821 ,  4724.6436,  9557.611 ,\n",
              "       10886.821 ,  5202.0527,  3766.3657, 13375.819 , 18258.002 ,\n",
              "        5202.0527,  9116.6875, 13659.181 ,  9557.611 ,  8099.687 ,\n",
              "        4233.152 ,  5586.3433,  8720.666 , 14417.417 , 11625.151 ,\n",
              "        8046.67  , 10948.389 ,  3130.8513, 17710.977 ,  8720.666 ,\n",
              "        4282.457 ,  3568.2659, 10886.821 , 17325.172 ,  9922.787 ,\n",
              "        4596.2637,  6004.2563, 11625.151 , 12258.649 , 38846.07  ,\n",
              "       38846.07  , 13068.446 ,  4547.606 , 14085.673 , 13949.034 ,\n",
              "       16678.75  , 13659.181 , 17979.63  ,  2426.7883,  6897.338 ,\n",
              "        7820.617 , 12063.601 ,  8046.67  ,  4973.89  ,  7820.617 ,\n",
              "        4729.3696,  3817.4065,  8881.32  , 16885.312 ,  9116.6875,\n",
              "       20263.82  , 10948.389 ,  6570.5454,  3398.9775, 44965.402 ,\n",
              "        8720.666 , 14042.099 ,  9876.125 , 18370.352 ,  6172.8945,\n",
              "        6719.3223, 10524.185 ,  3347.2861, 11985.932 ,  4161.6553,\n",
              "        6362.803 ,  3568.2659, 11144.234 ,  5202.0527,  3817.4065,\n",
              "       17133.785 ,  4055.7822,  8352.578 ,  5645.6226,  4161.6553,\n",
              "        4318.6772, 12258.649 , 11559.781 , 11985.932 , 10533.964 ,\n",
              "        9889.307 , 12989.639 ,  3568.2659, 10533.964 ,  8942.644 ,\n",
              "       11396.056 , 17133.785 , 12457.847 , 12063.601 , 13659.181 ,\n",
              "       10959.808 , 20467.652 , 15630.386 ,  4233.152 ,  8099.687 ,\n",
              "        7769.866 , 10959.808 , 13625.929 , 12258.649 ,  7352.168 ,\n",
              "        6897.338 ,  2426.7883,  7834.8867, 13659.181 , 14417.417 ,\n",
              "        7972.2266,  4926.8057, 23715.86  ,  6570.5454,  8942.644 ,\n",
              "        1817.5685,  6991.5684, 20002.287 ,  6719.3223,  6485.0527,\n",
              "        6148.7666,  3817.4065, 38846.07  ,  7442.823 ,  4318.6772,\n",
              "        3398.9775, 10959.808 , 16167.667 , 13659.181 ,  6638.803 ,\n",
              "        3817.4065,  5717.932 ,  7852.1265, 10726.262 ,  8862.023 ,\n",
              "       21497.055 ,  3568.2659,  3817.4065, 15478.383 , 15045.674 ,\n",
              "        9330.148 ,  7972.2266,  5749.847 , 10511.105 ,  9956.479 ,\n",
              "       13375.819 , 18370.352 , 12989.639 ,  7769.866 ,  3817.4065,\n",
              "       17677.932 , 14042.099 ,  4282.457 , 13659.181 ,  6257.0503,\n",
              "        5645.6226, 16438.86  ,  3568.2659,  4318.6772,  8881.32  ,\n",
              "        3398.9775,  8720.666 ,  9642.13  ,  2963.3977, 13659.181 ,\n",
              "        3398.9775, 18370.352 ,  4233.152 ,  9557.611 , 13068.446 ,\n",
              "        7820.617 , 11559.781 , 11144.234 ,  3766.3657, 18513.246 ,\n",
              "       11559.781 ], dtype=float32)"
            ]
          },
          "execution_count": 172,
          "metadata": {},
          "output_type": "execute_result"
        }
      ],
      "source": [
        "# Predição dos valores de salário com base nos dados de teste\n",
        "valores_preditos_xgboost = model_xgboost.predict(X_test)\n",
        "valores_preditos_xgboost"
      ]
    },
    {
      "cell_type": "markdown",
      "metadata": {},
      "source": [
        "#### Analisando a importância das variáveis para estimar a variável target. Observe o aumento da importância das variáveis 'Idade' e 'Genero'"
      ]
    },
    {
      "cell_type": "code",
      "execution_count": 173,
      "metadata": {},
      "outputs": [
        {
          "data": {
            "text/html": [
              "<div>\n",
              "<style scoped>\n",
              "    .dataframe tbody tr th:only-of-type {\n",
              "        vertical-align: middle;\n",
              "    }\n",
              "\n",
              "    .dataframe tbody tr th {\n",
              "        vertical-align: top;\n",
              "    }\n",
              "\n",
              "    .dataframe thead th {\n",
              "        text-align: right;\n",
              "    }\n",
              "</style>\n",
              "<table border=\"1\" class=\"dataframe\">\n",
              "  <thead>\n",
              "    <tr style=\"text-align: right;\">\n",
              "      <th></th>\n",
              "      <th>importance</th>\n",
              "    </tr>\n",
              "  </thead>\n",
              "  <tbody>\n",
              "    <tr>\n",
              "      <th>Anos experiencia - numerico</th>\n",
              "      <td>0.613865</td>\n",
              "    </tr>\n",
              "    <tr>\n",
              "      <th>Idade</th>\n",
              "      <td>0.202229</td>\n",
              "    </tr>\n",
              "    <tr>\n",
              "      <th>Genero</th>\n",
              "      <td>0.183905</td>\n",
              "    </tr>\n",
              "  </tbody>\n",
              "</table>\n",
              "</div>"
            ],
            "text/plain": [
              "                             importance\n",
              "Anos experiencia - numerico    0.613865\n",
              "Idade                          0.202229\n",
              "Genero                         0.183905"
            ]
          },
          "execution_count": 173,
          "metadata": {},
          "output_type": "execute_result"
        }
      ],
      "source": [
        "model_xgboost.feature_importances_\n",
        "feature_importances = pd.DataFrame(model_xgboost.feature_importances_, index = X_train.columns, columns=['importance']).sort_values('importance', ascending = False)\n",
        "feature_importances"
      ]
    },
    {
      "cell_type": "markdown",
      "metadata": {},
      "source": [
        "#### Métricas de avaliação do modelo"
      ]
    },
    {
      "cell_type": "code",
      "execution_count": 174,
      "metadata": {},
      "outputs": [
        {
          "data": {
            "text/plain": [
              "0.05641534848785856"
            ]
          },
          "execution_count": 174,
          "metadata": {},
          "output_type": "execute_result"
        }
      ],
      "source": [
        "mse = mean_squared_error(Y_test, valores_preditos_xgboost)\n",
        "mae = mean_absolute_error(Y_test, valores_preditos_xgboost)\n",
        "r2_score(Y_test, valores_preditos_xgboost)"
      ]
    },
    {
      "cell_type": "markdown",
      "metadata": {},
      "source": [
        "### **Concluindo**"
      ]
    },
    {
      "cell_type": "markdown",
      "metadata": {},
      "source": [
        "#### Apesar do algoritmo XGboost ter aumentando a importância de variáveis 'fracas', não foi um modelo acurado para estimar o salário dos funcionários: Acurácia de 6%"
      ]
    },
    {
      "cell_type": "markdown",
      "metadata": {},
      "source": [
        "#### Nesse exemplo, o modelo Random Forest, com especificação de parâmetros como número de árvores e ramificações, foi o mais acurado: Acurácia de 27%"
      ]
    },
    {
      "cell_type": "markdown",
      "metadata": {},
      "source": [
        "---\n",
        "#### Fim do código\n",
        "#### Obrigada!  \n",
        "#### Profa. Luani R O Piva - https://www.linkedin.com/in/luanipiva/"
      ]
    }
  ],
  "metadata": {
    "colab": {
      "provenance": []
    },
    "kernelspec": {
      "display_name": "Python 3.8.10 64-bit",
      "language": "python",
      "name": "python3"
    },
    "language_info": {
      "codemirror_mode": {
        "name": "ipython",
        "version": 3
      },
      "file_extension": ".py",
      "mimetype": "text/x-python",
      "name": "python",
      "nbconvert_exporter": "python",
      "pygments_lexer": "ipython3",
      "version": "3.12.2"
    },
    "vscode": {
      "interpreter": {
        "hash": "916dbcbb3f70747c44a77c7bcd40155683ae19c65e1c03b4aa3499c5328201f1"
      }
    }
  },
  "nbformat": 4,
  "nbformat_minor": 0
}
