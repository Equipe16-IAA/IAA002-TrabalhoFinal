{
 "cells": [
  {
   "cell_type": "markdown",
   "metadata": {},
   "source": [
    "1 - Análise exploratória de dados"
   ]
  },
  {
   "cell_type": "code",
   "execution_count": 47,
   "metadata": {},
   "outputs": [],
   "source": [
    "# Importação de bibliotecas\n",
    "import pandas as pd\n",
    "import seaborn as sns\n",
    "import matplotlib.pyplot as plt\n",
    "import warnings\n",
    "warnings.filterwarnings('ignore')\n",
    "\n",
    "# Bibliotecas de machine learning\n",
    "from sklearn.model_selection import train_test_split\n",
    "from sklearn.ensemble import RandomForestRegressor\n",
    "from xgboost import XGBRegressor\n",
    "from sklearn.preprocessing import LabelEncoder\n",
    "\n",
    "# Métricas de avaliação dos modelos\n",
    "from sklearn.metrics import mean_squared_error, mean_absolute_error, r2_score"
   ]
  },
  {
   "cell_type": "code",
   "execution_count": 48,
   "metadata": {},
   "outputs": [],
   "source": [
    "# Carregamento de dados\n",
    "dados = pd.read_csv('database/precos_carros_brasil.csv')"
   ]
  },
  {
   "cell_type": "code",
   "execution_count": 49,
   "metadata": {},
   "outputs": [
    {
     "data": {
      "text/plain": [
       "Index(['year_of_reference', 'month_of_reference', 'fipe_code',\n",
       "       'authentication', 'brand', 'model', 'fuel', 'gear', 'engine_size',\n",
       "       'year_model', 'avg_price_brl'],\n",
       "      dtype='object')"
      ]
     },
     "execution_count": 49,
     "metadata": {},
     "output_type": "execute_result"
    }
   ],
   "source": [
    "#listando colunas\n",
    "dados.columns"
   ]
  },
  {
   "cell_type": "code",
   "execution_count": 50,
   "metadata": {},
   "outputs": [
    {
     "data": {
      "text/plain": [
       "(267542, 11)"
      ]
     },
     "execution_count": 50,
     "metadata": {},
     "output_type": "execute_result"
    }
   ],
   "source": [
    "# Observando número de linhas e colunas\n",
    "dados.shape"
   ]
  },
  {
   "cell_type": "code",
   "execution_count": 51,
   "metadata": {},
   "outputs": [
    {
     "data": {
      "text/html": [
       "<div>\n",
       "<style scoped>\n",
       "    .dataframe tbody tr th:only-of-type {\n",
       "        vertical-align: middle;\n",
       "    }\n",
       "\n",
       "    .dataframe tbody tr th {\n",
       "        vertical-align: top;\n",
       "    }\n",
       "\n",
       "    .dataframe thead th {\n",
       "        text-align: right;\n",
       "    }\n",
       "</style>\n",
       "<table border=\"1\" class=\"dataframe\">\n",
       "  <thead>\n",
       "    <tr style=\"text-align: right;\">\n",
       "      <th></th>\n",
       "      <th>year_of_reference</th>\n",
       "      <th>month_of_reference</th>\n",
       "      <th>fipe_code</th>\n",
       "      <th>authentication</th>\n",
       "      <th>brand</th>\n",
       "      <th>model</th>\n",
       "      <th>fuel</th>\n",
       "      <th>gear</th>\n",
       "      <th>engine_size</th>\n",
       "      <th>year_model</th>\n",
       "      <th>avg_price_brl</th>\n",
       "    </tr>\n",
       "  </thead>\n",
       "  <tbody>\n",
       "    <tr>\n",
       "      <th>0</th>\n",
       "      <td>2021.0</td>\n",
       "      <td>January</td>\n",
       "      <td>004001-0</td>\n",
       "      <td>cfzlctzfwrcp</td>\n",
       "      <td>GM - Chevrolet</td>\n",
       "      <td>Corsa Wind 1.0 MPFI / EFI 2p</td>\n",
       "      <td>Gasoline</td>\n",
       "      <td>manual</td>\n",
       "      <td>1</td>\n",
       "      <td>2002.0</td>\n",
       "      <td>9162.0</td>\n",
       "    </tr>\n",
       "    <tr>\n",
       "      <th>1</th>\n",
       "      <td>2021.0</td>\n",
       "      <td>January</td>\n",
       "      <td>004001-0</td>\n",
       "      <td>cdqwxwpw3y2p</td>\n",
       "      <td>GM - Chevrolet</td>\n",
       "      <td>Corsa Wind 1.0 MPFI / EFI 2p</td>\n",
       "      <td>Gasoline</td>\n",
       "      <td>manual</td>\n",
       "      <td>1</td>\n",
       "      <td>2001.0</td>\n",
       "      <td>8832.0</td>\n",
       "    </tr>\n",
       "    <tr>\n",
       "      <th>2</th>\n",
       "      <td>2021.0</td>\n",
       "      <td>January</td>\n",
       "      <td>004001-0</td>\n",
       "      <td>cb1t3xwwj1xp</td>\n",
       "      <td>GM - Chevrolet</td>\n",
       "      <td>Corsa Wind 1.0 MPFI / EFI 2p</td>\n",
       "      <td>Gasoline</td>\n",
       "      <td>manual</td>\n",
       "      <td>1</td>\n",
       "      <td>2000.0</td>\n",
       "      <td>8388.0</td>\n",
       "    </tr>\n",
       "    <tr>\n",
       "      <th>3</th>\n",
       "      <td>2021.0</td>\n",
       "      <td>January</td>\n",
       "      <td>004001-0</td>\n",
       "      <td>cb9gct6j65r0</td>\n",
       "      <td>GM - Chevrolet</td>\n",
       "      <td>Corsa Wind 1.0 MPFI / EFI 2p</td>\n",
       "      <td>Alcohol</td>\n",
       "      <td>manual</td>\n",
       "      <td>1</td>\n",
       "      <td>2000.0</td>\n",
       "      <td>8453.0</td>\n",
       "    </tr>\n",
       "    <tr>\n",
       "      <th>4</th>\n",
       "      <td>2021.0</td>\n",
       "      <td>January</td>\n",
       "      <td>004003-7</td>\n",
       "      <td>g15wg0gbz1fx</td>\n",
       "      <td>GM - Chevrolet</td>\n",
       "      <td>Corsa Pick-Up GL/ Champ 1.6 MPFI / EFI</td>\n",
       "      <td>Gasoline</td>\n",
       "      <td>manual</td>\n",
       "      <td>1,6</td>\n",
       "      <td>2001.0</td>\n",
       "      <td>12525.0</td>\n",
       "    </tr>\n",
       "  </tbody>\n",
       "</table>\n",
       "</div>"
      ],
      "text/plain": [
       "   year_of_reference month_of_reference fipe_code authentication  \\\n",
       "0             2021.0            January  004001-0   cfzlctzfwrcp   \n",
       "1             2021.0            January  004001-0   cdqwxwpw3y2p   \n",
       "2             2021.0            January  004001-0   cb1t3xwwj1xp   \n",
       "3             2021.0            January  004001-0   cb9gct6j65r0   \n",
       "4             2021.0            January  004003-7   g15wg0gbz1fx   \n",
       "\n",
       "            brand                                   model      fuel    gear  \\\n",
       "0  GM - Chevrolet            Corsa Wind 1.0 MPFI / EFI 2p  Gasoline  manual   \n",
       "1  GM - Chevrolet            Corsa Wind 1.0 MPFI / EFI 2p  Gasoline  manual   \n",
       "2  GM - Chevrolet            Corsa Wind 1.0 MPFI / EFI 2p  Gasoline  manual   \n",
       "3  GM - Chevrolet            Corsa Wind 1.0 MPFI / EFI 2p   Alcohol  manual   \n",
       "4  GM - Chevrolet  Corsa Pick-Up GL/ Champ 1.6 MPFI / EFI  Gasoline  manual   \n",
       "\n",
       "  engine_size  year_model  avg_price_brl  \n",
       "0           1      2002.0         9162.0  \n",
       "1           1      2001.0         8832.0  \n",
       "2           1      2000.0         8388.0  \n",
       "3           1      2000.0         8453.0  \n",
       "4         1,6      2001.0        12525.0  "
      ]
     },
     "execution_count": 51,
     "metadata": {},
     "output_type": "execute_result"
    }
   ],
   "source": [
    "#imprimindo as primeiras linhas\n",
    "dados.head()"
   ]
  },
  {
   "cell_type": "code",
   "execution_count": 52,
   "metadata": {},
   "outputs": [
    {
     "data": {
      "text/plain": [
       "year_of_reference     True\n",
       "month_of_reference    True\n",
       "fipe_code             True\n",
       "authentication        True\n",
       "brand                 True\n",
       "model                 True\n",
       "fuel                  True\n",
       "gear                  True\n",
       "engine_size           True\n",
       "year_model            True\n",
       "avg_price_brl         True\n",
       "dtype: bool"
      ]
     },
     "execution_count": 52,
     "metadata": {},
     "output_type": "execute_result"
    }
   ],
   "source": [
    "# Verificando se existem valores faltantes nos dados \n",
    "dados.isna().any()"
   ]
  },
  {
   "cell_type": "code",
   "execution_count": 53,
   "metadata": {},
   "outputs": [
    {
     "data": {
      "text/plain": [
       "year_of_reference     65245\n",
       "month_of_reference    65245\n",
       "fipe_code             65245\n",
       "authentication        65245\n",
       "brand                 65245\n",
       "model                 65245\n",
       "fuel                  65245\n",
       "gear                  65245\n",
       "engine_size           65245\n",
       "year_model            65245\n",
       "avg_price_brl         65245\n",
       "dtype: int64"
      ]
     },
     "execution_count": 53,
     "metadata": {},
     "output_type": "execute_result"
    }
   ],
   "source": [
    "# Verificando a quantidade de valores faltantes por coluna\n",
    "dados.isna().sum()"
   ]
  },
  {
   "cell_type": "code",
   "execution_count": 54,
   "metadata": {},
   "outputs": [],
   "source": [
    "# Tratativa dos dados faltantes, que consiste em substituir pela string \"Nada Consta\"\n",
    "# dados.fillna('Nada Consta', inplace=True)\n",
    "\n",
    "# Tratativa optada foi remover as linhas que estavam com NA\n",
    "dados.dropna(inplace=True)"
   ]
  },
  {
   "cell_type": "code",
   "execution_count": 55,
   "metadata": {},
   "outputs": [
    {
     "data": {
      "text/plain": [
       "(202297, 11)"
      ]
     },
     "execution_count": 55,
     "metadata": {},
     "output_type": "execute_result"
    }
   ],
   "source": [
    "# Observando de novo número de linhas e colunas\n",
    "dados.shape"
   ]
  },
  {
   "cell_type": "code",
   "execution_count": 56,
   "metadata": {},
   "outputs": [
    {
     "data": {
      "text/plain": [
       "year_of_reference     0\n",
       "month_of_reference    0\n",
       "fipe_code             0\n",
       "authentication        0\n",
       "brand                 0\n",
       "model                 0\n",
       "fuel                  0\n",
       "gear                  0\n",
       "engine_size           0\n",
       "year_model            0\n",
       "avg_price_brl         0\n",
       "dtype: int64"
      ]
     },
     "execution_count": 56,
     "metadata": {},
     "output_type": "execute_result"
    }
   ],
   "source": [
    "# Verificando se tratativa funcionou\n",
    "dados.isna().sum()"
   ]
  },
  {
   "cell_type": "code",
   "execution_count": 57,
   "metadata": {},
   "outputs": [
    {
     "data": {
      "text/plain": [
       "2"
      ]
     },
     "execution_count": 57,
     "metadata": {},
     "output_type": "execute_result"
    }
   ],
   "source": [
    "# Verificando se há dados duplicados\n",
    "dados.duplicated().sum() "
   ]
  },
  {
   "cell_type": "code",
   "execution_count": 58,
   "metadata": {},
   "outputs": [],
   "source": [
    "# Removendo dados duplicados\n",
    "dados.drop_duplicates(inplace=True)"
   ]
  },
  {
   "cell_type": "code",
   "execution_count": 59,
   "metadata": {},
   "outputs": [
    {
     "data": {
      "text/plain": [
       "0"
      ]
     },
     "execution_count": 59,
     "metadata": {},
     "output_type": "execute_result"
    }
   ],
   "source": [
    "# Verificando se duplicados foram removidos\n",
    "dados.duplicated().sum() "
   ]
  },
  {
   "cell_type": "code",
   "execution_count": 60,
   "metadata": {},
   "outputs": [
    {
     "data": {
      "text/plain": [
       "year_of_reference     float64\n",
       "month_of_reference     object\n",
       "fipe_code              object\n",
       "authentication         object\n",
       "brand                  object\n",
       "model                  object\n",
       "fuel                   object\n",
       "gear                   object\n",
       "engine_size            object\n",
       "year_model            float64\n",
       "avg_price_brl         float64\n",
       "dtype: object"
      ]
     },
     "execution_count": 60,
     "metadata": {},
     "output_type": "execute_result"
    }
   ],
   "source": [
    "dados.dtypes"
   ]
  },
  {
   "cell_type": "code",
   "execution_count": 61,
   "metadata": {},
   "outputs": [],
   "source": [
    "# Criando categorias para separar colunas numéricas e categóricas\n",
    "numericas_cols = [col for col in dados.columns if dados[col].dtype != 'object']\n",
    "categoricas_cols = [col for col in dados.columns if dados[col].dtype == 'object']"
   ]
  },
  {
   "cell_type": "code",
   "execution_count": 62,
   "metadata": {},
   "outputs": [
    {
     "data": {
      "text/html": [
       "<div>\n",
       "<style scoped>\n",
       "    .dataframe tbody tr th:only-of-type {\n",
       "        vertical-align: middle;\n",
       "    }\n",
       "\n",
       "    .dataframe tbody tr th {\n",
       "        vertical-align: top;\n",
       "    }\n",
       "\n",
       "    .dataframe thead th {\n",
       "        text-align: right;\n",
       "    }\n",
       "</style>\n",
       "<table border=\"1\" class=\"dataframe\">\n",
       "  <thead>\n",
       "    <tr style=\"text-align: right;\">\n",
       "      <th></th>\n",
       "      <th>year_of_reference</th>\n",
       "      <th>year_model</th>\n",
       "      <th>avg_price_brl</th>\n",
       "    </tr>\n",
       "  </thead>\n",
       "  <tbody>\n",
       "    <tr>\n",
       "      <th>count</th>\n",
       "      <td>202295.000000</td>\n",
       "      <td>202295.000000</td>\n",
       "      <td>202295.000000</td>\n",
       "    </tr>\n",
       "    <tr>\n",
       "      <th>mean</th>\n",
       "      <td>2021.564695</td>\n",
       "      <td>2011.271514</td>\n",
       "      <td>52756.765713</td>\n",
       "    </tr>\n",
       "    <tr>\n",
       "      <th>std</th>\n",
       "      <td>0.571904</td>\n",
       "      <td>6.376241</td>\n",
       "      <td>51628.912116</td>\n",
       "    </tr>\n",
       "    <tr>\n",
       "      <th>min</th>\n",
       "      <td>2021.000000</td>\n",
       "      <td>2000.000000</td>\n",
       "      <td>6647.000000</td>\n",
       "    </tr>\n",
       "    <tr>\n",
       "      <th>25%</th>\n",
       "      <td>2021.000000</td>\n",
       "      <td>2006.000000</td>\n",
       "      <td>22855.000000</td>\n",
       "    </tr>\n",
       "    <tr>\n",
       "      <th>50%</th>\n",
       "      <td>2022.000000</td>\n",
       "      <td>2012.000000</td>\n",
       "      <td>38027.000000</td>\n",
       "    </tr>\n",
       "    <tr>\n",
       "      <th>75%</th>\n",
       "      <td>2022.000000</td>\n",
       "      <td>2016.000000</td>\n",
       "      <td>64064.000000</td>\n",
       "    </tr>\n",
       "    <tr>\n",
       "      <th>max</th>\n",
       "      <td>2023.000000</td>\n",
       "      <td>2023.000000</td>\n",
       "      <td>979358.000000</td>\n",
       "    </tr>\n",
       "  </tbody>\n",
       "</table>\n",
       "</div>"
      ],
      "text/plain": [
       "       year_of_reference     year_model  avg_price_brl\n",
       "count      202295.000000  202295.000000  202295.000000\n",
       "mean         2021.564695    2011.271514   52756.765713\n",
       "std             0.571904       6.376241   51628.912116\n",
       "min          2021.000000    2000.000000    6647.000000\n",
       "25%          2021.000000    2006.000000   22855.000000\n",
       "50%          2022.000000    2012.000000   38027.000000\n",
       "75%          2022.000000    2016.000000   64064.000000\n",
       "max          2023.000000    2023.000000  979358.000000"
      ]
     },
     "execution_count": 62,
     "metadata": {},
     "output_type": "execute_result"
    }
   ],
   "source": [
    "# Resumo das variáveis numéricas - Imprime alguns valores de medidas de tendências centrais \n",
    "dados[numericas_cols].describe()"
   ]
  },
  {
   "cell_type": "code",
   "execution_count": 63,
   "metadata": {},
   "outputs": [
    {
     "data": {
      "text/html": [
       "<div>\n",
       "<style scoped>\n",
       "    .dataframe tbody tr th:only-of-type {\n",
       "        vertical-align: middle;\n",
       "    }\n",
       "\n",
       "    .dataframe tbody tr th {\n",
       "        vertical-align: top;\n",
       "    }\n",
       "\n",
       "    .dataframe thead th {\n",
       "        text-align: right;\n",
       "    }\n",
       "</style>\n",
       "<table border=\"1\" class=\"dataframe\">\n",
       "  <thead>\n",
       "    <tr style=\"text-align: right;\">\n",
       "      <th></th>\n",
       "      <th>month_of_reference</th>\n",
       "      <th>fipe_code</th>\n",
       "      <th>authentication</th>\n",
       "      <th>brand</th>\n",
       "      <th>model</th>\n",
       "      <th>fuel</th>\n",
       "      <th>gear</th>\n",
       "      <th>engine_size</th>\n",
       "    </tr>\n",
       "  </thead>\n",
       "  <tbody>\n",
       "    <tr>\n",
       "      <th>count</th>\n",
       "      <td>202295</td>\n",
       "      <td>202295</td>\n",
       "      <td>202295</td>\n",
       "      <td>202295</td>\n",
       "      <td>202295</td>\n",
       "      <td>202295</td>\n",
       "      <td>202295</td>\n",
       "      <td>202295</td>\n",
       "    </tr>\n",
       "    <tr>\n",
       "      <th>unique</th>\n",
       "      <td>12</td>\n",
       "      <td>2091</td>\n",
       "      <td>202295</td>\n",
       "      <td>6</td>\n",
       "      <td>2112</td>\n",
       "      <td>3</td>\n",
       "      <td>2</td>\n",
       "      <td>29</td>\n",
       "    </tr>\n",
       "    <tr>\n",
       "      <th>top</th>\n",
       "      <td>January</td>\n",
       "      <td>003281-6</td>\n",
       "      <td>cfzlctzfwrcp</td>\n",
       "      <td>Fiat</td>\n",
       "      <td>Palio Week. Adv/Adv TRYON 1.8 mpi Flex</td>\n",
       "      <td>Gasoline</td>\n",
       "      <td>manual</td>\n",
       "      <td>1,6</td>\n",
       "    </tr>\n",
       "    <tr>\n",
       "      <th>freq</th>\n",
       "      <td>24260</td>\n",
       "      <td>425</td>\n",
       "      <td>1</td>\n",
       "      <td>44962</td>\n",
       "      <td>425</td>\n",
       "      <td>168684</td>\n",
       "      <td>161883</td>\n",
       "      <td>47420</td>\n",
       "    </tr>\n",
       "  </tbody>\n",
       "</table>\n",
       "</div>"
      ],
      "text/plain": [
       "       month_of_reference fipe_code authentication   brand  \\\n",
       "count              202295    202295         202295  202295   \n",
       "unique                 12      2091         202295       6   \n",
       "top               January  003281-6   cfzlctzfwrcp    Fiat   \n",
       "freq                24260       425              1   44962   \n",
       "\n",
       "                                         model      fuel    gear engine_size  \n",
       "count                                   202295    202295  202295      202295  \n",
       "unique                                    2112         3       2          29  \n",
       "top     Palio Week. Adv/Adv TRYON 1.8 mpi Flex  Gasoline  manual         1,6  \n",
       "freq                                       425    168684  161883       47420  "
      ]
     },
     "execution_count": 63,
     "metadata": {},
     "output_type": "execute_result"
    }
   ],
   "source": [
    "# Resumo das variáveis categóricas - Imprime alguns valores de estatística descritiva\n",
    "dados[categoricas_cols].describe()"
   ]
  },
  {
   "cell_type": "code",
   "execution_count": 64,
   "metadata": {},
   "outputs": [
    {
     "data": {
      "text/plain": [
       "model\n",
       "Palio Week. Adv/Adv TRYON 1.8 mpi Flex    425\n",
       "Focus 1.6 S/SE/SE Plus Flex 8V/16V 5p     425\n",
       "Focus 2.0 16V/SE/SE Plus Flex 5p Aut.     400\n",
       "Saveiro 1.6 Mi/ 1.6 Mi Total Flex 8V      400\n",
       "Corvette 5.7/ 6.0, 6.2 Targa/Stingray     375\n",
       "                                         ... \n",
       "STEPWAY Zen Flex 1.0 12V Mec.               2\n",
       "Saveiro Robust 1.6 Total Flex 16V CD        2\n",
       "Saveiro Robust 1.6 Total Flex 16V           2\n",
       "Gol Last Edition 1.0 Flex 12V 5p            2\n",
       "Polo Track 1.0 Flex 12V 5p                  2\n",
       "Name: count, Length: 2112, dtype: int64"
      ]
     },
     "execution_count": 64,
     "metadata": {},
     "output_type": "execute_result"
    }
   ],
   "source": [
    "# Contagem de valores por modelo\n",
    "dados['model'].value_counts()"
   ]
  },
  {
   "cell_type": "code",
   "execution_count": 65,
   "metadata": {},
   "outputs": [
    {
     "data": {
      "text/plain": [
       "brand\n",
       "Fiat               44962\n",
       "VW - VolksWagen    44312\n",
       "GM - Chevrolet     38590\n",
       "Ford               33150\n",
       "Renault            29191\n",
       "Nissan             12090\n",
       "Name: count, dtype: int64"
      ]
     },
     "execution_count": 65,
     "metadata": {},
     "output_type": "execute_result"
    }
   ],
   "source": [
    "# Contagem de valores por modelo\n",
    "dados['brand'].value_counts()"
   ]
  },
  {
   "cell_type": "code",
   "execution_count": 66,
   "metadata": {},
   "outputs": [],
   "source": [
    "# BREVE EXPLICAÇÃO DOS RESULTADOS DA ANALISE EXPLORATORIA\n",
    "\n",
    "# blablabla"
   ]
  },
  {
   "cell_type": "markdown",
   "metadata": {},
   "source": [
    " Visualização dos dados"
   ]
  },
  {
   "cell_type": "code",
   "execution_count": 67,
   "metadata": {},
   "outputs": [
    {
     "name": "stdout",
     "output_type": "stream",
     "text": [
      "brand\n",
      "Fiat               44962\n",
      "VW - VolksWagen    44312\n",
      "GM - Chevrolet     38590\n",
      "Ford               33150\n",
      "Renault            29191\n",
      "Nissan             12090\n",
      "Name: count, dtype: int64\n"
     ]
    }
   ],
   "source": [
    "# Contagem de quantidade de carros por marca\n",
    "valores_contados_1 = dados['brand'].value_counts()\n",
    "print(valores_contados_1)"
   ]
  },
  {
   "cell_type": "code",
   "execution_count": 68,
   "metadata": {},
   "outputs": [
    {
     "data": {
      "image/png": "[encoded data removed]",
      "text/plain": [
       "<Figure size 2000x1000 with 1 Axes>"
      ]
     },
     "metadata": {},
     "output_type": "display_data"
    }
   ],
   "source": [
    "# Gráfico da quantidade de carros por marca\n",
    "plt.figure(figsize=(20,10)) # Aumentar o tamanho da figura na saída dos dados\n",
    "grafico_1 = plt.bar(valores_contados_1.index, valores_contados_1.values) \n",
    "plt.title('Quantidade de carros por marca') # plt.title para inserir título no gráfico\n",
    "plt.ylabel('Total de carros'); # # plt.ylabel para inserir título no gráfico\n",
    "plt.bar_label(grafico_1, size=10);"
   ]
  },
  {
   "cell_type": "code",
   "execution_count": 69,
   "metadata": {},
   "outputs": [
    {
     "name": "stdout",
     "output_type": "stream",
     "text": [
      "gear\n",
      "manual       161883\n",
      "automatic     40412\n",
      "Name: count, dtype: int64\n"
     ]
    }
   ],
   "source": [
    "# Contagem de quantidade de carros por tipo de engrenagem\n",
    "valores_contados_2 = dados['gear'].value_counts()\n",
    "print(valores_contados_2)"
   ]
  },
  {
   "cell_type": "code",
   "execution_count": 70,
   "metadata": {},
   "outputs": [
    {
     "data": {
      "image/png": "[encoded data removed]",
      "text/plain": [
       "<Figure size 2000x1000 with 1 Axes>"
      ]
     },
     "metadata": {},
     "output_type": "display_data"
    }
   ],
   "source": [
    "# Gráfico da quantidade de carros por tipo de engrenagem\n",
    "plt.figure(figsize=(20,10)) # Aumentar o tamanho da figura na saída dos dados\n",
    "grafico_2 = plt.bar(valores_contados_2.index, valores_contados_2.values) \n",
    "plt.title('Quantidade de carros por engrenagem') # plt.title para inserir título no gráfico\n",
    "plt.ylabel('Total de carros'); # # plt.ylabel para inserir título no gráfico\n",
    "plt.bar_label(grafico_2, size=10);"
   ]
  },
  {
   "cell_type": "code",
   "execution_count": 71,
   "metadata": {},
   "outputs": [
    {
     "data": {
      "text/html": [
       "<div>\n",
       "<style scoped>\n",
       "    .dataframe tbody tr th:only-of-type {\n",
       "        vertical-align: middle;\n",
       "    }\n",
       "\n",
       "    .dataframe tbody tr th {\n",
       "        vertical-align: top;\n",
       "    }\n",
       "\n",
       "    .dataframe thead th {\n",
       "        text-align: right;\n",
       "    }\n",
       "</style>\n",
       "<table border=\"1\" class=\"dataframe\">\n",
       "  <thead>\n",
       "    <tr style=\"text-align: right;\">\n",
       "      <th></th>\n",
       "      <th>year_of_reference</th>\n",
       "      <th>month_of_reference</th>\n",
       "      <th>fipe_code</th>\n",
       "      <th>authentication</th>\n",
       "      <th>brand</th>\n",
       "      <th>model</th>\n",
       "      <th>fuel</th>\n",
       "      <th>gear</th>\n",
       "      <th>engine_size</th>\n",
       "      <th>year_model</th>\n",
       "      <th>avg_price_brl</th>\n",
       "    </tr>\n",
       "  </thead>\n",
       "  <tbody>\n",
       "    <tr>\n",
       "      <th>0</th>\n",
       "      <td>2021.0</td>\n",
       "      <td>January</td>\n",
       "      <td>004001-0</td>\n",
       "      <td>cfzlctzfwrcp</td>\n",
       "      <td>GM - Chevrolet</td>\n",
       "      <td>Corsa Wind 1.0 MPFI / EFI 2p</td>\n",
       "      <td>Gasoline</td>\n",
       "      <td>manual</td>\n",
       "      <td>1</td>\n",
       "      <td>2002.0</td>\n",
       "      <td>9162.0</td>\n",
       "    </tr>\n",
       "    <tr>\n",
       "      <th>1</th>\n",
       "      <td>2021.0</td>\n",
       "      <td>January</td>\n",
       "      <td>004001-0</td>\n",
       "      <td>cdqwxwpw3y2p</td>\n",
       "      <td>GM - Chevrolet</td>\n",
       "      <td>Corsa Wind 1.0 MPFI / EFI 2p</td>\n",
       "      <td>Gasoline</td>\n",
       "      <td>manual</td>\n",
       "      <td>1</td>\n",
       "      <td>2001.0</td>\n",
       "      <td>8832.0</td>\n",
       "    </tr>\n",
       "    <tr>\n",
       "      <th>2</th>\n",
       "      <td>2021.0</td>\n",
       "      <td>January</td>\n",
       "      <td>004001-0</td>\n",
       "      <td>cb1t3xwwj1xp</td>\n",
       "      <td>GM - Chevrolet</td>\n",
       "      <td>Corsa Wind 1.0 MPFI / EFI 2p</td>\n",
       "      <td>Gasoline</td>\n",
       "      <td>manual</td>\n",
       "      <td>1</td>\n",
       "      <td>2000.0</td>\n",
       "      <td>8388.0</td>\n",
       "    </tr>\n",
       "    <tr>\n",
       "      <th>3</th>\n",
       "      <td>2021.0</td>\n",
       "      <td>January</td>\n",
       "      <td>004001-0</td>\n",
       "      <td>cb9gct6j65r0</td>\n",
       "      <td>GM - Chevrolet</td>\n",
       "      <td>Corsa Wind 1.0 MPFI / EFI 2p</td>\n",
       "      <td>Alcohol</td>\n",
       "      <td>manual</td>\n",
       "      <td>1</td>\n",
       "      <td>2000.0</td>\n",
       "      <td>8453.0</td>\n",
       "    </tr>\n",
       "    <tr>\n",
       "      <th>4</th>\n",
       "      <td>2021.0</td>\n",
       "      <td>January</td>\n",
       "      <td>004003-7</td>\n",
       "      <td>g15wg0gbz1fx</td>\n",
       "      <td>GM - Chevrolet</td>\n",
       "      <td>Corsa Pick-Up GL/ Champ 1.6 MPFI / EFI</td>\n",
       "      <td>Gasoline</td>\n",
       "      <td>manual</td>\n",
       "      <td>1,6</td>\n",
       "      <td>2001.0</td>\n",
       "      <td>12525.0</td>\n",
       "    </tr>\n",
       "  </tbody>\n",
       "</table>\n",
       "</div>"
      ],
      "text/plain": [
       "   year_of_reference month_of_reference fipe_code authentication  \\\n",
       "0             2021.0            January  004001-0   cfzlctzfwrcp   \n",
       "1             2021.0            January  004001-0   cdqwxwpw3y2p   \n",
       "2             2021.0            January  004001-0   cb1t3xwwj1xp   \n",
       "3             2021.0            January  004001-0   cb9gct6j65r0   \n",
       "4             2021.0            January  004003-7   g15wg0gbz1fx   \n",
       "\n",
       "            brand                                   model      fuel    gear  \\\n",
       "0  GM - Chevrolet            Corsa Wind 1.0 MPFI / EFI 2p  Gasoline  manual   \n",
       "1  GM - Chevrolet            Corsa Wind 1.0 MPFI / EFI 2p  Gasoline  manual   \n",
       "2  GM - Chevrolet            Corsa Wind 1.0 MPFI / EFI 2p  Gasoline  manual   \n",
       "3  GM - Chevrolet            Corsa Wind 1.0 MPFI / EFI 2p   Alcohol  manual   \n",
       "4  GM - Chevrolet  Corsa Pick-Up GL/ Champ 1.6 MPFI / EFI  Gasoline  manual   \n",
       "\n",
       "  engine_size  year_model  avg_price_brl  \n",
       "0           1      2002.0         9162.0  \n",
       "1           1      2001.0         8832.0  \n",
       "2           1      2000.0         8388.0  \n",
       "3           1      2000.0         8453.0  \n",
       "4         1,6      2001.0        12525.0  "
      ]
     },
     "execution_count": 71,
     "metadata": {},
     "output_type": "execute_result"
    }
   ],
   "source": [
    "dados.head()"
   ]
  },
  {
   "cell_type": "code",
   "execution_count": 72,
   "metadata": {},
   "outputs": [
    {
     "data": {
      "text/plain": [
       "year_of_reference  month_of_reference\n",
       "2021.0             April                 44451.0\n",
       "                   August                49363.0\n",
       "                   December              53674.0\n",
       "                   February              42411.0\n",
       "                   January               42160.0\n",
       "                   July                  48163.0\n",
       "                   June                  46882.0\n",
       "                   March                 43147.0\n",
       "                   May                   45074.0\n",
       "                   November              52689.0\n",
       "                   October               51532.0\n",
       "                   September             50554.0\n",
       "2022.0             April                 57150.0\n",
       "                   August                57924.0\n",
       "                   December              57997.0\n",
       "                   February              55825.0\n",
       "                   January               54840.0\n",
       "                   July                  57894.0\n",
       "                   June                  58066.0\n",
       "                   March                 56849.0\n",
       "                   May                   57800.0\n",
       "                   November              58216.0\n",
       "                   October               58227.0\n",
       "                   September             58199.0\n",
       "2023.0             January               58412.0\n",
       "Name: avg_price_brl, dtype: float64"
      ]
     },
     "execution_count": 72,
     "metadata": {},
     "output_type": "execute_result"
    }
   ],
   "source": [
    "# Calculando a média de preço de carro por mês ao longo de 2022 ???????????????????????????????? VER COMO A ANA FEZ, O CODIGO DELA FUNCIONOU, DO DANIEL TAMBEM!\n",
    "media_preco_carros = dados.groupby(['year_of_reference','month_of_reference'])['avg_price_brl'].mean().round(0)\n",
    "media_preco_carros.head(30)"
   ]
  },
  {
   "cell_type": "code",
   "execution_count": 73,
   "metadata": {},
   "outputs": [
    {
     "ename": "TypeError",
     "evalue": "Data source must be a DataFrame or Mapping, not <class 'pandas.core.series.Series'>.",
     "output_type": "error",
     "traceback": [
      "\u001b[0;31m---------------------------------------------------------------------------\u001b[0m",
      "\u001b[0;31mTypeError\u001b[0m                                 Traceback (most recent call last)",
      "Cell \u001b[0;32mIn[73], line 2\u001b[0m\n\u001b[1;32m      1\u001b[0m plt\u001b[38;5;241m.\u001b[39mfigure(figsize\u001b[38;5;241m=\u001b[39m(\u001b[38;5;241m20\u001b[39m,\u001b[38;5;241m10\u001b[39m)) \u001b[38;5;66;03m# Aumentar tamanho da imagem que será impressa na tela\u001b[39;00m\n\u001b[0;32m----> 2\u001b[0m \u001b[43msns\u001b[49m\u001b[38;5;241;43m.\u001b[39;49m\u001b[43mbarplot\u001b[49m\u001b[43m(\u001b[49m\u001b[43mx\u001b[49m\u001b[38;5;241;43m=\u001b[39;49m\u001b[38;5;124;43m'\u001b[39;49m\u001b[38;5;124;43mmonth_of_reference\u001b[39;49m\u001b[38;5;124;43m'\u001b[39;49m\u001b[43m,\u001b[49m\u001b[43m \u001b[49m\u001b[43my\u001b[49m\u001b[38;5;241;43m=\u001b[39;49m\u001b[38;5;124;43m'\u001b[39;49m\u001b[38;5;124;43mavg_price_brl\u001b[39;49m\u001b[38;5;124;43m'\u001b[39;49m\u001b[43m,\u001b[49m\u001b[43m \u001b[49m\u001b[43mhue\u001b[49m\u001b[38;5;241;43m=\u001b[39;49m\u001b[38;5;124;43m'\u001b[39;49m\u001b[38;5;124;43mavg_price_brl\u001b[39;49m\u001b[38;5;124;43m'\u001b[39;49m\u001b[43m,\u001b[49m\u001b[43m \u001b[49m\u001b[43mdata\u001b[49m\u001b[38;5;241;43m=\u001b[39;49m\u001b[43mmedia_preco_carros\u001b[49m\u001b[43m,\u001b[49m\u001b[43m \u001b[49m\u001b[43mhue_order\u001b[49m\u001b[38;5;241;43m=\u001b[39;49m\u001b[43m[\u001b[49m\u001b[38;5;124;43m'\u001b[39;49m\u001b[38;5;124;43m2022.0\u001b[39;49m\u001b[38;5;124;43m'\u001b[39;49m\u001b[43m]\u001b[49m\u001b[43m)\u001b[49m\n\u001b[1;32m      3\u001b[0m plt\u001b[38;5;241m.\u001b[39mxticks(rotation\u001b[38;5;241m=\u001b[39m\u001b[38;5;241m45\u001b[39m);\n",
      "File \u001b[0;32m~/.local/lib/python3.10/site-packages/seaborn/categorical.py:2341\u001b[0m, in \u001b[0;36mbarplot\u001b[0;34m(data, x, y, hue, order, hue_order, estimator, errorbar, n_boot, seed, units, weights, orient, color, palette, saturation, fill, hue_norm, width, dodge, gap, log_scale, native_scale, formatter, legend, capsize, err_kws, ci, errcolor, errwidth, ax, **kwargs)\u001b[0m\n\u001b[1;32m   2338\u001b[0m \u001b[38;5;28;01mif\u001b[39;00m estimator \u001b[38;5;129;01mis\u001b[39;00m \u001b[38;5;28mlen\u001b[39m:\n\u001b[1;32m   2339\u001b[0m     estimator \u001b[38;5;241m=\u001b[39m \u001b[38;5;124m\"\u001b[39m\u001b[38;5;124msize\u001b[39m\u001b[38;5;124m\"\u001b[39m\n\u001b[0;32m-> 2341\u001b[0m p \u001b[38;5;241m=\u001b[39m \u001b[43m_CategoricalAggPlotter\u001b[49m\u001b[43m(\u001b[49m\n\u001b[1;32m   2342\u001b[0m \u001b[43m    \u001b[49m\u001b[43mdata\u001b[49m\u001b[38;5;241;43m=\u001b[39;49m\u001b[43mdata\u001b[49m\u001b[43m,\u001b[49m\n\u001b[1;32m   2343\u001b[0m \u001b[43m    \u001b[49m\u001b[43mvariables\u001b[49m\u001b[38;5;241;43m=\u001b[39;49m\u001b[38;5;28;43mdict\u001b[39;49m\u001b[43m(\u001b[49m\u001b[43mx\u001b[49m\u001b[38;5;241;43m=\u001b[39;49m\u001b[43mx\u001b[49m\u001b[43m,\u001b[49m\u001b[43m \u001b[49m\u001b[43my\u001b[49m\u001b[38;5;241;43m=\u001b[39;49m\u001b[43my\u001b[49m\u001b[43m,\u001b[49m\u001b[43m \u001b[49m\u001b[43mhue\u001b[49m\u001b[38;5;241;43m=\u001b[39;49m\u001b[43mhue\u001b[49m\u001b[43m,\u001b[49m\u001b[43m \u001b[49m\u001b[43munits\u001b[49m\u001b[38;5;241;43m=\u001b[39;49m\u001b[43munits\u001b[49m\u001b[43m,\u001b[49m\u001b[43m \u001b[49m\u001b[43mweight\u001b[49m\u001b[38;5;241;43m=\u001b[39;49m\u001b[43mweights\u001b[49m\u001b[43m)\u001b[49m\u001b[43m,\u001b[49m\n\u001b[1;32m   2344\u001b[0m \u001b[43m    \u001b[49m\u001b[43morder\u001b[49m\u001b[38;5;241;43m=\u001b[39;49m\u001b[43morder\u001b[49m\u001b[43m,\u001b[49m\n\u001b[1;32m   2345\u001b[0m \u001b[43m    \u001b[49m\u001b[43morient\u001b[49m\u001b[38;5;241;43m=\u001b[39;49m\u001b[43morient\u001b[49m\u001b[43m,\u001b[49m\n\u001b[1;32m   2346\u001b[0m \u001b[43m    \u001b[49m\u001b[43mcolor\u001b[49m\u001b[38;5;241;43m=\u001b[39;49m\u001b[43mcolor\u001b[49m\u001b[43m,\u001b[49m\n\u001b[1;32m   2347\u001b[0m \u001b[43m    \u001b[49m\u001b[43mlegend\u001b[49m\u001b[38;5;241;43m=\u001b[39;49m\u001b[43mlegend\u001b[49m\u001b[43m,\u001b[49m\n\u001b[1;32m   2348\u001b[0m \u001b[43m\u001b[49m\u001b[43m)\u001b[49m\n\u001b[1;32m   2350\u001b[0m \u001b[38;5;28;01mif\u001b[39;00m ax \u001b[38;5;129;01mis\u001b[39;00m \u001b[38;5;28;01mNone\u001b[39;00m:\n\u001b[1;32m   2351\u001b[0m     ax \u001b[38;5;241m=\u001b[39m plt\u001b[38;5;241m.\u001b[39mgca()\n",
      "File \u001b[0;32m~/.local/lib/python3.10/site-packages/seaborn/categorical.py:67\u001b[0m, in \u001b[0;36m_CategoricalPlotter.__init__\u001b[0;34m(self, data, variables, order, orient, require_numeric, color, legend)\u001b[0m\n\u001b[1;32m     56\u001b[0m \u001b[38;5;28;01mdef\u001b[39;00m \u001b[38;5;21m__init__\u001b[39m(\n\u001b[1;32m     57\u001b[0m     \u001b[38;5;28mself\u001b[39m,\n\u001b[1;32m     58\u001b[0m     data\u001b[38;5;241m=\u001b[39m\u001b[38;5;28;01mNone\u001b[39;00m,\n\u001b[0;32m   (...)\u001b[0m\n\u001b[1;32m     64\u001b[0m     legend\u001b[38;5;241m=\u001b[39m\u001b[38;5;124m\"\u001b[39m\u001b[38;5;124mauto\u001b[39m\u001b[38;5;124m\"\u001b[39m,\n\u001b[1;32m     65\u001b[0m ):\n\u001b[0;32m---> 67\u001b[0m     \u001b[38;5;28;43msuper\u001b[39;49m\u001b[43m(\u001b[49m\u001b[43m)\u001b[49m\u001b[38;5;241;43m.\u001b[39;49m\u001b[38;5;21;43m__init__\u001b[39;49m\u001b[43m(\u001b[49m\u001b[43mdata\u001b[49m\u001b[38;5;241;43m=\u001b[39;49m\u001b[43mdata\u001b[49m\u001b[43m,\u001b[49m\u001b[43m \u001b[49m\u001b[43mvariables\u001b[49m\u001b[38;5;241;43m=\u001b[39;49m\u001b[43mvariables\u001b[49m\u001b[43m)\u001b[49m\n\u001b[1;32m     69\u001b[0m     \u001b[38;5;66;03m# This method takes care of some bookkeeping that is necessary because the\u001b[39;00m\n\u001b[1;32m     70\u001b[0m     \u001b[38;5;66;03m# original categorical plots (prior to the 2021 refactor) had some rules that\u001b[39;00m\n\u001b[1;32m     71\u001b[0m     \u001b[38;5;66;03m# don't fit exactly into VectorPlotter logic. It may be wise to have a second\u001b[39;00m\n\u001b[0;32m   (...)\u001b[0m\n\u001b[1;32m     76\u001b[0m     \u001b[38;5;66;03m# default VectorPlotter rules. If we do decide to make orient part of the\u001b[39;00m\n\u001b[1;32m     77\u001b[0m     \u001b[38;5;66;03m# _base variable assignment, we'll want to figure out how to express that.\u001b[39;00m\n\u001b[1;32m     78\u001b[0m     \u001b[38;5;28;01mif\u001b[39;00m \u001b[38;5;28mself\u001b[39m\u001b[38;5;241m.\u001b[39minput_format \u001b[38;5;241m==\u001b[39m \u001b[38;5;124m\"\u001b[39m\u001b[38;5;124mwide\u001b[39m\u001b[38;5;124m\"\u001b[39m \u001b[38;5;129;01mand\u001b[39;00m orient \u001b[38;5;129;01min\u001b[39;00m [\u001b[38;5;124m\"\u001b[39m\u001b[38;5;124mh\u001b[39m\u001b[38;5;124m\"\u001b[39m, \u001b[38;5;124m\"\u001b[39m\u001b[38;5;124my\u001b[39m\u001b[38;5;124m\"\u001b[39m]:\n",
      "File \u001b[0;32m~/.local/lib/python3.10/site-packages/seaborn/_base.py:634\u001b[0m, in \u001b[0;36mVectorPlotter.__init__\u001b[0;34m(self, data, variables)\u001b[0m\n\u001b[1;32m    629\u001b[0m \u001b[38;5;66;03m# var_ordered is relevant only for categorical axis variables, and may\u001b[39;00m\n\u001b[1;32m    630\u001b[0m \u001b[38;5;66;03m# be better handled by an internal axis information object that tracks\u001b[39;00m\n\u001b[1;32m    631\u001b[0m \u001b[38;5;66;03m# such information and is set up by the scale_* methods. The analogous\u001b[39;00m\n\u001b[1;32m    632\u001b[0m \u001b[38;5;66;03m# information for numeric axes would be information about log scales.\u001b[39;00m\n\u001b[1;32m    633\u001b[0m \u001b[38;5;28mself\u001b[39m\u001b[38;5;241m.\u001b[39m_var_ordered \u001b[38;5;241m=\u001b[39m {\u001b[38;5;124m\"\u001b[39m\u001b[38;5;124mx\u001b[39m\u001b[38;5;124m\"\u001b[39m: \u001b[38;5;28;01mFalse\u001b[39;00m, \u001b[38;5;124m\"\u001b[39m\u001b[38;5;124my\u001b[39m\u001b[38;5;124m\"\u001b[39m: \u001b[38;5;28;01mFalse\u001b[39;00m}  \u001b[38;5;66;03m# alt., used DefaultDict\u001b[39;00m\n\u001b[0;32m--> 634\u001b[0m \u001b[38;5;28;43mself\u001b[39;49m\u001b[38;5;241;43m.\u001b[39;49m\u001b[43massign_variables\u001b[49m\u001b[43m(\u001b[49m\u001b[43mdata\u001b[49m\u001b[43m,\u001b[49m\u001b[43m \u001b[49m\u001b[43mvariables\u001b[49m\u001b[43m)\u001b[49m\n\u001b[1;32m    636\u001b[0m \u001b[38;5;66;03m# TODO Lots of tests assume that these are called to initialize the\u001b[39;00m\n\u001b[1;32m    637\u001b[0m \u001b[38;5;66;03m# mappings to default values on class initialization. I'd prefer to\u001b[39;00m\n\u001b[1;32m    638\u001b[0m \u001b[38;5;66;03m# move away from that and only have a mapping when explicitly called.\u001b[39;00m\n\u001b[1;32m    639\u001b[0m \u001b[38;5;28;01mfor\u001b[39;00m var \u001b[38;5;129;01min\u001b[39;00m [\u001b[38;5;124m\"\u001b[39m\u001b[38;5;124mhue\u001b[39m\u001b[38;5;124m\"\u001b[39m, \u001b[38;5;124m\"\u001b[39m\u001b[38;5;124msize\u001b[39m\u001b[38;5;124m\"\u001b[39m, \u001b[38;5;124m\"\u001b[39m\u001b[38;5;124mstyle\u001b[39m\u001b[38;5;124m\"\u001b[39m]:\n",
      "File \u001b[0;32m~/.local/lib/python3.10/site-packages/seaborn/_base.py:679\u001b[0m, in \u001b[0;36mVectorPlotter.assign_variables\u001b[0;34m(self, data, variables)\u001b[0m\n\u001b[1;32m    674\u001b[0m \u001b[38;5;28;01melse\u001b[39;00m:\n\u001b[1;32m    675\u001b[0m     \u001b[38;5;66;03m# When dealing with long-form input, use the newer PlotData\u001b[39;00m\n\u001b[1;32m    676\u001b[0m     \u001b[38;5;66;03m# object (internal but introduced for the objects interface)\u001b[39;00m\n\u001b[1;32m    677\u001b[0m     \u001b[38;5;66;03m# to centralize / standardize data consumption logic.\u001b[39;00m\n\u001b[1;32m    678\u001b[0m     \u001b[38;5;28mself\u001b[39m\u001b[38;5;241m.\u001b[39minput_format \u001b[38;5;241m=\u001b[39m \u001b[38;5;124m\"\u001b[39m\u001b[38;5;124mlong\u001b[39m\u001b[38;5;124m\"\u001b[39m\n\u001b[0;32m--> 679\u001b[0m     plot_data \u001b[38;5;241m=\u001b[39m \u001b[43mPlotData\u001b[49m\u001b[43m(\u001b[49m\u001b[43mdata\u001b[49m\u001b[43m,\u001b[49m\u001b[43m \u001b[49m\u001b[43mvariables\u001b[49m\u001b[43m)\u001b[49m\n\u001b[1;32m    680\u001b[0m     frame \u001b[38;5;241m=\u001b[39m plot_data\u001b[38;5;241m.\u001b[39mframe\n\u001b[1;32m    681\u001b[0m     names \u001b[38;5;241m=\u001b[39m plot_data\u001b[38;5;241m.\u001b[39mnames\n",
      "File \u001b[0;32m~/.local/lib/python3.10/site-packages/seaborn/_core/data.py:57\u001b[0m, in \u001b[0;36mPlotData.__init__\u001b[0;34m(self, data, variables)\u001b[0m\n\u001b[1;32m     51\u001b[0m \u001b[38;5;28;01mdef\u001b[39;00m \u001b[38;5;21m__init__\u001b[39m(\n\u001b[1;32m     52\u001b[0m     \u001b[38;5;28mself\u001b[39m,\n\u001b[1;32m     53\u001b[0m     data: DataSource,\n\u001b[1;32m     54\u001b[0m     variables: \u001b[38;5;28mdict\u001b[39m[\u001b[38;5;28mstr\u001b[39m, VariableSpec],\n\u001b[1;32m     55\u001b[0m ):\n\u001b[0;32m---> 57\u001b[0m     data \u001b[38;5;241m=\u001b[39m \u001b[43mhandle_data_source\u001b[49m\u001b[43m(\u001b[49m\u001b[43mdata\u001b[49m\u001b[43m)\u001b[49m\n\u001b[1;32m     58\u001b[0m     frame, names, ids \u001b[38;5;241m=\u001b[39m \u001b[38;5;28mself\u001b[39m\u001b[38;5;241m.\u001b[39m_assign_variables(data, variables)\n\u001b[1;32m     60\u001b[0m     \u001b[38;5;28mself\u001b[39m\u001b[38;5;241m.\u001b[39mframe \u001b[38;5;241m=\u001b[39m frame\n",
      "File \u001b[0;32m~/.local/lib/python3.10/site-packages/seaborn/_core/data.py:278\u001b[0m, in \u001b[0;36mhandle_data_source\u001b[0;34m(data)\u001b[0m\n\u001b[1;32m    276\u001b[0m \u001b[38;5;28;01melif\u001b[39;00m data \u001b[38;5;129;01mis\u001b[39;00m \u001b[38;5;129;01mnot\u001b[39;00m \u001b[38;5;28;01mNone\u001b[39;00m \u001b[38;5;129;01mand\u001b[39;00m \u001b[38;5;129;01mnot\u001b[39;00m \u001b[38;5;28misinstance\u001b[39m(data, Mapping):\n\u001b[1;32m    277\u001b[0m     err \u001b[38;5;241m=\u001b[39m \u001b[38;5;124mf\u001b[39m\u001b[38;5;124m\"\u001b[39m\u001b[38;5;124mData source must be a DataFrame or Mapping, not \u001b[39m\u001b[38;5;132;01m{\u001b[39;00m\u001b[38;5;28mtype\u001b[39m(data)\u001b[38;5;132;01m!r}\u001b[39;00m\u001b[38;5;124m.\u001b[39m\u001b[38;5;124m\"\u001b[39m\n\u001b[0;32m--> 278\u001b[0m     \u001b[38;5;28;01mraise\u001b[39;00m \u001b[38;5;167;01mTypeError\u001b[39;00m(err)\n\u001b[1;32m    280\u001b[0m \u001b[38;5;28;01mreturn\u001b[39;00m data\n",
      "\u001b[0;31mTypeError\u001b[0m: Data source must be a DataFrame or Mapping, not <class 'pandas.core.series.Series'>."
     ]
    },
    {
     "data": {
      "text/plain": [
       "<Figure size 2000x1000 with 0 Axes>"
      ]
     },
     "metadata": {},
     "output_type": "display_data"
    }
   ],
   "source": [
    "plt.figure(figsize=(20,10)) # Aumentar tamanho da imagem que será impressa na tela\n",
    "sns.barplot(x='month_of_reference', y='avg_price_brl', hue='avg_price_brl', data=media_preco_carros, hue_order=['2022.0'])\n",
    "plt.xticks(rotation=45);"
   ]
  },
  {
   "cell_type": "code",
   "execution_count": 83,
   "metadata": {},
   "outputs": [
    {
     "data": {
      "text/plain": [
       "brand            gear     \n",
       "Fiat             automatic    97397.0\n",
       "                 manual       39694.0\n",
       "Ford             automatic    84769.0\n",
       "                 manual       51784.0\n",
       "GM - Chevrolet   automatic    88157.0\n",
       "                 manual       52119.0\n",
       "Nissan           automatic    94231.0\n",
       "                 manual       52681.0\n",
       "Renault          automatic    44028.0\n",
       "                 manual       47649.0\n",
       "VW - VolksWagen  automatic    99735.0\n",
       "                 manual       40390.0\n",
       "Name: avg_price_brl, dtype: float64"
      ]
     },
     "execution_count": 83,
     "metadata": {},
     "output_type": "execute_result"
    }
   ],
   "source": [
    "# Calculando a distribuição da média de preço dos carros por marca e tipo de engrenagem\n",
    "media_preco_carros_2 = dados.groupby(['brand','gear'])['avg_price_brl'].mean().round(0)\n",
    "media_preco_carros_2.head(40)"
   ]
  },
  {
   "cell_type": "code",
   "execution_count": 84,
   "metadata": {},
   "outputs": [
    {
     "data": {
      "text/html": [
       "<div>\n",
       "<style scoped>\n",
       "    .dataframe tbody tr th:only-of-type {\n",
       "        vertical-align: middle;\n",
       "    }\n",
       "\n",
       "    .dataframe tbody tr th {\n",
       "        vertical-align: top;\n",
       "    }\n",
       "\n",
       "    .dataframe thead th {\n",
       "        text-align: right;\n",
       "    }\n",
       "</style>\n",
       "<table border=\"1\" class=\"dataframe\">\n",
       "  <thead>\n",
       "    <tr style=\"text-align: right;\">\n",
       "      <th></th>\n",
       "      <th>brand</th>\n",
       "      <th>gear</th>\n",
       "      <th>Valor médio</th>\n",
       "    </tr>\n",
       "  </thead>\n",
       "  <tbody>\n",
       "    <tr>\n",
       "      <th>0</th>\n",
       "      <td>Fiat</td>\n",
       "      <td>automatic</td>\n",
       "      <td>97397.0</td>\n",
       "    </tr>\n",
       "    <tr>\n",
       "      <th>1</th>\n",
       "      <td>Fiat</td>\n",
       "      <td>manual</td>\n",
       "      <td>39694.0</td>\n",
       "    </tr>\n",
       "    <tr>\n",
       "      <th>2</th>\n",
       "      <td>Ford</td>\n",
       "      <td>automatic</td>\n",
       "      <td>84769.0</td>\n",
       "    </tr>\n",
       "    <tr>\n",
       "      <th>3</th>\n",
       "      <td>Ford</td>\n",
       "      <td>manual</td>\n",
       "      <td>51784.0</td>\n",
       "    </tr>\n",
       "    <tr>\n",
       "      <th>4</th>\n",
       "      <td>GM - Chevrolet</td>\n",
       "      <td>automatic</td>\n",
       "      <td>88157.0</td>\n",
       "    </tr>\n",
       "  </tbody>\n",
       "</table>\n",
       "</div>"
      ],
      "text/plain": [
       "            brand       gear  Valor médio\n",
       "0            Fiat  automatic      97397.0\n",
       "1            Fiat     manual      39694.0\n",
       "2            Ford  automatic      84769.0\n",
       "3            Ford     manual      51784.0\n",
       "4  GM - Chevrolet  automatic      88157.0"
      ]
     },
     "execution_count": 84,
     "metadata": {},
     "output_type": "execute_result"
    }
   ],
   "source": [
    "# Reset index\n",
    "media_preco_carros_2 = media_preco_carros_2.reset_index(name='Valor médio')\n",
    "media_preco_carros_2.head()"
   ]
  },
  {
   "cell_type": "code",
   "execution_count": 85,
   "metadata": {},
   "outputs": [
    {
     "data": {
      "image/png": "[encoded data removed]",
      "text/plain": [
       "<Figure size 2000x1000 with 1 Axes>"
      ]
     },
     "metadata": {},
     "output_type": "display_data"
    }
   ],
   "source": [
    "# Plotando a forma visual\n",
    "plt.figure(figsize=(20,10)) # Aumentar tamanho da imagem que será impressa na tela\n",
    "sns.barplot(x='brand', y='Valor médio', hue='gear', data=media_preco_carros_2, hue_order=['manual', 'automatic'])\n",
    "plt.xticks(rotation=45);"
   ]
  }
 ],
 "metadata": {
  "kernelspec": {
   "display_name": "Python 3",
   "language": "python",
   "name": "python3"
  },
  "language_info": {
   "codemirror_mode": {
    "name": "ipython",
    "version": 3
   },
   "file_extension": ".py",
   "mimetype": "text/x-python",
   "name": "python",
   "nbconvert_exporter": "python",
   "pygments_lexer": "ipython3",
   "version": "3.10.12"
  }
 },
 "nbformat": 4,
 "nbformat_minor": 2
}
